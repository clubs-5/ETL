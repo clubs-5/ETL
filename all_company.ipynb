{
 "metadata": {
  "language_info": {
   "codemirror_mode": {
    "name": "ipython",
    "version": 3
   },
   "file_extension": ".py",
   "mimetype": "text/x-python",
   "name": "python",
   "nbconvert_exporter": "python",
   "pygments_lexer": "ipython3",
   "version": "3.8.5-final"
  },
  "orig_nbformat": 2,
  "kernelspec": {
   "name": "python3",
   "display_name": "Python 3",
   "language": "python"
  }
 },
 "nbformat": 4,
 "nbformat_minor": 2,
 "cells": [
  {
   "cell_type": "code",
   "execution_count": 126,
   "metadata": {},
   "outputs": [],
   "source": [
    "import numpy as np\n",
    "import pandas as pd "
   ]
  },
  {
   "source": [
    "## input data: 所有影集公司資料(資料來源imdb)\n",
    "\n",
    "## goal:資料整理成可以與omdb資料表做合併\n",
    "\n",
    "## output:保留前三欄出產公司"
   ],
   "cell_type": "markdown",
   "metadata": {}
  },
  {
   "cell_type": "code",
   "execution_count": 5,
   "metadata": {},
   "outputs": [
    {
     "output_type": "execute_result",
     "data": {
      "text/plain": [
       "                                               finalist Company1  \\\n",
       "0           Dawson's Creek (TV Series 1998–2003) - IMDb      NaN   \n",
       "1             The Mandalorian (TV Series 2019– ) - IMDb      NaN   \n",
       "2                  Barbarians (TV Series 2020– ) - IMDb      NaN   \n",
       "3             Stranger Things (TV Series 2016– ) - IMDb      NaN   \n",
       "4             Breaking Bad (TV Series 2008–2013) - IMDb      NaN   \n",
       "...                                                 ...      ...   \n",
       "194864  Carson's Coffee Break (TV Series 1953– ) - IMDb      NaN   \n",
       "194865              A Quiet Vendetta (TV Series) - IMDb      NaN   \n",
       "194866         Grey's Anatomy (TV Series 2005– ) - IMDb      NaN   \n",
       "194867     Game of Thrones (TV Series 2011–2019) - IMDb      NaN   \n",
       "194868           A tu lado (TV Series 2002–2007) - IMDb      NaN   \n",
       "\n",
       "                            Company2                      Company3  \\\n",
       "0        Columbia TriStar Television   Columbia TriStar Television   \n",
       "1                    Golem Creations               Golem Creations   \n",
       "2                            Netflix                       Netflix   \n",
       "3                    Monkey Massacre               Monkey Massacre   \n",
       "4               Gran Via Productions          Gran Via Productions   \n",
       "...                              ...                           ...   \n",
       "194864                           NaN                           NaN   \n",
       "194865                           NaN                           NaN   \n",
       "194866       The Mark Gordon Company       The Mark Gordon Company   \n",
       "194867                Television 360                Television 360   \n",
       "194868                           NaN                           NaN   \n",
       "\n",
       "                         Company4                               Company5  \n",
       "0        Outerbanks Entertainment   Columbia TriStar Domestic Television  \n",
       "1          Fairview Entertainment                              Lucasfilm  \n",
       "2                         Gaumont                                    NaN  \n",
       "3           21 Laps Entertainment                                Netflix  \n",
       "4         High Bridge Productions               Sony Pictures Television  \n",
       "...                           ...                                    ...  \n",
       "194864                        NaN                                    NaN  \n",
       "194865                        NaN                                    NaN  \n",
       "194866                 Shondaland                  Touchstone Television  \n",
       "194867      Home Box Office (HBO)                           Grok! Studio  \n",
       "194868                 Martingala                                    NaN  \n",
       "\n",
       "[194869 rows x 6 columns]"
      ],
      "text/html": "<div>\n<style scoped>\n    .dataframe tbody tr th:only-of-type {\n        vertical-align: middle;\n    }\n\n    .dataframe tbody tr th {\n        vertical-align: top;\n    }\n\n    .dataframe thead th {\n        text-align: right;\n    }\n</style>\n<table border=\"1\" class=\"dataframe\">\n  <thead>\n    <tr style=\"text-align: right;\">\n      <th></th>\n      <th>finalist</th>\n      <th>Company1</th>\n      <th>Company2</th>\n      <th>Company3</th>\n      <th>Company4</th>\n      <th>Company5</th>\n    </tr>\n  </thead>\n  <tbody>\n    <tr>\n      <th>0</th>\n      <td>Dawson's Creek (TV Series 1998–2003) - IMDb</td>\n      <td>NaN</td>\n      <td>Columbia TriStar Television</td>\n      <td>Columbia TriStar Television</td>\n      <td>Outerbanks Entertainment</td>\n      <td>Columbia TriStar Domestic Television</td>\n    </tr>\n    <tr>\n      <th>1</th>\n      <td>The Mandalorian (TV Series 2019– ) - IMDb</td>\n      <td>NaN</td>\n      <td>Golem Creations</td>\n      <td>Golem Creations</td>\n      <td>Fairview Entertainment</td>\n      <td>Lucasfilm</td>\n    </tr>\n    <tr>\n      <th>2</th>\n      <td>Barbarians (TV Series 2020– ) - IMDb</td>\n      <td>NaN</td>\n      <td>Netflix</td>\n      <td>Netflix</td>\n      <td>Gaumont</td>\n      <td>NaN</td>\n    </tr>\n    <tr>\n      <th>3</th>\n      <td>Stranger Things (TV Series 2016– ) - IMDb</td>\n      <td>NaN</td>\n      <td>Monkey Massacre</td>\n      <td>Monkey Massacre</td>\n      <td>21 Laps Entertainment</td>\n      <td>Netflix</td>\n    </tr>\n    <tr>\n      <th>4</th>\n      <td>Breaking Bad (TV Series 2008–2013) - IMDb</td>\n      <td>NaN</td>\n      <td>Gran Via Productions</td>\n      <td>Gran Via Productions</td>\n      <td>High Bridge Productions</td>\n      <td>Sony Pictures Television</td>\n    </tr>\n    <tr>\n      <th>...</th>\n      <td>...</td>\n      <td>...</td>\n      <td>...</td>\n      <td>...</td>\n      <td>...</td>\n      <td>...</td>\n    </tr>\n    <tr>\n      <th>194864</th>\n      <td>Carson's Coffee Break (TV Series 1953– ) - IMDb</td>\n      <td>NaN</td>\n      <td>NaN</td>\n      <td>NaN</td>\n      <td>NaN</td>\n      <td>NaN</td>\n    </tr>\n    <tr>\n      <th>194865</th>\n      <td>A Quiet Vendetta (TV Series) - IMDb</td>\n      <td>NaN</td>\n      <td>NaN</td>\n      <td>NaN</td>\n      <td>NaN</td>\n      <td>NaN</td>\n    </tr>\n    <tr>\n      <th>194866</th>\n      <td>Grey's Anatomy (TV Series 2005– ) - IMDb</td>\n      <td>NaN</td>\n      <td>The Mark Gordon Company</td>\n      <td>The Mark Gordon Company</td>\n      <td>Shondaland</td>\n      <td>Touchstone Television</td>\n    </tr>\n    <tr>\n      <th>194867</th>\n      <td>Game of Thrones (TV Series 2011–2019) - IMDb</td>\n      <td>NaN</td>\n      <td>Television 360</td>\n      <td>Television 360</td>\n      <td>Home Box Office (HBO)</td>\n      <td>Grok! Studio</td>\n    </tr>\n    <tr>\n      <th>194868</th>\n      <td>A tu lado (TV Series 2002–2007) - IMDb</td>\n      <td>NaN</td>\n      <td>NaN</td>\n      <td>NaN</td>\n      <td>Martingala</td>\n      <td>NaN</td>\n    </tr>\n  </tbody>\n</table>\n<p>194869 rows × 6 columns</p>\n</div>"
     },
     "metadata": {},
     "execution_count": 5
    }
   ],
   "source": [
    "all_company = pd.read_csv('./all_company.csv')\n",
    "all_company"
   ]
  },
  {
   "source": [
    "## 先將原始資料做初步整理 Finalist 改名為Title"
   ],
   "cell_type": "markdown",
   "metadata": {}
  },
  {
   "cell_type": "code",
   "execution_count": 7,
   "metadata": {},
   "outputs": [
    {
     "output_type": "stream",
     "name": "stdout",
     "text": [
      "<class 'pandas.core.frame.DataFrame'>\nRangeIndex: 194869 entries, 0 to 194868\nData columns (total 6 columns):\n #   Column    Non-Null Count   Dtype \n---  ------    --------------   ----- \n 0   finalist  194869 non-null  object\n 1   Company1  24183 non-null   object\n 2   Company2  29283 non-null   object\n 3   Company3  29283 non-null   object\n 4   Company4  170997 non-null  object\n 5   Company5  9957 non-null    object\ndtypes: object(6)\nmemory usage: 8.9+ MB\n"
     ]
    }
   ],
   "source": [
    "all_company.info()"
   ]
  },
  {
   "cell_type": "code",
   "execution_count": 10,
   "metadata": {},
   "outputs": [],
   "source": [
    "all_company.rename(columns={\"finalist\":'Title'},inplace =True)"
   ]
  },
  {
   "source": [
    "## 將欄位影集名稱篩選出來"
   ],
   "cell_type": "markdown",
   "metadata": {}
  },
  {
   "cell_type": "code",
   "execution_count": 16,
   "metadata": {},
   "outputs": [],
   "source": [
    "all_company.Title = all_company.Title.str.split('(').str.get(0)"
   ]
  },
  {
   "cell_type": "code",
   "execution_count": 17,
   "metadata": {},
   "outputs": [
    {
     "output_type": "execute_result",
     "data": {
      "text/plain": [
       "                         Title Company1                      Company2  \\\n",
       "0              Dawson's Creek       NaN   Columbia TriStar Television   \n",
       "1             The Mandalorian       NaN               Golem Creations   \n",
       "2                  Barbarians       NaN                       Netflix   \n",
       "3             Stranger Things       NaN               Monkey Massacre   \n",
       "4                Breaking Bad       NaN          Gran Via Productions   \n",
       "...                        ...      ...                           ...   \n",
       "194864  Carson's Coffee Break       NaN                           NaN   \n",
       "194865       A Quiet Vendetta       NaN                           NaN   \n",
       "194866         Grey's Anatomy       NaN       The Mark Gordon Company   \n",
       "194867        Game of Thrones       NaN                Television 360   \n",
       "194868              A tu lado       NaN                           NaN   \n",
       "\n",
       "                            Company3                   Company4  \\\n",
       "0        Columbia TriStar Television   Outerbanks Entertainment   \n",
       "1                    Golem Creations     Fairview Entertainment   \n",
       "2                            Netflix                    Gaumont   \n",
       "3                    Monkey Massacre      21 Laps Entertainment   \n",
       "4               Gran Via Productions    High Bridge Productions   \n",
       "...                              ...                        ...   \n",
       "194864                           NaN                        NaN   \n",
       "194865                           NaN                        NaN   \n",
       "194866       The Mark Gordon Company                 Shondaland   \n",
       "194867                Television 360      Home Box Office (HBO)   \n",
       "194868                           NaN                 Martingala   \n",
       "\n",
       "                                     Company5  \n",
       "0        Columbia TriStar Domestic Television  \n",
       "1                                   Lucasfilm  \n",
       "2                                         NaN  \n",
       "3                                     Netflix  \n",
       "4                    Sony Pictures Television  \n",
       "...                                       ...  \n",
       "194864                                    NaN  \n",
       "194865                                    NaN  \n",
       "194866                  Touchstone Television  \n",
       "194867                           Grok! Studio  \n",
       "194868                                    NaN  \n",
       "\n",
       "[194869 rows x 6 columns]"
      ],
      "text/html": "<div>\n<style scoped>\n    .dataframe tbody tr th:only-of-type {\n        vertical-align: middle;\n    }\n\n    .dataframe tbody tr th {\n        vertical-align: top;\n    }\n\n    .dataframe thead th {\n        text-align: right;\n    }\n</style>\n<table border=\"1\" class=\"dataframe\">\n  <thead>\n    <tr style=\"text-align: right;\">\n      <th></th>\n      <th>Title</th>\n      <th>Company1</th>\n      <th>Company2</th>\n      <th>Company3</th>\n      <th>Company4</th>\n      <th>Company5</th>\n    </tr>\n  </thead>\n  <tbody>\n    <tr>\n      <th>0</th>\n      <td>Dawson's Creek</td>\n      <td>NaN</td>\n      <td>Columbia TriStar Television</td>\n      <td>Columbia TriStar Television</td>\n      <td>Outerbanks Entertainment</td>\n      <td>Columbia TriStar Domestic Television</td>\n    </tr>\n    <tr>\n      <th>1</th>\n      <td>The Mandalorian</td>\n      <td>NaN</td>\n      <td>Golem Creations</td>\n      <td>Golem Creations</td>\n      <td>Fairview Entertainment</td>\n      <td>Lucasfilm</td>\n    </tr>\n    <tr>\n      <th>2</th>\n      <td>Barbarians</td>\n      <td>NaN</td>\n      <td>Netflix</td>\n      <td>Netflix</td>\n      <td>Gaumont</td>\n      <td>NaN</td>\n    </tr>\n    <tr>\n      <th>3</th>\n      <td>Stranger Things</td>\n      <td>NaN</td>\n      <td>Monkey Massacre</td>\n      <td>Monkey Massacre</td>\n      <td>21 Laps Entertainment</td>\n      <td>Netflix</td>\n    </tr>\n    <tr>\n      <th>4</th>\n      <td>Breaking Bad</td>\n      <td>NaN</td>\n      <td>Gran Via Productions</td>\n      <td>Gran Via Productions</td>\n      <td>High Bridge Productions</td>\n      <td>Sony Pictures Television</td>\n    </tr>\n    <tr>\n      <th>...</th>\n      <td>...</td>\n      <td>...</td>\n      <td>...</td>\n      <td>...</td>\n      <td>...</td>\n      <td>...</td>\n    </tr>\n    <tr>\n      <th>194864</th>\n      <td>Carson's Coffee Break</td>\n      <td>NaN</td>\n      <td>NaN</td>\n      <td>NaN</td>\n      <td>NaN</td>\n      <td>NaN</td>\n    </tr>\n    <tr>\n      <th>194865</th>\n      <td>A Quiet Vendetta</td>\n      <td>NaN</td>\n      <td>NaN</td>\n      <td>NaN</td>\n      <td>NaN</td>\n      <td>NaN</td>\n    </tr>\n    <tr>\n      <th>194866</th>\n      <td>Grey's Anatomy</td>\n      <td>NaN</td>\n      <td>The Mark Gordon Company</td>\n      <td>The Mark Gordon Company</td>\n      <td>Shondaland</td>\n      <td>Touchstone Television</td>\n    </tr>\n    <tr>\n      <th>194867</th>\n      <td>Game of Thrones</td>\n      <td>NaN</td>\n      <td>Television 360</td>\n      <td>Television 360</td>\n      <td>Home Box Office (HBO)</td>\n      <td>Grok! Studio</td>\n    </tr>\n    <tr>\n      <th>194868</th>\n      <td>A tu lado</td>\n      <td>NaN</td>\n      <td>NaN</td>\n      <td>NaN</td>\n      <td>Martingala</td>\n      <td>NaN</td>\n    </tr>\n  </tbody>\n</table>\n<p>194869 rows × 6 columns</p>\n</div>"
     },
     "metadata": {},
     "execution_count": 17
    }
   ],
   "source": [
    "all_company"
   ]
  },
  {
   "cell_type": "code",
   "execution_count": 22,
   "metadata": {},
   "outputs": [],
   "source": [
    "all_company.Title = all_company.Title.str.strip()"
   ]
  },
  {
   "cell_type": "code",
   "execution_count": 26,
   "metadata": {},
   "outputs": [],
   "source": [
    "# delete duplicates\n",
    "all_company.drop_duplicates(subset = \"Title\", keep = False,inplace=True)"
   ]
  },
  {
   "cell_type": "code",
   "execution_count": 27,
   "metadata": {},
   "outputs": [
    {
     "output_type": "execute_result",
     "data": {
      "text/plain": [
       "                        Title           Company1  \\\n",
       "0              Dawson's Creek                NaN   \n",
       "1             The Mandalorian                NaN   \n",
       "4                Breaking Bad                NaN   \n",
       "5               The Blacklist                NaN   \n",
       "6                       Wayne   Endeavor Content   \n",
       "...                       ...                ...   \n",
       "194864  Carson's Coffee Break                NaN   \n",
       "194865       A Quiet Vendetta                NaN   \n",
       "194866         Grey's Anatomy                NaN   \n",
       "194867        Game of Thrones                NaN   \n",
       "194868              A tu lado                NaN   \n",
       "\n",
       "                            Company2                      Company3  \\\n",
       "0        Columbia TriStar Television   Columbia TriStar Television   \n",
       "1                    Golem Creations               Golem Creations   \n",
       "4               Gran Via Productions          Gran Via Productions   \n",
       "5               Universal Television          Universal Television   \n",
       "6                                NaN                           NaN   \n",
       "...                              ...                           ...   \n",
       "194864                           NaN                           NaN   \n",
       "194865                           NaN                           NaN   \n",
       "194866       The Mark Gordon Company       The Mark Gordon Company   \n",
       "194867                Television 360                Television 360   \n",
       "194868                           NaN                           NaN   \n",
       "\n",
       "                         Company4                               Company5  \n",
       "0        Outerbanks Entertainment   Columbia TriStar Domestic Television  \n",
       "1          Fairview Entertainment                              Lucasfilm  \n",
       "4         High Bridge Productions               Sony Pictures Television  \n",
       "5             Davis Entertainment               Sony Pictures Television  \n",
       "6                Endeavor Content                                    NaN  \n",
       "...                           ...                                    ...  \n",
       "194864                        NaN                                    NaN  \n",
       "194865                        NaN                                    NaN  \n",
       "194866                 Shondaland                  Touchstone Television  \n",
       "194867      Home Box Office (HBO)                           Grok! Studio  \n",
       "194868                 Martingala                                    NaN  \n",
       "\n",
       "[172442 rows x 6 columns]"
      ],
      "text/html": "<div>\n<style scoped>\n    .dataframe tbody tr th:only-of-type {\n        vertical-align: middle;\n    }\n\n    .dataframe tbody tr th {\n        vertical-align: top;\n    }\n\n    .dataframe thead th {\n        text-align: right;\n    }\n</style>\n<table border=\"1\" class=\"dataframe\">\n  <thead>\n    <tr style=\"text-align: right;\">\n      <th></th>\n      <th>Title</th>\n      <th>Company1</th>\n      <th>Company2</th>\n      <th>Company3</th>\n      <th>Company4</th>\n      <th>Company5</th>\n    </tr>\n  </thead>\n  <tbody>\n    <tr>\n      <th>0</th>\n      <td>Dawson's Creek</td>\n      <td>NaN</td>\n      <td>Columbia TriStar Television</td>\n      <td>Columbia TriStar Television</td>\n      <td>Outerbanks Entertainment</td>\n      <td>Columbia TriStar Domestic Television</td>\n    </tr>\n    <tr>\n      <th>1</th>\n      <td>The Mandalorian</td>\n      <td>NaN</td>\n      <td>Golem Creations</td>\n      <td>Golem Creations</td>\n      <td>Fairview Entertainment</td>\n      <td>Lucasfilm</td>\n    </tr>\n    <tr>\n      <th>4</th>\n      <td>Breaking Bad</td>\n      <td>NaN</td>\n      <td>Gran Via Productions</td>\n      <td>Gran Via Productions</td>\n      <td>High Bridge Productions</td>\n      <td>Sony Pictures Television</td>\n    </tr>\n    <tr>\n      <th>5</th>\n      <td>The Blacklist</td>\n      <td>NaN</td>\n      <td>Universal Television</td>\n      <td>Universal Television</td>\n      <td>Davis Entertainment</td>\n      <td>Sony Pictures Television</td>\n    </tr>\n    <tr>\n      <th>6</th>\n      <td>Wayne</td>\n      <td>Endeavor Content</td>\n      <td>NaN</td>\n      <td>NaN</td>\n      <td>Endeavor Content</td>\n      <td>NaN</td>\n    </tr>\n    <tr>\n      <th>...</th>\n      <td>...</td>\n      <td>...</td>\n      <td>...</td>\n      <td>...</td>\n      <td>...</td>\n      <td>...</td>\n    </tr>\n    <tr>\n      <th>194864</th>\n      <td>Carson's Coffee Break</td>\n      <td>NaN</td>\n      <td>NaN</td>\n      <td>NaN</td>\n      <td>NaN</td>\n      <td>NaN</td>\n    </tr>\n    <tr>\n      <th>194865</th>\n      <td>A Quiet Vendetta</td>\n      <td>NaN</td>\n      <td>NaN</td>\n      <td>NaN</td>\n      <td>NaN</td>\n      <td>NaN</td>\n    </tr>\n    <tr>\n      <th>194866</th>\n      <td>Grey's Anatomy</td>\n      <td>NaN</td>\n      <td>The Mark Gordon Company</td>\n      <td>The Mark Gordon Company</td>\n      <td>Shondaland</td>\n      <td>Touchstone Television</td>\n    </tr>\n    <tr>\n      <th>194867</th>\n      <td>Game of Thrones</td>\n      <td>NaN</td>\n      <td>Television 360</td>\n      <td>Television 360</td>\n      <td>Home Box Office (HBO)</td>\n      <td>Grok! Studio</td>\n    </tr>\n    <tr>\n      <th>194868</th>\n      <td>A tu lado</td>\n      <td>NaN</td>\n      <td>NaN</td>\n      <td>NaN</td>\n      <td>Martingala</td>\n      <td>NaN</td>\n    </tr>\n  </tbody>\n</table>\n<p>172442 rows × 6 columns</p>\n</div>"
     },
     "metadata": {},
     "execution_count": 27
    }
   ],
   "source": [
    "all_company"
   ]
  },
  {
   "source": [
    "## Goal :原始資料格式 ⇒ 將company1~company5 有資料的欄位依序重新放入company1~company5"
   ],
   "cell_type": "markdown",
   "metadata": {}
  },
  {
   "cell_type": "code",
   "execution_count": 90,
   "metadata": {},
   "outputs": [],
   "source": [
    "# drop all na\n",
    "all_company.dropna(thresh=2,inplace=True)"
   ]
  },
  {
   "cell_type": "code",
   "execution_count": 96,
   "metadata": {},
   "outputs": [
    {
     "output_type": "execute_result",
     "data": {
      "text/plain": [
       "             Title                      Company1                   Company2  \\\n",
       "0   Dawson's Creek   Columbia TriStar Television   Outerbanks Entertainment   \n",
       "1  The Mandalorian               Golem Creations     Fairview Entertainment   \n",
       "4     Breaking Bad                           NaN       Gran Via Productions   \n",
       "5    The Blacklist                           NaN       Universal Television   \n",
       "6            Wayne              Endeavor Content                        NaN   \n",
       "\n",
       "                                Company3                  Company4  \\\n",
       "0   Columbia TriStar Domestic Television                       NaN   \n",
       "1                              Lucasfilm                       NaN   \n",
       "4                   Gran Via Productions   High Bridge Productions   \n",
       "5                   Universal Television       Davis Entertainment   \n",
       "6                                    NaN          Endeavor Content   \n",
       "\n",
       "                    Company5  \n",
       "0                        NaN  \n",
       "1                        NaN  \n",
       "4   Sony Pictures Television  \n",
       "5   Sony Pictures Television  \n",
       "6                        NaN  "
      ],
      "text/html": "<div>\n<style scoped>\n    .dataframe tbody tr th:only-of-type {\n        vertical-align: middle;\n    }\n\n    .dataframe tbody tr th {\n        vertical-align: top;\n    }\n\n    .dataframe thead th {\n        text-align: right;\n    }\n</style>\n<table border=\"1\" class=\"dataframe\">\n  <thead>\n    <tr style=\"text-align: right;\">\n      <th></th>\n      <th>Title</th>\n      <th>Company1</th>\n      <th>Company2</th>\n      <th>Company3</th>\n      <th>Company4</th>\n      <th>Company5</th>\n    </tr>\n  </thead>\n  <tbody>\n    <tr>\n      <th>0</th>\n      <td>Dawson's Creek</td>\n      <td>Columbia TriStar Television</td>\n      <td>Outerbanks Entertainment</td>\n      <td>Columbia TriStar Domestic Television</td>\n      <td>NaN</td>\n      <td>NaN</td>\n    </tr>\n    <tr>\n      <th>1</th>\n      <td>The Mandalorian</td>\n      <td>Golem Creations</td>\n      <td>Fairview Entertainment</td>\n      <td>Lucasfilm</td>\n      <td>NaN</td>\n      <td>NaN</td>\n    </tr>\n    <tr>\n      <th>4</th>\n      <td>Breaking Bad</td>\n      <td>NaN</td>\n      <td>Gran Via Productions</td>\n      <td>Gran Via Productions</td>\n      <td>High Bridge Productions</td>\n      <td>Sony Pictures Television</td>\n    </tr>\n    <tr>\n      <th>5</th>\n      <td>The Blacklist</td>\n      <td>NaN</td>\n      <td>Universal Television</td>\n      <td>Universal Television</td>\n      <td>Davis Entertainment</td>\n      <td>Sony Pictures Television</td>\n    </tr>\n    <tr>\n      <th>6</th>\n      <td>Wayne</td>\n      <td>Endeavor Content</td>\n      <td>NaN</td>\n      <td>NaN</td>\n      <td>Endeavor Content</td>\n      <td>NaN</td>\n    </tr>\n  </tbody>\n</table>\n</div>"
     },
     "metadata": {},
     "execution_count": 96
    }
   ],
   "source": [
    "all_company.head()"
   ]
  },
  {
   "cell_type": "code",
   "execution_count": 106,
   "metadata": {},
   "outputs": [],
   "source": [
    "# reset_index\n",
    "all_company = all_company.set_index('Title').reset_index()"
   ]
  },
  {
   "cell_type": "code",
   "execution_count": 94,
   "metadata": {},
   "outputs": [],
   "source": [
    "def company(lenn,column=['Company1','Company2','Company3','Company4','Company5']):\n",
    "    tran = []\n",
    "    for i in column:\n",
    "        if all_company[i][lenn] not in tran:\n",
    "            tran.append(all_company[i][lenn])\n",
    "    while len(tran) < 5 :\n",
    "        tran.append(np.nan)\n",
    "    print(tran)\n",
    "    all_company.loc[lenn,column] = tran"
   ]
  },
  {
   "cell_type": "code",
   "execution_count": 108,
   "metadata": {
    "tags": [
     "outputPrepend"
    ]
   },
   "outputs": [
    {
     "output_type": "stream",
     "name": "stdout",
     "text": [
      "iGa Studios', ' Dimension Television', nan, nan]\n",
      "[' Buccaneer Media', nan, nan, nan, nan]\n",
      "[' Platinum Dunes', ' Blumhouse Productions', nan, nan, nan]\n",
      "[' Canal+', nan, nan, nan, nan]\n",
      "[' History Channel', ' Prometheus Entertainment', ' Oak Island Tours', nan, nan]\n",
      "[' American Broadcasting Company (ABC)', ' Touchstone Television', ' Flody Co.', nan, nan]\n",
      "[' Lin Pictures', ' Good Session', ' Warner Bros. Television', nan, nan]\n",
      "[' Temple Street Productions', nan, nan, nan, nan]\n",
      "[' Amazon Studios', ' Moon Shot Entertainment', ' Sony Pictures Television', nan, nan]\n",
      "[' Eat the Cat', ' Cool House', ' Universal Cable Productions', nan, nan]\n",
      "[' Frederator Studios', ' Cartoon Network Studios', ' Cartoon Network', nan, nan]\n",
      "[' BBC Scotland', nan, nan, nan, nan]\n",
      "[' British Broadcasting Corporation (BBC)', ' RVK Studios', ' Danmarks Radio (DR)', nan, nan]\n",
      "[' Bandai Namco Arts', ' Asatsu', ' Bandai Spirits', nan, nan]\n",
      "[' Flying Glass of Milk Productions', ' Fabrik Entertainment', ' Fox Television Studios', nan, nan]\n",
      "[' Granada Media', ' Granada Television', ' ITV Productions', nan, nan]\n",
      "[' Deedle-Dee Productions', ' Netflix', ' Film Flam', nan, nan]\n",
      "[' A-1 Pictures', nan, nan, nan, nan]\n",
      "[' Netflix', ' Daniel L. Paulson Productions', nan, nan, nan]\n",
      "[' Lorimar Productions', nan, nan, nan, nan]\n",
      "[' Lookout Point Ltd.', ' Production Scope', nan, nan, nan]\n",
      "[' MainStreet Pictures', ' Mainstreet Pictures', nan, nan, nan]\n",
      "[' What is the Question?', ' The Sonnenfeld Company', ' Paramount Television', nan, nan]\n",
      "[' Netflix Animation', ' Glen Keane Productions', nan, nan, nan]\n",
      "[' Mother Production', ' Mon Voisin Productions', ' Ce Qui Me Meut', nan, nan]\n",
      "[' JSS Entertainment', ' Alta Loma Entertainment', ' Entertainment One', nan, nan]\n",
      "[' DC Entertainment', ' Berlanti Productions', ' Warner Bros. Television', nan, nan]\n",
      "[' Scott Free Productions', ' American Movie Classics (AMC)', ' Entertainment 360', nan, nan]\n",
      "[' AMC Studios', nan, nan, nan, nan]\n",
      "[' Belisarius Productions', ' Paramount Network Television Productions', ' NBC Productions', nan, nan]\n",
      "[' And Then...', ' Aggressive Mediocrity', ' Showtime Networks', nan, nan]\n",
      "[' Netflix', nan, nan, nan, nan]\n",
      "[' Marvel Television', ' FX Productions', ' 26 Keys Productions', nan, nan]\n",
      "[' Devilina Productions', ' Marvel Television', ' ABC Studios', nan, nan]\n",
      "[' 20th Century Fox Television', ' Atlantic Creative', ' 20th Television', nan, nan]\n",
      "[' Closest to the Hole Productions', nan, nan, nan, nan]\n",
      "[' Bones', ' Square Enix Company', nan, nan, nan]\n",
      "[' Soulpepper Theatre Company', ' Canadian Broadcasting Corporation (CBC)', ' Strada Films', nan, nan]\n",
      "[' Netflix', ' Blur Studio', nan, nan, nan]\n",
      "[' Sony Pictures Television', ' Exhibit A', nan, nan, nan]\n",
      "[' Disney Television Animation', nan, nan, nan, nan]\n",
      "[' ABC Signature Studios', nan, nan, nan, nan]\n",
      "[' Sony Pictures Television', ' Fox Television Network', ' The Barn Productions', nan, nan]\n",
      "[' Awesomeness TV', ' Odenkirk Provissiero Entertainment', ' Party Over Here', nan, nan]\n",
      "[' Sony Pictures Television', ' Columbia TriStar Television', ' CBS Paramount Network Television', nan, nan]\n",
      "[' Cinemax', ' Left Bank Pictures', ' Sky', nan, nan]\n",
      "[' Tender Productions', nan, nan, nan, nan]\n",
      "[' Fandango', ' Cattleya', ' Sky', nan, nan]\n",
      "[' Circle of Confusion', ' IDW Entertainment', ' Take 5 Productions', nan, nan]\n",
      "[' Sony Pictures Television', ' KZK Productions', nan, nan, nan]\n",
      "[' Barbara Hall Productions', ' Revelations Entertainment', ' CBS Television Studios', nan, nan]\n",
      "[' Nimbus Film Productions', ' Filmlance International AB', ' Sveriges Television (SVT)', nan, nan]\n",
      "[' BBC One', ' British Broadcasting Corporation (BBC)', ' Bronte Film and TV', nan, nan]\n",
      "[' Danny Thomas Enterprises', ' CBS', ' Mayberry Enterprises', nan, nan]\n",
      "[' 20th Century Fox Television', ' Carsey-Werner-Mandabach Productions', ' Carsey-Werner Company', nan, nan]\n",
      "[' Wolf Entertainment', ' CBS Television Studios', ' Universal Television', nan, nan]\n",
      "[' Touchstone Television', ' Michael Jacobs Productions', nan, nan, nan]\n",
      "[' MGM Television', ' Acme Shark', ' Pegasus Productions', nan, nan]\n",
      "[' Compari Entertainment', ' Jeff Rake Productions', ' Universal Television', nan, nan]\n",
      "[' Atresmedia', ' Big Bang Media', nan, nan, nan]\n",
      "[' Fuse Entertainment', ' KMF Films', ' Fox Television Studios', nan, nan]\n",
      "[' Good Mood', ' Atresmedia', nan, nan, nan]\n",
      "[' Old Curiosity Shop', ' Bad Robot', ' Warner Bros.', nan, nan]\n",
      "[' 90210 Productions', ' Fair Dinkum Productions', ' Propaganda Films', nan, nan]\n",
      "[' Don Carmody Television', ' Constantin Film', ' Echelon Productions, Inc.', nan, nan]\n",
      "[' Kudos Film and Television', nan, nan, nan, nan]\n",
      "[' Tilted Productions', ' Lions Gate Television', ' Weeds Productions', nan, nan]\n",
      "[' Altschuler Krinsky Works', ' 3 Arts Entertainment', ' Judgemental Films Inc.', nan, nan]\n",
      "[' Warner Bros. Television', ' Wonderland Sound and Vision', ' College Hill Pictures Inc.', nan, nan]\n",
      "[' Long Way Round', nan, nan, nan, nan]\n",
      "[' Studios USA Television', ' Wolf Films', ' Universal Network Television', nan, nan]\n",
      "[' 20th Century Fox Television', ' Mutant Enemy', nan, nan, nan]\n",
      "[' The Greenblatt Janollari Studio', ' Home Box Office (HBO)', ' Actual Size Films', nan, nan]\n",
      "[' Tekden Film', nan, nan, nan, nan]\n",
      "[' Don Simpson/Jerry Bruckheimer Films', ' The Brandons', ' Green Eggs & Pam Productions', nan, nan]\n",
      "[' Touchstone Television', ' Witt/Thomas/Harris Productions', nan, nan, nan]\n",
      "[' Pierrot', nan, nan, nan, nan]\n",
      "[' United King Films', ' WestEnd Films', ' KAN: Israeli Public Broadcasting', nan, nan]\n",
      "[' Next Thing You Know Productions', ' Fee-Fi-Fo Films', ' Kapital Entertainment', nan, nan]\n",
      "[' Amazon Studios', ' NBC Universal International', ' Tomorrow Studios', nan, nan]\n",
      "[' World Productions', nan, nan, nan, nan]\n",
      "[' Film 44', ' Imagine Television', ' NBC Universal Television', nan, nan]\n",
      "[\" Where's Lunch\", ' Talk Productions', ' HBO Independent Productions', nan, nan]\n",
      "[' Universal Television', ' Corymore Productions', nan, nan, nan]\n",
      "[' Spondoolie Productions', ' Vertigo Productions', ' Warner Bros. Television', nan, nan]\n",
      "[' Skydance Television', ' Skydance Media', nan, nan, nan]\n",
      "[' Idiotlamp Productions', nan, nan, nan, nan]\n",
      "[' Channel 4 Television Corporation', ' Talkback Thames', nan, nan, nan]\n",
      "[' Amazon Studios', ' Picrow', nan, nan, nan]\n",
      "[' CBS Television Studios', ' Imagine Entertainment', nan, nan, nan]\n",
      "[' Escape Artists', ' Blinding Edge Pictures', nan, nan, nan]\n",
      "[' Nomadic Pictures', ' Echo Lake Entertainment', nan, nan, nan]\n",
      "[' Netflix', ' Zeta Ficción', nan, nan, nan]\n",
      "[' Nomadic Pictures', ' Entertainment One', ' (gayton)²', nan, nan]\n",
      "[' CBS Television Studios', ' Gloria Sanchez Productions', ' Visualized', nan, nan]\n",
      "[' Warner Horizon Television', nan, nan, nan, nan]\n",
      "[' Georgeville Television', ' Anarchos Productions', ' Javelin Productions', nan, nan]\n",
      "[' ITV - Independent Television', ' Monumental Pictures', nan, nan, nan]\n",
      "[' Hazy Mills Productions', ' GK Productions', ' Universal Television', nan, nan]\n",
      "[' Dog Fish Films', ' CJ Entertainment', ' Studio T', nan, nan]\n",
      "[' 3 Arts Entertainment', ' Fuqua Films', ' Up Island Films', nan, nan]\n",
      "[' Ginormous Madman', ' Nickelodeon Animation Studios', nan, nan, nan]\n",
      "[' Kilter Films', ' Bad Robot', ' Warner Bros. Television', nan, nan]\n",
      "[' Alec Berg Productions', ' Hanarply', nan, nan, nan]\n",
      "[' ITV Studios Global Entertainment', ' Shaftesbury Films', ' UKTV', nan, nan]\n",
      "[' Fox Television Studios', ' Jeff Eastin & Warrior George Productions', nan, nan, nan]\n",
      "[' Neal Street Productions', ' Amazon Studios', ' Sky', nan, nan]\n",
      "[' Campanario Entertainment', ' Q Productions', nan, nan, nan]\n",
      "[' Arness Production Company', ' CBS Television Network', ' Filmaster Productions', nan, nan]\n",
      "[' Platinum Dunes', ' Film Afrika Worldwide', ' Quaker Moving Pictures', nan, nan]\n",
      "[' Home Box Office (HBO)', ' CBS Paramount Network Television', ' Paramount Network Television', nan, nan]\n",
      "[' Gaumont International Television', nan, nan, nan, nan]\n",
      "[' Fremantle', ' Canada Film Capital', nan, nan, nan]\n",
      "[' Northwood Entertainment', ' Northwood Anne', ' Canadian Broadcasting Corporation (CBC)', nan, nan]\n",
      "[' Fake Empire', ' College Hill Pictures Inc.', ' Wonderland Sound and Vision', nan, nan]\n",
      "[' Aniplex', ' Shueisha', ' Ufotable', nan, nan]\n",
      "[' 20th Century Fox Television', ' Fuzzy Door Productions', nan, nan, nan]\n",
      "[' ABC Studios', ' Mandeville Films', ' Moratim Produktions', nan, nan]\n",
      "[' FremantleMedia Australia', nan, nan, nan, nan]\n",
      "[' Color Force', ' Ryan Murphy Productions', ' Scott & Larry Productions', nan, nan]\n",
      "[' Kudos Film and Television', nan, nan, nan, nan]\n",
      "[' Grub Street Productions', ' Paramount Television', ' Grammnet Productions', nan, nan]\n",
      "[' MX Player', ' Prakash Jha Productions', nan, nan, nan]\n",
      "[' Sklaverworth Productions', ' Berlanti Productions', ' VHPT Company', nan, nan]\n",
      "[' Warner Bros. Television', ' Film 44', nan, nan, nan]\n",
      "[' RCTV', ' Poppy Productions', ' Electus', nan, nan]\n",
      "[' Arrowstorm Entertainment', ' Balkanic Media', ' Electric Entertainment', nan, nan]\n",
      "[' Skydance Television', ' Mythology Entertainment', nan, nan, nan]\n",
      "[' Bonanza Productions', ' Berlanti Productions', ' DC Entertainment', nan, nan]\n",
      "[' Masterpiece', ' Mammoth Screen', ' ITV Studios', nan, nan]\n",
      "[' Frederator Studios', ' Mua Film', ' Netflix', nan, nan]\n",
      "[' Wall to Wall Television', ' British Broadcasting Corporation (BBC)', nan, nan, nan]\n",
      "[' Bones', nan, nan, nan, nan]\n",
      "[' Imaginary Friends', ' Kudos Film and Television', ' ITV - Independent Television', nan, nan]\n",
      "[' London Weekend Television (LWT)', ' Carnival Film & Television', ' Picture Partnership Productions', nan, nan]\n",
      "[' British Broadcasting Corporation (BBC)', ' Neal Street Productions', nan, nan, nan]\n",
      "[' Bad Wolf', nan, nan, nan, nan]\n",
      "[' Warner Bros. Television', ' Bad Robot', ' FB2 Films', nan, nan]\n",
      "[' Berlanti Productions', \" Quinn's House\", ' Warner Bros. Television', nan, nan]\n",
      "[' Leverage Management', ' Home Box Office (HBO)', ' Closest to the Hole Productions', nan, nan]\n",
      "[' The Mark Gordon Company', ' David Hollander Productions', nan, nan, nan]\n",
      "[' John Doe Production', nan, nan, nan, nan]\n",
      "[' The Shephard/Robin Company', ' Two Boomerang', ' Warner Horizon Television', nan, nan]\n",
      "[' Cherry Productions', ' Cherry Alley Productions', ' Touchstone Television', nan, nan]\n",
      "[' Frequency Films', ' Friendly Films (II)', ' Latina Pictures', nan, nan]\n",
      "[' Fake Empire', ' CBS Television Studios', ' Warner Bros. Television', nan, nan]\n",
      "[' Dundee Productions', nan, nan, nan, nan]\n",
      "[' DeKnight Productions', ' ABC Studios', ' Goddard Textiles', nan, nan]\n",
      "[' Cinemax', ' Your Face Goes Here Entertainment', nan, nan, nan]\n",
      "[' Showtime Networks', ' Peace Arch Entertainment Group', ' Reveille Productions', nan, nan]\n",
      "[' CBS Television Studios', ' Roddenberry Entertainment', ' Secret Hideout', nan, nan]\n",
      "[' Production Partners', ' Home Box Office (HBO)', nan, nan, nan]\n",
      "[' CBS Paramount Network Television', ' Alliance Atlantis Communications', ' CBS Productions', nan, nan]\n",
      "[' Ryan Murphy Television', ' Reamworks', ' 20th Century Fox Television', nan, nan]\n",
      "[' Perfectmon Pictures', ' eOne Television', ' ABC Studios', nan, nan]\n",
      "[' Norway Corporation', ' Desilu Productions', ' Paramount Television', nan, nan]\n",
      "[' Warner Bros. Television', ' Archie Comics Publications', nan, nan, nan]\n",
      "[' Marvel Television', ' ABC Signature Studios', nan, nan, nan]\n",
      "[' New Regency Productions', ' Satin City Productions', ' 20th Century Fox Television', nan, nan]\n",
      "[' CGCG Inc. (I)', ' Disney XD', ' Disney-ABC Domestic Television', nan, nan]\n",
      "[' DC Comics', nan, nan, nan, nan]\n",
      "[' Quincy Jones Entertainment', ' NBC Productions', ' Quincy Jones-David Salzman Entertainment', nan, nan]\n",
      "[' Two Canoes Pictures', ' FX Productions', ' 343 Incorporated', nan, nan]\n",
      "[' United Paramount Network (UPN)', ' Paramount Television', nan, nan, nan]\n",
      "[' When Pigs Fly Productions', ' Wings Productions', ' CBS Television Studios', nan, nan]\n",
      "[' Tornante Company', ' ShadowMachine', ' Netflix', nan, nan]\n",
      "[' Imagine Entertainment', ' 20th Century Fox Television', ' The Hurwitz Company', nan, nan]\n",
      "[' Gekko Film Corp.', ' Double Secret Productions', ' Kawoosh! Productions IX', nan, nan]\n",
      "[' Towers Productions', ' Doozer', ' ABC Studios', nan, nan]\n",
      "[' Robbins Productions', ' Tollin', ' Millar Gough Ink', nan, nan]\n",
      "[' Quibi', ' Gunpowder & Sky', ' Right of Way Films', nan, nan]\n",
      "[' 1-2-3 Production', nan, nan, nan, nan]\n",
      "[' 20th Century Fox Television', ' Imagine Entertainment', ' Real Time Productions', nan, nan]\n",
      "[' BBC Drama Productions', ' World Productions', nan, nan, nan]\n",
      "[' Bento Box Entertainment', ' Wilo Productions', ' Buck & Millie Productions', nan, nan]\n",
      "[' Amazon Studios', ' Dorothy Parker Drank Here Productions', ' Picrow', nan, nan]\n",
      "[' Genre Arts', ' Push, Boot.', ' Platinum Dunes', nan, nan]\n",
      "[' Wildside', ' Home Box Office (HBO)', ' Hallogram', nan, nan]\n",
      "[' My So-Called Company', ' Bonanza Productions', ' Alloy Entertainment', nan, nan]\n",
      "[' Gaumont International Television', ' Dynamo', ' Netflix', nan, nan]\n",
      "[' Universal Cable Productions', ' Iron Ocean Films', nan, nan, nan]\n",
      "[' Hieronymus Pictures', ' Fabrik Entertainment', ' Amazon Studios', nan, nan]\n",
      "[' Living Dead Guy Productions', ' Dino De Laurentiis Company', ' AXN: Original X Production', nan, nan]\n",
      "[' Donna Productions', ' Cosmote TV', ' Donna and Shula Productions', nan, nan]\n",
      "[' Home Box Office (HBO)', ' David E. Kelley Productions', ' Pacific Standard', nan, nan]\n",
      "[' Atlantique Productions', ' Red Planet Pictures', ' Kudos Film and Television', nan, nan]\n",
      "[' Ryan Murphy Productions', ' Brad Falchuk Teley-Vision', ' 20th Century Fox Television', nan, nan]\n",
      "[' Dominic Buchanan Productions', ' Clerkenwell Films', nan, nan, nan]\n",
      "[' Cattleya', ' Rai Fiction', ' Netflix', nan, nan]\n",
      "[' Paramount Television', nan, nan, nan, nan]\n",
      "[' Yes, Norman Productions', ' Warner Horizon Television', nan, nan, nan]\n",
      "[' Marobru Inc.', ' Comedy Central', ' Pilot Boy Productions', nan, nan]\n",
      "[' Netflix', ' Westward Productions', nan, nan, nan]\n",
      "[' Lionsgate Television', ' Tilted Productions', nan, nan, nan]\n",
      "[' FLX', nan, nan, nan, nan]\n",
      "[' Shondaland', nan, nan, nan, nan]\n",
      "[' Krek Film', nan, nan, nan, nan]\n",
      "[' 20th Century Fox Television', nan, nan, nan, nan]\n",
      "[' Eleven', nan, nan, nan, nan]\n",
      "[' DC Comics', ' Primrose Hill Productions', ' Warner Bros. Television', nan, nan]\n",
      "[' John Wells Productions', ' Constant c Productions', ' Amblin Entertainment', nan, nan]\n",
      "[' ABC Studios', ' Shondaland', nan, nan, nan]\n",
      "[' Masterpiece Theatre', ' Carnival Film & Television', nan, nan, nan]\n",
      "[' West-Shapiro', ' Castle Rock Entertainment', nan, nan, nan]\n",
      "[' Reel World Management', nan, nan, nan, nan]\n",
      "[' Timberman-Beverly Productions', ' FX Productions', ' Nemo Films', nan, nan]\n",
      "[' Trill TV', ' Kapital Entertainment', ' Mike and Bill Productions', nan, nan]\n",
      "[' Universal Television', ' Wolf Films', nan, nan, nan]\n",
      "[' 3 Arts Entertainment', ' Deedle-Dee Productions', ' Universal Media Studios (UMS)', nan, nan]\n",
      "[' 20th Century Fox Television', ' Ten Thirteen Productions', nan, nan, nan]\n",
      "[' Nowalk Entertainment', ' Shondaland', ' ABC Studios', nan, nan]\n",
      "[' Netflix', ' Denver and Delilah Productions', ' Panic Pictures (II)', nan, nan]\n",
      "[' CBS Television Studios', ' Shane Brennan Productions', ' Belisarius Productions', nan, nan]\n",
      "[' Best Available!', ' Showtime Entertainment', nan, nan, nan]\n",
      "[' The District', ' Spitzer Holding Company', ' Universal Television', nan, nan]\n",
      "[' Sid Gentle Films', ' Endeavor Content', ' BBC America', nan, nan]\n",
      "[' De Passe Entertainment', ' Paramount Pictures', nan, nan, nan]\n",
      "[' Netflix', ' Media Rights Capital (MRC)', ' Panic Pictures (II)', nan, nan]\n",
      "[' Esmail Corp.', ' Anonymous Content', ' Universal Cable Productions', nan, nan]\n",
      "[' Pulse Films', ' Sister Pictures', ' Sky Atlantic', nan, nan]\n",
      "[' 3 Arts Entertainment', ' Fremulon', ' Universal Television', nan, nan]\n",
      "[' Paramount Television', nan, nan, nan, nan]\n",
      "[' AMC Studios', nan, nan, nan, nan]\n",
      "[' HBO Entertainment', ' Anonymous Content', ' Passenger', nan, nan]\n",
      "[' Shore Z Productions', ' Heel & Toe Films', ' Bad Hat Harry Productions', nan, nan]\n",
      "[' Warner Bros. Television', ' Chuck Lorre Productions', nan, nan, nan]\n",
      "[' 3 Arts Entertainment', ' Bluebush Productions', ' FX Productions', nan, nan]\n",
      "[' Comedy Bang! Bang! Productions', ' Pacific Electric Picture Company', nan, nan, nan]\n",
      "[' Crystal Diner Productions', ' High Bridge Productions', ' Gran Via Productions', nan, nan]\n",
      "[' Project Zeus', ' Gary Sanchez Productions', ' Hyperobject Industries', nan, nan]\n",
      "[' ITV - Independent Television', ' Eleventh Hour Films', ' Sony Pictures Television', nan, nan]\n",
      "[' Media Rights Capital (MRC)', ' Zero Gravity Management', nan, nan, nan]\n",
      "[' Vancouver Media', ' Atresmedia', nan, nan, nan]\n",
      "[' Alcon Entertainment', ' Hivemind', nan, nan, nan]\n",
      "[' Bays Thomas Productions', ' 20th Century Fox Television', nan, nan, nan]\n",
      "[\" Ruby's Tuna\", ' Universal Television', ' Doozer', nan, nan]\n",
      "[' MGM/UA Television', ' MGM Television', nan, nan, nan]\n",
      "[' Alloy Entertainment', ' Outerbanks Entertainment', ' CBS Television Studios', nan, nan]\n",
      "[' W&B Television', ' Netflix', nan, nan, nan]\n",
      "[' Kinberg Genre', ' The Mark Gordon Company', ' ABC Studios', nan, nan]\n",
      "[' Josephson Entertainment', ' Far Field Productions', ' 20th Century Fox Television', nan, nan]\n",
      "[' Hofflund/Polone', ' Dorothy Parker Drank Here Productions', ' Warner Bros. Television', nan, nan]\n",
      "[' Boy Detective', ' 21 Laps Entertainment', ' Image 32', nan, nan]\n",
      "[' Dawn Olmstead Productions', ' Adelstein-Parouse Productions', ' Adelstein Productions', nan, nan]\n",
      "[' Netflix', ' Hivemind', ' Pioneer Stilking Films', nan, nan]\n",
      "[' Brillstein Entertainment Partners', ' Home Box Office (HBO)', ' The Park Entertainment', nan, nan]\n",
      "[' Image Comics', ' AGBO', ' Sony Pictures Television', nan, nan]\n",
      "[' Dr. Goor Productions', ' Fremulon', ' 3 Arts Entertainment', nan, nan]\n",
      "[' Linson Entertainment', ' SutterInk', ' Fox 21', nan, nan]\n",
      "[' 20th Century Fox Television', ' Gracie Films', ' Twentieth Century Fox', nan, nan]\n",
      "[' Excel Entertainment', nan, nan, nan, nan]\n",
      "[' Carnival Film & Television', nan, nan, nan, nan]\n",
      "[' Channel 4 Television Corporation', ' Zeppotron', ' Gran Babieka', nan, nan]\n",
      "[' Universal Television', ' Wolf Films', nan, nan, nan]\n",
      "[' British Broadcasting Corporation (BBC)', ' Home Box Office (HBO)', ' Bad Wolf', nan, nan]\n",
      "[' Paramount Network', ' 101 Studios', ' Linson Entertainment', nan, nan]\n",
      "[' Furthur Films', ' Fox 21 Television Studios', ' Lighthouse Management & Media', nan, nan]\n",
      "[' CBS Television Studios', ' Alloy Entertainment', ' Warner Bros. Television', nan, nan]\n",
      "[' Story Mining & Supply Co.', ' Tall Ship Productions', ' Left Bank Pictures', nan, nan]\n",
      "[' John Goldwyn Productions', ' Showtime Networks', ' The Colleton Company', nan, nan]\n",
      "[' Overbrook Entertainment', ' Hurwitz & Schlossberg Productions', ' Sony Pictures Television', nan, nan]\n",
      "[' MTV Studios', ' Jax Media', nan, nan, nan]\n",
      "[' Stolen Picture', ' Amazon Studios', nan, nan, nan]\n",
      "[' Bad Wolf', ' Anton', ' British Broadcasting Corporation (BBC)', nan, nan]\n",
      "[' Living Dead Guy Productions', ' CBS Television Studios', ' Master Key Production', nan, nan]\n",
      "[' Not A Real Company', ' Canadian Broadcasting Corporation (CBC)', nan, nan, nan]\n",
      "[' Aggregate Films', nan, nan, nan, nan]\n",
      "[' FX Productions', ' MGM Television', ' 26 Keys Productions', nan, nan]\n",
      "[' Metronome Productions', nan, nan, nan, nan]\n",
      "[' Sony Pictures Television Production UK', ' Left Bank Pictures', nan, nan, nan]\n",
      "['Color', nan, nan, nan, nan]\n",
      "[' Wolf Films', ' Universal Television', nan, nan, nan]\n",
      "[' Bluesanyu Films', nan, nan, nan, nan]\n",
      "[' KinoAtis', nan, nan, nan, nan]\n",
      "['Color', nan, nan, nan, nan]\n",
      "[' PKS Entertainment', nan, nan, nan, nan]\n",
      "[' Above Average', nan, nan, nan, nan]\n",
      "[' Warner Bros. Television', ' Kripke Enterprises', ' Wonderland Sound and Vision', nan, nan]\n",
      "[' The Mark Gordon Company', ' Shondaland', ' Touchstone Television', nan, nan]\n",
      "[' Television 360', ' Home Box Office (HBO)', ' Grok! Studio', nan, nan]\n",
      "[' Martingala', nan, nan, nan, nan]\n"
     ]
    }
   ],
   "source": [
    "great = 0\n",
    "while great < len(all_company):\n",
    "    company(great)\n",
    "    great += 1"
   ]
  },
  {
   "cell_type": "code",
   "execution_count": 118,
   "metadata": {},
   "outputs": [
    {
     "output_type": "stream",
     "name": "stdout",
     "text": [
      "<class 'pandas.core.frame.DataFrame'>\nRangeIndex: 151670 entries, 0 to 151669\nData columns (total 6 columns):\n #   Column    Non-Null Count   Dtype \n---  ------    --------------   ----- \n 0   Title     151670 non-null  object\n 1   Company1  151670 non-null  object\n 2   Company2  25066 non-null   object\n 3   Company3  8235 non-null    object\n 4   Company4  4 non-null       object\n 5   Company5  0 non-null       object\ndtypes: object(6)\nmemory usage: 6.9+ MB\n"
     ]
    }
   ],
   "source": [
    "all_company.info()"
   ]
  },
  {
   "source": [
    "## 重新排序後，發現除了company1 company2 其他缺失值過多 不採用"
   ],
   "cell_type": "markdown",
   "metadata": {}
  },
  {
   "cell_type": "code",
   "execution_count": 114,
   "metadata": {},
   "outputs": [
    {
     "output_type": "execute_result",
     "data": {
      "text/plain": [
       "Title            0\n",
       "Company1         0\n",
       "Company2    126604\n",
       "Company3    143435\n",
       "Company4    151666\n",
       "Company5    151670\n",
       "dtype: int64"
      ]
     },
     "metadata": {},
     "execution_count": 114
    }
   ],
   "source": [
    "all_company.isna().sum()"
   ]
  },
  {
   "cell_type": "code",
   "execution_count": 120,
   "metadata": {},
   "outputs": [
    {
     "output_type": "error",
     "ename": "KeyError",
     "evalue": "\"['Company3' 'Company4' 'Company5'] not found in axis\"",
     "traceback": [
      "\u001b[0;31m---------------------------------------------------------------------------\u001b[0m",
      "\u001b[0;31mKeyError\u001b[0m                                  Traceback (most recent call last)",
      "\u001b[0;32m<ipython-input-120-13bb8eac99eb>\u001b[0m in \u001b[0;36m<module>\u001b[0;34m\u001b[0m\n\u001b[1;32m      1\u001b[0m \u001b[0;31m# delete company 3,4,5\u001b[0m\u001b[0;34m\u001b[0m\u001b[0;34m\u001b[0m\u001b[0;34m\u001b[0m\u001b[0m\n\u001b[0;32m----> 2\u001b[0;31m \u001b[0mall_company\u001b[0m\u001b[0;34m.\u001b[0m\u001b[0mdrop\u001b[0m\u001b[0;34m(\u001b[0m\u001b[0;34m[\u001b[0m\u001b[0;34m'Company3'\u001b[0m\u001b[0;34m,\u001b[0m\u001b[0;34m'Company4'\u001b[0m\u001b[0;34m,\u001b[0m\u001b[0;34m'Company5'\u001b[0m\u001b[0;34m]\u001b[0m\u001b[0;34m,\u001b[0m\u001b[0maxis\u001b[0m\u001b[0;34m=\u001b[0m\u001b[0;36m1\u001b[0m\u001b[0;34m,\u001b[0m\u001b[0minplace\u001b[0m\u001b[0;34m=\u001b[0m\u001b[0;32mTrue\u001b[0m\u001b[0;34m)\u001b[0m\u001b[0;34m\u001b[0m\u001b[0;34m\u001b[0m\u001b[0m\n\u001b[0m",
      "\u001b[0;32m~/miniconda3/lib/python3.8/site-packages/pandas/core/frame.py\u001b[0m in \u001b[0;36mdrop\u001b[0;34m(self, labels, axis, index, columns, level, inplace, errors)\u001b[0m\n\u001b[1;32m   4303\u001b[0m                 \u001b[0mweight\u001b[0m  \u001b[0;36m1.0\u001b[0m     \u001b[0;36m0.8\u001b[0m\u001b[0;34m\u001b[0m\u001b[0;34m\u001b[0m\u001b[0m\n\u001b[1;32m   4304\u001b[0m         \"\"\"\n\u001b[0;32m-> 4305\u001b[0;31m         return super().drop(\n\u001b[0m\u001b[1;32m   4306\u001b[0m             \u001b[0mlabels\u001b[0m\u001b[0;34m=\u001b[0m\u001b[0mlabels\u001b[0m\u001b[0;34m,\u001b[0m\u001b[0;34m\u001b[0m\u001b[0;34m\u001b[0m\u001b[0m\n\u001b[1;32m   4307\u001b[0m             \u001b[0maxis\u001b[0m\u001b[0;34m=\u001b[0m\u001b[0maxis\u001b[0m\u001b[0;34m,\u001b[0m\u001b[0;34m\u001b[0m\u001b[0;34m\u001b[0m\u001b[0m\n",
      "\u001b[0;32m~/miniconda3/lib/python3.8/site-packages/pandas/core/generic.py\u001b[0m in \u001b[0;36mdrop\u001b[0;34m(self, labels, axis, index, columns, level, inplace, errors)\u001b[0m\n\u001b[1;32m   4148\u001b[0m         \u001b[0;32mfor\u001b[0m \u001b[0maxis\u001b[0m\u001b[0;34m,\u001b[0m \u001b[0mlabels\u001b[0m \u001b[0;32min\u001b[0m \u001b[0maxes\u001b[0m\u001b[0;34m.\u001b[0m\u001b[0mitems\u001b[0m\u001b[0;34m(\u001b[0m\u001b[0;34m)\u001b[0m\u001b[0;34m:\u001b[0m\u001b[0;34m\u001b[0m\u001b[0;34m\u001b[0m\u001b[0m\n\u001b[1;32m   4149\u001b[0m             \u001b[0;32mif\u001b[0m \u001b[0mlabels\u001b[0m \u001b[0;32mis\u001b[0m \u001b[0;32mnot\u001b[0m \u001b[0;32mNone\u001b[0m\u001b[0;34m:\u001b[0m\u001b[0;34m\u001b[0m\u001b[0;34m\u001b[0m\u001b[0m\n\u001b[0;32m-> 4150\u001b[0;31m                 \u001b[0mobj\u001b[0m \u001b[0;34m=\u001b[0m \u001b[0mobj\u001b[0m\u001b[0;34m.\u001b[0m\u001b[0m_drop_axis\u001b[0m\u001b[0;34m(\u001b[0m\u001b[0mlabels\u001b[0m\u001b[0;34m,\u001b[0m \u001b[0maxis\u001b[0m\u001b[0;34m,\u001b[0m \u001b[0mlevel\u001b[0m\u001b[0;34m=\u001b[0m\u001b[0mlevel\u001b[0m\u001b[0;34m,\u001b[0m \u001b[0merrors\u001b[0m\u001b[0;34m=\u001b[0m\u001b[0merrors\u001b[0m\u001b[0;34m)\u001b[0m\u001b[0;34m\u001b[0m\u001b[0;34m\u001b[0m\u001b[0m\n\u001b[0m\u001b[1;32m   4151\u001b[0m \u001b[0;34m\u001b[0m\u001b[0m\n\u001b[1;32m   4152\u001b[0m         \u001b[0;32mif\u001b[0m \u001b[0minplace\u001b[0m\u001b[0;34m:\u001b[0m\u001b[0;34m\u001b[0m\u001b[0;34m\u001b[0m\u001b[0m\n",
      "\u001b[0;32m~/miniconda3/lib/python3.8/site-packages/pandas/core/generic.py\u001b[0m in \u001b[0;36m_drop_axis\u001b[0;34m(self, labels, axis, level, errors)\u001b[0m\n\u001b[1;32m   4183\u001b[0m                 \u001b[0mnew_axis\u001b[0m \u001b[0;34m=\u001b[0m \u001b[0maxis\u001b[0m\u001b[0;34m.\u001b[0m\u001b[0mdrop\u001b[0m\u001b[0;34m(\u001b[0m\u001b[0mlabels\u001b[0m\u001b[0;34m,\u001b[0m \u001b[0mlevel\u001b[0m\u001b[0;34m=\u001b[0m\u001b[0mlevel\u001b[0m\u001b[0;34m,\u001b[0m \u001b[0merrors\u001b[0m\u001b[0;34m=\u001b[0m\u001b[0merrors\u001b[0m\u001b[0;34m)\u001b[0m\u001b[0;34m\u001b[0m\u001b[0;34m\u001b[0m\u001b[0m\n\u001b[1;32m   4184\u001b[0m             \u001b[0;32melse\u001b[0m\u001b[0;34m:\u001b[0m\u001b[0;34m\u001b[0m\u001b[0;34m\u001b[0m\u001b[0m\n\u001b[0;32m-> 4185\u001b[0;31m                 \u001b[0mnew_axis\u001b[0m \u001b[0;34m=\u001b[0m \u001b[0maxis\u001b[0m\u001b[0;34m.\u001b[0m\u001b[0mdrop\u001b[0m\u001b[0;34m(\u001b[0m\u001b[0mlabels\u001b[0m\u001b[0;34m,\u001b[0m \u001b[0merrors\u001b[0m\u001b[0;34m=\u001b[0m\u001b[0merrors\u001b[0m\u001b[0;34m)\u001b[0m\u001b[0;34m\u001b[0m\u001b[0;34m\u001b[0m\u001b[0m\n\u001b[0m\u001b[1;32m   4186\u001b[0m             \u001b[0mresult\u001b[0m \u001b[0;34m=\u001b[0m \u001b[0mself\u001b[0m\u001b[0;34m.\u001b[0m\u001b[0mreindex\u001b[0m\u001b[0;34m(\u001b[0m\u001b[0;34m**\u001b[0m\u001b[0;34m{\u001b[0m\u001b[0maxis_name\u001b[0m\u001b[0;34m:\u001b[0m \u001b[0mnew_axis\u001b[0m\u001b[0;34m}\u001b[0m\u001b[0;34m)\u001b[0m\u001b[0;34m\u001b[0m\u001b[0;34m\u001b[0m\u001b[0m\n\u001b[1;32m   4187\u001b[0m \u001b[0;34m\u001b[0m\u001b[0m\n",
      "\u001b[0;32m~/miniconda3/lib/python3.8/site-packages/pandas/core/indexes/base.py\u001b[0m in \u001b[0;36mdrop\u001b[0;34m(self, labels, errors)\u001b[0m\n\u001b[1;32m   5589\u001b[0m         \u001b[0;32mif\u001b[0m \u001b[0mmask\u001b[0m\u001b[0;34m.\u001b[0m\u001b[0many\u001b[0m\u001b[0;34m(\u001b[0m\u001b[0;34m)\u001b[0m\u001b[0;34m:\u001b[0m\u001b[0;34m\u001b[0m\u001b[0;34m\u001b[0m\u001b[0m\n\u001b[1;32m   5590\u001b[0m             \u001b[0;32mif\u001b[0m \u001b[0merrors\u001b[0m \u001b[0;34m!=\u001b[0m \u001b[0;34m\"ignore\"\u001b[0m\u001b[0;34m:\u001b[0m\u001b[0;34m\u001b[0m\u001b[0;34m\u001b[0m\u001b[0m\n\u001b[0;32m-> 5591\u001b[0;31m                 \u001b[0;32mraise\u001b[0m \u001b[0mKeyError\u001b[0m\u001b[0;34m(\u001b[0m\u001b[0;34mf\"{labels[mask]} not found in axis\"\u001b[0m\u001b[0;34m)\u001b[0m\u001b[0;34m\u001b[0m\u001b[0;34m\u001b[0m\u001b[0m\n\u001b[0m\u001b[1;32m   5592\u001b[0m             \u001b[0mindexer\u001b[0m \u001b[0;34m=\u001b[0m \u001b[0mindexer\u001b[0m\u001b[0;34m[\u001b[0m\u001b[0;34m~\u001b[0m\u001b[0mmask\u001b[0m\u001b[0;34m]\u001b[0m\u001b[0;34m\u001b[0m\u001b[0;34m\u001b[0m\u001b[0m\n\u001b[1;32m   5593\u001b[0m         \u001b[0;32mreturn\u001b[0m \u001b[0mself\u001b[0m\u001b[0;34m.\u001b[0m\u001b[0mdelete\u001b[0m\u001b[0;34m(\u001b[0m\u001b[0mindexer\u001b[0m\u001b[0;34m)\u001b[0m\u001b[0;34m\u001b[0m\u001b[0;34m\u001b[0m\u001b[0m\n",
      "\u001b[0;31mKeyError\u001b[0m: \"['Company3' 'Company4' 'Company5'] not found in axis\""
     ]
    }
   ],
   "source": [
    "# delete company 3,4,5\n",
    "all_company.drop(['Company3','Company4','Company5'],axis=1,inplace=True)"
   ]
  },
  {
   "cell_type": "code",
   "execution_count": 121,
   "metadata": {},
   "outputs": [
    {
     "output_type": "execute_result",
     "data": {
      "text/plain": [
       "                     Title                      Company1  \\\n",
       "0           Dawson's Creek   Columbia TriStar Television   \n",
       "1          The Mandalorian               Golem Creations   \n",
       "2             Breaking Bad          Gran Via Productions   \n",
       "3            The Blacklist          Universal Television   \n",
       "4                    Wayne              Endeavor Content   \n",
       "...                    ...                           ...   \n",
       "151665  Approach the Bench                 Above Average   \n",
       "151666        Supernatural       Warner Bros. Television   \n",
       "151667      Grey's Anatomy       The Mark Gordon Company   \n",
       "151668     Game of Thrones                Television 360   \n",
       "151669           A tu lado                    Martingala   \n",
       "\n",
       "                         Company2  \n",
       "0        Outerbanks Entertainment  \n",
       "1          Fairview Entertainment  \n",
       "2         High Bridge Productions  \n",
       "3             Davis Entertainment  \n",
       "4                             NaN  \n",
       "...                           ...  \n",
       "151665                        NaN  \n",
       "151666         Kripke Enterprises  \n",
       "151667                 Shondaland  \n",
       "151668      Home Box Office (HBO)  \n",
       "151669                        NaN  \n",
       "\n",
       "[151670 rows x 3 columns]"
      ],
      "text/html": "<div>\n<style scoped>\n    .dataframe tbody tr th:only-of-type {\n        vertical-align: middle;\n    }\n\n    .dataframe tbody tr th {\n        vertical-align: top;\n    }\n\n    .dataframe thead th {\n        text-align: right;\n    }\n</style>\n<table border=\"1\" class=\"dataframe\">\n  <thead>\n    <tr style=\"text-align: right;\">\n      <th></th>\n      <th>Title</th>\n      <th>Company1</th>\n      <th>Company2</th>\n    </tr>\n  </thead>\n  <tbody>\n    <tr>\n      <th>0</th>\n      <td>Dawson's Creek</td>\n      <td>Columbia TriStar Television</td>\n      <td>Outerbanks Entertainment</td>\n    </tr>\n    <tr>\n      <th>1</th>\n      <td>The Mandalorian</td>\n      <td>Golem Creations</td>\n      <td>Fairview Entertainment</td>\n    </tr>\n    <tr>\n      <th>2</th>\n      <td>Breaking Bad</td>\n      <td>Gran Via Productions</td>\n      <td>High Bridge Productions</td>\n    </tr>\n    <tr>\n      <th>3</th>\n      <td>The Blacklist</td>\n      <td>Universal Television</td>\n      <td>Davis Entertainment</td>\n    </tr>\n    <tr>\n      <th>4</th>\n      <td>Wayne</td>\n      <td>Endeavor Content</td>\n      <td>NaN</td>\n    </tr>\n    <tr>\n      <th>...</th>\n      <td>...</td>\n      <td>...</td>\n      <td>...</td>\n    </tr>\n    <tr>\n      <th>151665</th>\n      <td>Approach the Bench</td>\n      <td>Above Average</td>\n      <td>NaN</td>\n    </tr>\n    <tr>\n      <th>151666</th>\n      <td>Supernatural</td>\n      <td>Warner Bros. Television</td>\n      <td>Kripke Enterprises</td>\n    </tr>\n    <tr>\n      <th>151667</th>\n      <td>Grey's Anatomy</td>\n      <td>The Mark Gordon Company</td>\n      <td>Shondaland</td>\n    </tr>\n    <tr>\n      <th>151668</th>\n      <td>Game of Thrones</td>\n      <td>Television 360</td>\n      <td>Home Box Office (HBO)</td>\n    </tr>\n    <tr>\n      <th>151669</th>\n      <td>A tu lado</td>\n      <td>Martingala</td>\n      <td>NaN</td>\n    </tr>\n  </tbody>\n</table>\n<p>151670 rows × 3 columns</p>\n</div>"
     },
     "metadata": {},
     "execution_count": 121
    }
   ],
   "source": [
    "all_company"
   ]
  },
  {
   "source": [
    "# Double check Data"
   ],
   "cell_type": "markdown",
   "metadata": {}
  },
  {
   "cell_type": "code",
   "execution_count": 125,
   "metadata": {},
   "outputs": [
    {
     "output_type": "execute_result",
     "data": {
      "text/plain": [
       "          Title               Company1                  Company2\n",
       "2  Breaking Bad   Gran Via Productions   High Bridge Productions"
      ],
      "text/html": "<div>\n<style scoped>\n    .dataframe tbody tr th:only-of-type {\n        vertical-align: middle;\n    }\n\n    .dataframe tbody tr th {\n        vertical-align: top;\n    }\n\n    .dataframe thead th {\n        text-align: right;\n    }\n</style>\n<table border=\"1\" class=\"dataframe\">\n  <thead>\n    <tr style=\"text-align: right;\">\n      <th></th>\n      <th>Title</th>\n      <th>Company1</th>\n      <th>Company2</th>\n    </tr>\n  </thead>\n  <tbody>\n    <tr>\n      <th>2</th>\n      <td>Breaking Bad</td>\n      <td>Gran Via Productions</td>\n      <td>High Bridge Productions</td>\n    </tr>\n  </tbody>\n</table>\n</div>"
     },
     "metadata": {},
     "execution_count": 125
    }
   ],
   "source": [
    "all_company[all_company['Title'] =='Breaking Bad']"
   ]
  },
  {
   "cell_type": "code",
   "execution_count": 50,
   "metadata": {},
   "outputs": [],
   "source": [
    "all_moive.to_csv('first_update_all_company_data.csv',index=False)"
   ]
  },
  {
   "cell_type": "code",
   "execution_count": 100,
   "metadata": {},
   "outputs": [
    {
     "output_type": "execute_result",
     "data": {
      "text/plain": [
       "        finalist        Company1         Company2              Company3\n",
       "194846  The Boys   Original Film   Amazon Studios   Point Grey Pictures"
      ],
      "text/html": "<div>\n<style scoped>\n    .dataframe tbody tr th:only-of-type {\n        vertical-align: middle;\n    }\n\n    .dataframe tbody tr th {\n        vertical-align: top;\n    }\n\n    .dataframe thead th {\n        text-align: right;\n    }\n</style>\n<table border=\"1\" class=\"dataframe\">\n  <thead>\n    <tr style=\"text-align: right;\">\n      <th></th>\n      <th>finalist</th>\n      <th>Company1</th>\n      <th>Company2</th>\n      <th>Company3</th>\n    </tr>\n  </thead>\n  <tbody>\n    <tr>\n      <th>194846</th>\n      <td>The Boys</td>\n      <td>Original Film</td>\n      <td>Amazon Studios</td>\n      <td>Point Grey Pictures</td>\n    </tr>\n  </tbody>\n</table>\n</div>"
     },
     "metadata": {},
     "execution_count": 100
    }
   ],
   "source": [
    "all_moive[all_moive['finalist'] =='The Boys']"
   ]
  },
  {
   "cell_type": "code",
   "execution_count": 103,
   "metadata": {},
   "outputs": [],
   "source": [
    "all_moive.to_csv('second_update_all_company.csv',index=False)"
   ]
  },
  {
   "cell_type": "code",
   "execution_count": 104,
   "metadata": {},
   "outputs": [
    {
     "output_type": "execute_result",
     "data": {
      "text/plain": [
       "finalist         1\n",
       "Company1         0\n",
       "Company2    132990\n",
       "Company3    151059\n",
       "dtype: int64"
      ]
     },
     "metadata": {},
     "execution_count": 104
    }
   ],
   "source": [
    "all_moive.isna().sum()"
   ]
  },
  {
   "cell_type": "code",
   "execution_count": null,
   "metadata": {},
   "outputs": [],
   "source": []
  }
 ]
}