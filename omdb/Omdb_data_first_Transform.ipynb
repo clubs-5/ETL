{
 "metadata": {
  "language_info": {
   "codemirror_mode": {
    "name": "ipython",
    "version": 3
   },
   "file_extension": ".py",
   "mimetype": "text/x-python",
   "name": "python",
   "nbconvert_exporter": "python",
   "pygments_lexer": "ipython3",
   "version": "3.8.5-final"
  },
  "orig_nbformat": 2,
  "kernelspec": {
   "name": "python3",
   "display_name": "Python 3",
   "language": "python"
  }
 },
 "nbformat": 4,
 "nbformat_minor": 2,
 "cells": [
  {
   "cell_type": "code",
   "execution_count": 5,
   "metadata": {},
   "outputs": [],
   "source": [
    "import pandas as pd \n",
    "import re\n",
    "import numpy as np\n",
    "#import matplotlib.pyplot as plt\n",
    "#import plotly.graph_objects as go\n",
    "#from plotly.offline import init_notebook_mode, iplot\n",
    "#from wordcloud import WordCloud,STOPWORDS,ImageColorGenerator\n",
    "import seaborn as sns\n",
    "#from PIL import Image"
   ]
  },
  {
   "source": [
    "## input：omdb資料集csv檔\n",
    "\n",
    "## goal：做初步Transfrom 可以與其他資料集可以merge起來做EDA使用\n",
    "\n",
    "## output：omdb_csv"
   ],
   "cell_type": "markdown",
   "metadata": {}
  },
  {
   "cell_type": "code",
   "execution_count": 2,
   "metadata": {},
   "outputs": [
    {
     "output_type": "stream",
     "name": "stdout",
     "text": [
      "<class 'pandas.core.frame.DataFrame'>\nRangeIndex: 110590 entries, 0 to 110589\nData columns (total 23 columns):\n #   Column        Non-Null Count   Dtype  \n---  ------        --------------   -----  \n 0   _id           110590 non-null  object \n 1   Title         110590 non-null  object \n 2   Year          110590 non-null  object \n 3   Rated         14140 non-null   object \n 4   Released      87337 non-null   object \n 5   Runtime       57532 non-null   object \n 6   Genre         97966 non-null   object \n 7   Director      18000 non-null   object \n 8   Writer        28317 non-null   object \n 9   Actors        101403 non-null  object \n 10  Plot          57131 non-null   object \n 11  Language      103443 non-null  object \n 12  Country       105805 non-null  object \n 13  Awards        17092 non-null   object \n 14  Poster        53454 non-null   object \n 15  Ratings       110590 non-null  object \n 16  Metascore     2801 non-null    float64\n 17  imdbRating    57189 non-null   float64\n 18  imdbVotes     57158 non-null   object \n 19  imdbID        110590 non-null  object \n 20  Type          110590 non-null  object \n 21  totalSeasons  48737 non-null   object \n 22  Response      110590 non-null  bool   \ndtypes: bool(1), float64(2), object(20)\nmemory usage: 18.7+ MB\n"
     ]
    }
   ],
   "source": [
    "# 讀取資料\n",
    "omdb_data = pd.read_csv('./omdbdata1.csv')\n",
    "omdb_data.info()"
   ]
  },
  {
   "cell_type": "code",
   "execution_count": 3,
   "metadata": {},
   "outputs": [
    {
     "output_type": "execute_result",
     "data": {
      "text/plain": [
       "                        _id           Title       Year  Rated     Released  \\\n",
       "0  5fb14937f686757a60e6dc67        The Boys      2019–  TV-MA  26 Jul 2019   \n",
       "1  5fb14937f686757a60e6dc68  Schitt's Creek  2015–2020  TV-14  11 Feb 2015   \n",
       "2  5fb14937f686757a60e6dc69  Emily in Paris      2020–  TV-MA  02 Oct 2020   \n",
       "3  5fb14937f686757a60e6dc6a      This Is Us      2016–  TV-14  20 Sep 2016   \n",
       "4  5fb14937f686757a60e6dc6b       Cobra Kai      2018–  TV-14  02 May 2018   \n",
       "\n",
       "  Runtime                          Genre Director                 Writer  \\\n",
       "0  60 min  Action, Comedy, Crime, Sci-Fi      NaN            Eric Kripke   \n",
       "1  22 min                         Comedy      NaN  Dan Levy, Eugene Levy   \n",
       "2  30 min         Comedy, Drama, Romance      NaN            Darren Star   \n",
       "3  45 min         Comedy, Drama, Romance      NaN           Dan Fogelman   \n",
       "4  30 min   Action, Comedy, Drama, Sport      NaN                    NaN   \n",
       "\n",
       "                                              Actors  ...  \\\n",
       "0  Karl Urban, Jack Quaid, Antony Starr, Erin Mor...  ...   \n",
       "1  Eugene Levy, Catherine O'Hara, Dan Levy, Annie...  ...   \n",
       "2  Lily Collins, Philippine Leroy-Beaulieu, Ashle...  ...   \n",
       "3  Milo Ventimiglia, Mandy Moore, Sterling K. Bro...  ...   \n",
       "4  William Zabka, Tanner Buchanan, Mary Mouser, J...  ...   \n",
       "\n",
       "                                              Awards  \\\n",
       "0  Nominated for 1 Primetime Emmy. Another 1 win ...   \n",
       "1  Won 9 Primetime Emmys. Another 59 wins & 122 n...   \n",
       "2                                                NaN   \n",
       "3  Won 1 Golden Globe. Another 49 wins & 181 nomi...   \n",
       "4  Nominated for 2 Primetime Emmys. Another 8 nom...   \n",
       "\n",
       "                                              Poster  \\\n",
       "0  https://m.media-amazon.com/images/M/MV5BNGEyOG...   \n",
       "1  https://m.media-amazon.com/images/M/MV5BNWQ1Zm...   \n",
       "2  https://m.media-amazon.com/images/M/MV5BYTFjZj...   \n",
       "3  https://m.media-amazon.com/images/M/MV5BYjNlOW...   \n",
       "4  https://m.media-amazon.com/images/M/MV5BYTI3Nj...   \n",
       "\n",
       "                                             Ratings Metascore imdbRating  \\\n",
       "0  [{\"Source\":\"Internet Movie Database\",\"Value\":\"...       NaN        8.7   \n",
       "1  [{\"Source\":\"Internet Movie Database\",\"Value\":\"...       NaN        8.5   \n",
       "2  [{\"Source\":\"Internet Movie Database\",\"Value\":\"...       NaN        7.2   \n",
       "3  [{\"Source\":\"Internet Movie Database\",\"Value\":\"...       NaN        8.7   \n",
       "4  [{\"Source\":\"Internet Movie Database\",\"Value\":\"...       NaN        8.7   \n",
       "\n",
       "  imdbVotes     imdbID    Type totalSeasons Response  \n",
       "0   207,800  tt1190634  series            3     True  \n",
       "1    49,018  tt3526078  series            6     True  \n",
       "2    28,629  tt8962124  series         true     True  \n",
       "3    99,283  tt5555260  series            5     True  \n",
       "4    74,027  tt7221388  series            2     True  \n",
       "\n",
       "[5 rows x 23 columns]"
      ],
      "text/html": "<div>\n<style scoped>\n    .dataframe tbody tr th:only-of-type {\n        vertical-align: middle;\n    }\n\n    .dataframe tbody tr th {\n        vertical-align: top;\n    }\n\n    .dataframe thead th {\n        text-align: right;\n    }\n</style>\n<table border=\"1\" class=\"dataframe\">\n  <thead>\n    <tr style=\"text-align: right;\">\n      <th></th>\n      <th>_id</th>\n      <th>Title</th>\n      <th>Year</th>\n      <th>Rated</th>\n      <th>Released</th>\n      <th>Runtime</th>\n      <th>Genre</th>\n      <th>Director</th>\n      <th>Writer</th>\n      <th>Actors</th>\n      <th>...</th>\n      <th>Awards</th>\n      <th>Poster</th>\n      <th>Ratings</th>\n      <th>Metascore</th>\n      <th>imdbRating</th>\n      <th>imdbVotes</th>\n      <th>imdbID</th>\n      <th>Type</th>\n      <th>totalSeasons</th>\n      <th>Response</th>\n    </tr>\n  </thead>\n  <tbody>\n    <tr>\n      <th>0</th>\n      <td>5fb14937f686757a60e6dc67</td>\n      <td>The Boys</td>\n      <td>2019–</td>\n      <td>TV-MA</td>\n      <td>26 Jul 2019</td>\n      <td>60 min</td>\n      <td>Action, Comedy, Crime, Sci-Fi</td>\n      <td>NaN</td>\n      <td>Eric Kripke</td>\n      <td>Karl Urban, Jack Quaid, Antony Starr, Erin Mor...</td>\n      <td>...</td>\n      <td>Nominated for 1 Primetime Emmy. Another 1 win ...</td>\n      <td>https://m.media-amazon.com/images/M/MV5BNGEyOG...</td>\n      <td>[{\"Source\":\"Internet Movie Database\",\"Value\":\"...</td>\n      <td>NaN</td>\n      <td>8.7</td>\n      <td>207,800</td>\n      <td>tt1190634</td>\n      <td>series</td>\n      <td>3</td>\n      <td>True</td>\n    </tr>\n    <tr>\n      <th>1</th>\n      <td>5fb14937f686757a60e6dc68</td>\n      <td>Schitt's Creek</td>\n      <td>2015–2020</td>\n      <td>TV-14</td>\n      <td>11 Feb 2015</td>\n      <td>22 min</td>\n      <td>Comedy</td>\n      <td>NaN</td>\n      <td>Dan Levy, Eugene Levy</td>\n      <td>Eugene Levy, Catherine O'Hara, Dan Levy, Annie...</td>\n      <td>...</td>\n      <td>Won 9 Primetime Emmys. Another 59 wins &amp; 122 n...</td>\n      <td>https://m.media-amazon.com/images/M/MV5BNWQ1Zm...</td>\n      <td>[{\"Source\":\"Internet Movie Database\",\"Value\":\"...</td>\n      <td>NaN</td>\n      <td>8.5</td>\n      <td>49,018</td>\n      <td>tt3526078</td>\n      <td>series</td>\n      <td>6</td>\n      <td>True</td>\n    </tr>\n    <tr>\n      <th>2</th>\n      <td>5fb14937f686757a60e6dc69</td>\n      <td>Emily in Paris</td>\n      <td>2020–</td>\n      <td>TV-MA</td>\n      <td>02 Oct 2020</td>\n      <td>30 min</td>\n      <td>Comedy, Drama, Romance</td>\n      <td>NaN</td>\n      <td>Darren Star</td>\n      <td>Lily Collins, Philippine Leroy-Beaulieu, Ashle...</td>\n      <td>...</td>\n      <td>NaN</td>\n      <td>https://m.media-amazon.com/images/M/MV5BYTFjZj...</td>\n      <td>[{\"Source\":\"Internet Movie Database\",\"Value\":\"...</td>\n      <td>NaN</td>\n      <td>7.2</td>\n      <td>28,629</td>\n      <td>tt8962124</td>\n      <td>series</td>\n      <td>true</td>\n      <td>True</td>\n    </tr>\n    <tr>\n      <th>3</th>\n      <td>5fb14937f686757a60e6dc6a</td>\n      <td>This Is Us</td>\n      <td>2016–</td>\n      <td>TV-14</td>\n      <td>20 Sep 2016</td>\n      <td>45 min</td>\n      <td>Comedy, Drama, Romance</td>\n      <td>NaN</td>\n      <td>Dan Fogelman</td>\n      <td>Milo Ventimiglia, Mandy Moore, Sterling K. Bro...</td>\n      <td>...</td>\n      <td>Won 1 Golden Globe. Another 49 wins &amp; 181 nomi...</td>\n      <td>https://m.media-amazon.com/images/M/MV5BYjNlOW...</td>\n      <td>[{\"Source\":\"Internet Movie Database\",\"Value\":\"...</td>\n      <td>NaN</td>\n      <td>8.7</td>\n      <td>99,283</td>\n      <td>tt5555260</td>\n      <td>series</td>\n      <td>5</td>\n      <td>True</td>\n    </tr>\n    <tr>\n      <th>4</th>\n      <td>5fb14937f686757a60e6dc6b</td>\n      <td>Cobra Kai</td>\n      <td>2018–</td>\n      <td>TV-14</td>\n      <td>02 May 2018</td>\n      <td>30 min</td>\n      <td>Action, Comedy, Drama, Sport</td>\n      <td>NaN</td>\n      <td>NaN</td>\n      <td>William Zabka, Tanner Buchanan, Mary Mouser, J...</td>\n      <td>...</td>\n      <td>Nominated for 2 Primetime Emmys. Another 8 nom...</td>\n      <td>https://m.media-amazon.com/images/M/MV5BYTI3Nj...</td>\n      <td>[{\"Source\":\"Internet Movie Database\",\"Value\":\"...</td>\n      <td>NaN</td>\n      <td>8.7</td>\n      <td>74,027</td>\n      <td>tt7221388</td>\n      <td>series</td>\n      <td>2</td>\n      <td>True</td>\n    </tr>\n  </tbody>\n</table>\n<p>5 rows × 23 columns</p>\n</div>"
     },
     "metadata": {},
     "execution_count": 3
    }
   ],
   "source": [
    "omdb_data['Title'] = omdb_data['Title'].astype(str)\n",
    "omdb_data['Title'] = omdb_data['Title'].apply(lambda x : x.strip())\n",
    "omdb_data.head()"
   ]
  },
  {
   "source": [
    "# 影集推薦系統  電影Type刪除"
   ],
   "cell_type": "markdown",
   "metadata": {}
  },
  {
   "cell_type": "code",
   "execution_count": 6,
   "metadata": {},
   "outputs": [
    {
     "output_type": "display_data",
     "data": {
      "text/plain": "<Figure size 432x288 with 1 Axes>",
      "image/svg+xml": "<?xml version=\"1.0\" encoding=\"utf-8\" standalone=\"no\"?>\n<!DOCTYPE svg PUBLIC \"-//W3C//DTD SVG 1.1//EN\"\n  \"http://www.w3.org/Graphics/SVG/1.1/DTD/svg11.dtd\">\n<!-- Created with matplotlib (https://matplotlib.org/) -->\n<svg height=\"267.599687pt\" version=\"1.1\" viewBox=\"0 0 409.3075 267.599687\" width=\"409.3075pt\" xmlns=\"http://www.w3.org/2000/svg\" xmlns:xlink=\"http://www.w3.org/1999/xlink\">\n <metadata>\n  <rdf:RDF xmlns:cc=\"http://creativecommons.org/ns#\" xmlns:dc=\"http://purl.org/dc/elements/1.1/\" xmlns:rdf=\"http://www.w3.org/1999/02/22-rdf-syntax-ns#\">\n   <cc:Work>\n    <dc:type rdf:resource=\"http://purl.org/dc/dcmitype/StillImage\"/>\n    <dc:date>2021-01-13T19:56:01.182699</dc:date>\n    <dc:format>image/svg+xml</dc:format>\n    <dc:creator>\n     <cc:Agent>\n      <dc:title>Matplotlib v3.3.2, https://matplotlib.org/</dc:title>\n     </cc:Agent>\n    </dc:creator>\n   </cc:Work>\n  </rdf:RDF>\n </metadata>\n <defs>\n  <style type=\"text/css\">*{stroke-linecap:butt;stroke-linejoin:round;}</style>\n </defs>\n <g id=\"figure_1\">\n  <g id=\"patch_1\">\n   <path d=\"M 0 267.599687 \nL 409.3075 267.599687 \nL 409.3075 0 \nL 0 0 \nz\n\" style=\"fill:#ffffff;\"/>\n  </g>\n  <g id=\"axes_1\">\n   <g id=\"patch_2\">\n    <path d=\"M 67.3075 224.64 \nL 402.1075 224.64 \nL 402.1075 7.2 \nL 67.3075 7.2 \nz\n\" style=\"fill:#eaeaf2;\"/>\n   </g>\n   <g id=\"matplotlib.axis_1\">\n    <g id=\"xtick_1\">\n     <g id=\"text_1\">\n      <!-- series -->\n      <g style=\"fill:#262626;\" transform=\"translate(134.719766 242.498281)scale(0.11 -0.11)\">\n       <defs>\n        <path d=\"M 44.28125 53.078125 \nL 44.28125 44.578125 \nQ 40.484375 46.53125 36.375 47.5 \nQ 32.28125 48.484375 27.875 48.484375 \nQ 21.1875 48.484375 17.84375 46.4375 \nQ 14.5 44.390625 14.5 40.28125 \nQ 14.5 37.15625 16.890625 35.375 \nQ 19.28125 33.59375 26.515625 31.984375 \nL 29.59375 31.296875 \nQ 39.15625 29.25 43.1875 25.515625 \nQ 47.21875 21.78125 47.21875 15.09375 \nQ 47.21875 7.46875 41.1875 3.015625 \nQ 35.15625 -1.421875 24.609375 -1.421875 \nQ 20.21875 -1.421875 15.453125 -0.5625 \nQ 10.6875 0.296875 5.421875 2 \nL 5.421875 11.28125 \nQ 10.40625 8.6875 15.234375 7.390625 \nQ 20.0625 6.109375 24.8125 6.109375 \nQ 31.15625 6.109375 34.5625 8.28125 \nQ 37.984375 10.453125 37.984375 14.40625 \nQ 37.984375 18.0625 35.515625 20.015625 \nQ 33.0625 21.96875 24.703125 23.78125 \nL 21.578125 24.515625 \nQ 13.234375 26.265625 9.515625 29.90625 \nQ 5.8125 33.546875 5.8125 39.890625 \nQ 5.8125 47.609375 11.28125 51.796875 \nQ 16.75 56 26.8125 56 \nQ 31.78125 56 36.171875 55.265625 \nQ 40.578125 54.546875 44.28125 53.078125 \nz\n\" id=\"DejaVuSans-115\"/>\n        <path d=\"M 56.203125 29.59375 \nL 56.203125 25.203125 \nL 14.890625 25.203125 \nQ 15.484375 15.921875 20.484375 11.0625 \nQ 25.484375 6.203125 34.421875 6.203125 \nQ 39.59375 6.203125 44.453125 7.46875 \nQ 49.3125 8.734375 54.109375 11.28125 \nL 54.109375 2.78125 \nQ 49.265625 0.734375 44.1875 -0.34375 \nQ 39.109375 -1.421875 33.890625 -1.421875 \nQ 20.796875 -1.421875 13.15625 6.1875 \nQ 5.515625 13.8125 5.515625 26.8125 \nQ 5.515625 40.234375 12.765625 48.109375 \nQ 20.015625 56 32.328125 56 \nQ 43.359375 56 49.78125 48.890625 \nQ 56.203125 41.796875 56.203125 29.59375 \nz\nM 47.21875 32.234375 \nQ 47.125 39.59375 43.09375 43.984375 \nQ 39.0625 48.390625 32.421875 48.390625 \nQ 24.90625 48.390625 20.390625 44.140625 \nQ 15.875 39.890625 15.1875 32.171875 \nz\n\" id=\"DejaVuSans-101\"/>\n        <path d=\"M 41.109375 46.296875 \nQ 39.59375 47.171875 37.8125 47.578125 \nQ 36.03125 48 33.890625 48 \nQ 26.265625 48 22.1875 43.046875 \nQ 18.109375 38.09375 18.109375 28.8125 \nL 18.109375 0 \nL 9.078125 0 \nL 9.078125 54.6875 \nL 18.109375 54.6875 \nL 18.109375 46.1875 \nQ 20.953125 51.171875 25.484375 53.578125 \nQ 30.03125 56 36.53125 56 \nQ 37.453125 56 38.578125 55.875 \nQ 39.703125 55.765625 41.0625 55.515625 \nz\n\" id=\"DejaVuSans-114\"/>\n        <path d=\"M 9.421875 54.6875 \nL 18.40625 54.6875 \nL 18.40625 0 \nL 9.421875 0 \nz\nM 9.421875 75.984375 \nL 18.40625 75.984375 \nL 18.40625 64.59375 \nL 9.421875 64.59375 \nz\n\" id=\"DejaVuSans-105\"/>\n       </defs>\n       <use xlink:href=\"#DejaVuSans-115\"/>\n       <use x=\"52.099609\" xlink:href=\"#DejaVuSans-101\"/>\n       <use x=\"113.623047\" xlink:href=\"#DejaVuSans-114\"/>\n       <use x=\"154.736328\" xlink:href=\"#DejaVuSans-105\"/>\n       <use x=\"182.519531\" xlink:href=\"#DejaVuSans-101\"/>\n       <use x=\"244.042969\" xlink:href=\"#DejaVuSans-115\"/>\n      </g>\n     </g>\n    </g>\n    <g id=\"xtick_2\">\n     <g id=\"text_2\">\n      <!-- movie -->\n      <g style=\"fill:#262626;\" transform=\"translate(301.517344 242.498281)scale(0.11 -0.11)\">\n       <defs>\n        <path d=\"M 52 44.1875 \nQ 55.375 50.25 60.0625 53.125 \nQ 64.75 56 71.09375 56 \nQ 79.640625 56 84.28125 50.015625 \nQ 88.921875 44.046875 88.921875 33.015625 \nL 88.921875 0 \nL 79.890625 0 \nL 79.890625 32.71875 \nQ 79.890625 40.578125 77.09375 44.375 \nQ 74.3125 48.1875 68.609375 48.1875 \nQ 61.625 48.1875 57.5625 43.546875 \nQ 53.515625 38.921875 53.515625 30.90625 \nL 53.515625 0 \nL 44.484375 0 \nL 44.484375 32.71875 \nQ 44.484375 40.625 41.703125 44.40625 \nQ 38.921875 48.1875 33.109375 48.1875 \nQ 26.21875 48.1875 22.15625 43.53125 \nQ 18.109375 38.875 18.109375 30.90625 \nL 18.109375 0 \nL 9.078125 0 \nL 9.078125 54.6875 \nL 18.109375 54.6875 \nL 18.109375 46.1875 \nQ 21.1875 51.21875 25.484375 53.609375 \nQ 29.78125 56 35.6875 56 \nQ 41.65625 56 45.828125 52.96875 \nQ 50 49.953125 52 44.1875 \nz\n\" id=\"DejaVuSans-109\"/>\n        <path d=\"M 30.609375 48.390625 \nQ 23.390625 48.390625 19.1875 42.75 \nQ 14.984375 37.109375 14.984375 27.296875 \nQ 14.984375 17.484375 19.15625 11.84375 \nQ 23.34375 6.203125 30.609375 6.203125 \nQ 37.796875 6.203125 41.984375 11.859375 \nQ 46.1875 17.53125 46.1875 27.296875 \nQ 46.1875 37.015625 41.984375 42.703125 \nQ 37.796875 48.390625 30.609375 48.390625 \nz\nM 30.609375 56 \nQ 42.328125 56 49.015625 48.375 \nQ 55.71875 40.765625 55.71875 27.296875 \nQ 55.71875 13.875 49.015625 6.21875 \nQ 42.328125 -1.421875 30.609375 -1.421875 \nQ 18.84375 -1.421875 12.171875 6.21875 \nQ 5.515625 13.875 5.515625 27.296875 \nQ 5.515625 40.765625 12.171875 48.375 \nQ 18.84375 56 30.609375 56 \nz\n\" id=\"DejaVuSans-111\"/>\n        <path d=\"M 2.984375 54.6875 \nL 12.5 54.6875 \nL 29.59375 8.796875 \nL 46.6875 54.6875 \nL 56.203125 54.6875 \nL 35.6875 0 \nL 23.484375 0 \nz\n\" id=\"DejaVuSans-118\"/>\n       </defs>\n       <use xlink:href=\"#DejaVuSans-109\"/>\n       <use x=\"97.412109\" xlink:href=\"#DejaVuSans-111\"/>\n       <use x=\"158.59375\" xlink:href=\"#DejaVuSans-118\"/>\n       <use x=\"217.773438\" xlink:href=\"#DejaVuSans-105\"/>\n       <use x=\"245.556641\" xlink:href=\"#DejaVuSans-101\"/>\n      </g>\n     </g>\n    </g>\n    <g id=\"text_3\">\n     <!-- Type -->\n     <g style=\"fill:#262626;\" transform=\"translate(220.928125 257.904062)scale(0.12 -0.12)\">\n      <defs>\n       <path d=\"M -0.296875 72.90625 \nL 61.375 72.90625 \nL 61.375 64.59375 \nL 35.5 64.59375 \nL 35.5 0 \nL 25.59375 0 \nL 25.59375 64.59375 \nL -0.296875 64.59375 \nz\n\" id=\"DejaVuSans-84\"/>\n       <path d=\"M 32.171875 -5.078125 \nQ 28.375 -14.84375 24.75 -17.8125 \nQ 21.140625 -20.796875 15.09375 -20.796875 \nL 7.90625 -20.796875 \nL 7.90625 -13.28125 \nL 13.1875 -13.28125 \nQ 16.890625 -13.28125 18.9375 -11.515625 \nQ 21 -9.765625 23.484375 -3.21875 \nL 25.09375 0.875 \nL 2.984375 54.6875 \nL 12.5 54.6875 \nL 29.59375 11.921875 \nL 46.6875 54.6875 \nL 56.203125 54.6875 \nz\n\" id=\"DejaVuSans-121\"/>\n       <path d=\"M 18.109375 8.203125 \nL 18.109375 -20.796875 \nL 9.078125 -20.796875 \nL 9.078125 54.6875 \nL 18.109375 54.6875 \nL 18.109375 46.390625 \nQ 20.953125 51.265625 25.265625 53.625 \nQ 29.59375 56 35.59375 56 \nQ 45.5625 56 51.78125 48.09375 \nQ 58.015625 40.1875 58.015625 27.296875 \nQ 58.015625 14.40625 51.78125 6.484375 \nQ 45.5625 -1.421875 35.59375 -1.421875 \nQ 29.59375 -1.421875 25.265625 0.953125 \nQ 20.953125 3.328125 18.109375 8.203125 \nz\nM 48.6875 27.296875 \nQ 48.6875 37.203125 44.609375 42.84375 \nQ 40.53125 48.484375 33.40625 48.484375 \nQ 26.265625 48.484375 22.1875 42.84375 \nQ 18.109375 37.203125 18.109375 27.296875 \nQ 18.109375 17.390625 22.1875 11.75 \nQ 26.265625 6.109375 33.40625 6.109375 \nQ 40.53125 6.109375 44.609375 11.75 \nQ 48.6875 17.390625 48.6875 27.296875 \nz\n\" id=\"DejaVuSans-112\"/>\n      </defs>\n      <use xlink:href=\"#DejaVuSans-84\"/>\n      <use x=\"45.458984\" xlink:href=\"#DejaVuSans-121\"/>\n      <use x=\"104.638672\" xlink:href=\"#DejaVuSans-112\"/>\n      <use x=\"168.115234\" xlink:href=\"#DejaVuSans-101\"/>\n     </g>\n    </g>\n   </g>\n   <g id=\"matplotlib.axis_2\">\n    <g id=\"ytick_1\">\n     <g id=\"line2d_1\">\n      <path clip-path=\"url(#p043a3d33b7)\" d=\"M 67.3075 224.64 \nL 402.1075 224.64 \n\" style=\"fill:none;stroke:#ffffff;stroke-linecap:round;\"/>\n     </g>\n     <g id=\"text_4\">\n      <!-- 0 -->\n      <g style=\"fill:#262626;\" transform=\"translate(50.80875 228.819141)scale(0.11 -0.11)\">\n       <defs>\n        <path d=\"M 31.78125 66.40625 \nQ 24.171875 66.40625 20.328125 58.90625 \nQ 16.5 51.421875 16.5 36.375 \nQ 16.5 21.390625 20.328125 13.890625 \nQ 24.171875 6.390625 31.78125 6.390625 \nQ 39.453125 6.390625 43.28125 13.890625 \nQ 47.125 21.390625 47.125 36.375 \nQ 47.125 51.421875 43.28125 58.90625 \nQ 39.453125 66.40625 31.78125 66.40625 \nz\nM 31.78125 74.21875 \nQ 44.046875 74.21875 50.515625 64.515625 \nQ 56.984375 54.828125 56.984375 36.375 \nQ 56.984375 17.96875 50.515625 8.265625 \nQ 44.046875 -1.421875 31.78125 -1.421875 \nQ 19.53125 -1.421875 13.0625 8.265625 \nQ 6.59375 17.96875 6.59375 36.375 \nQ 6.59375 54.828125 13.0625 64.515625 \nQ 19.53125 74.21875 31.78125 74.21875 \nz\n\" id=\"DejaVuSans-48\"/>\n       </defs>\n       <use xlink:href=\"#DejaVuSans-48\"/>\n      </g>\n     </g>\n    </g>\n    <g id=\"ytick_2\">\n     <g id=\"line2d_2\">\n      <path clip-path=\"url(#p043a3d33b7)\" d=\"M 67.3075 180.320838 \nL 402.1075 180.320838 \n\" style=\"fill:none;stroke:#ffffff;stroke-linecap:round;\"/>\n     </g>\n     <g id=\"text_5\">\n      <!-- 20000 -->\n      <g style=\"fill:#262626;\" transform=\"translate(22.81375 184.499979)scale(0.11 -0.11)\">\n       <defs>\n        <path d=\"M 19.1875 8.296875 \nL 53.609375 8.296875 \nL 53.609375 0 \nL 7.328125 0 \nL 7.328125 8.296875 \nQ 12.9375 14.109375 22.625 23.890625 \nQ 32.328125 33.6875 34.8125 36.53125 \nQ 39.546875 41.84375 41.421875 45.53125 \nQ 43.3125 49.21875 43.3125 52.78125 \nQ 43.3125 58.59375 39.234375 62.25 \nQ 35.15625 65.921875 28.609375 65.921875 \nQ 23.96875 65.921875 18.8125 64.3125 \nQ 13.671875 62.703125 7.8125 59.421875 \nL 7.8125 69.390625 \nQ 13.765625 71.78125 18.9375 73 \nQ 24.125 74.21875 28.421875 74.21875 \nQ 39.75 74.21875 46.484375 68.546875 \nQ 53.21875 62.890625 53.21875 53.421875 \nQ 53.21875 48.921875 51.53125 44.890625 \nQ 49.859375 40.875 45.40625 35.40625 \nQ 44.1875 33.984375 37.640625 27.21875 \nQ 31.109375 20.453125 19.1875 8.296875 \nz\n\" id=\"DejaVuSans-50\"/>\n       </defs>\n       <use xlink:href=\"#DejaVuSans-50\"/>\n       <use x=\"63.623047\" xlink:href=\"#DejaVuSans-48\"/>\n       <use x=\"127.246094\" xlink:href=\"#DejaVuSans-48\"/>\n       <use x=\"190.869141\" xlink:href=\"#DejaVuSans-48\"/>\n       <use x=\"254.492188\" xlink:href=\"#DejaVuSans-48\"/>\n      </g>\n     </g>\n    </g>\n    <g id=\"ytick_3\">\n     <g id=\"line2d_3\">\n      <path clip-path=\"url(#p043a3d33b7)\" d=\"M 67.3075 136.001677 \nL 402.1075 136.001677 \n\" style=\"fill:none;stroke:#ffffff;stroke-linecap:round;\"/>\n     </g>\n     <g id=\"text_6\">\n      <!-- 40000 -->\n      <g style=\"fill:#262626;\" transform=\"translate(22.81375 140.180818)scale(0.11 -0.11)\">\n       <defs>\n        <path d=\"M 37.796875 64.3125 \nL 12.890625 25.390625 \nL 37.796875 25.390625 \nz\nM 35.203125 72.90625 \nL 47.609375 72.90625 \nL 47.609375 25.390625 \nL 58.015625 25.390625 \nL 58.015625 17.1875 \nL 47.609375 17.1875 \nL 47.609375 0 \nL 37.796875 0 \nL 37.796875 17.1875 \nL 4.890625 17.1875 \nL 4.890625 26.703125 \nz\n\" id=\"DejaVuSans-52\"/>\n       </defs>\n       <use xlink:href=\"#DejaVuSans-52\"/>\n       <use x=\"63.623047\" xlink:href=\"#DejaVuSans-48\"/>\n       <use x=\"127.246094\" xlink:href=\"#DejaVuSans-48\"/>\n       <use x=\"190.869141\" xlink:href=\"#DejaVuSans-48\"/>\n       <use x=\"254.492188\" xlink:href=\"#DejaVuSans-48\"/>\n      </g>\n     </g>\n    </g>\n    <g id=\"ytick_4\">\n     <g id=\"line2d_4\">\n      <path clip-path=\"url(#p043a3d33b7)\" d=\"M 67.3075 91.682515 \nL 402.1075 91.682515 \n\" style=\"fill:none;stroke:#ffffff;stroke-linecap:round;\"/>\n     </g>\n     <g id=\"text_7\">\n      <!-- 60000 -->\n      <g style=\"fill:#262626;\" transform=\"translate(22.81375 95.861656)scale(0.11 -0.11)\">\n       <defs>\n        <path d=\"M 33.015625 40.375 \nQ 26.375 40.375 22.484375 35.828125 \nQ 18.609375 31.296875 18.609375 23.390625 \nQ 18.609375 15.53125 22.484375 10.953125 \nQ 26.375 6.390625 33.015625 6.390625 \nQ 39.65625 6.390625 43.53125 10.953125 \nQ 47.40625 15.53125 47.40625 23.390625 \nQ 47.40625 31.296875 43.53125 35.828125 \nQ 39.65625 40.375 33.015625 40.375 \nz\nM 52.59375 71.296875 \nL 52.59375 62.3125 \nQ 48.875 64.0625 45.09375 64.984375 \nQ 41.3125 65.921875 37.59375 65.921875 \nQ 27.828125 65.921875 22.671875 59.328125 \nQ 17.53125 52.734375 16.796875 39.40625 \nQ 19.671875 43.65625 24.015625 45.921875 \nQ 28.375 48.1875 33.59375 48.1875 \nQ 44.578125 48.1875 50.953125 41.515625 \nQ 57.328125 34.859375 57.328125 23.390625 \nQ 57.328125 12.15625 50.6875 5.359375 \nQ 44.046875 -1.421875 33.015625 -1.421875 \nQ 20.359375 -1.421875 13.671875 8.265625 \nQ 6.984375 17.96875 6.984375 36.375 \nQ 6.984375 53.65625 15.1875 63.9375 \nQ 23.390625 74.21875 37.203125 74.21875 \nQ 40.921875 74.21875 44.703125 73.484375 \nQ 48.484375 72.75 52.59375 71.296875 \nz\n\" id=\"DejaVuSans-54\"/>\n       </defs>\n       <use xlink:href=\"#DejaVuSans-54\"/>\n       <use x=\"63.623047\" xlink:href=\"#DejaVuSans-48\"/>\n       <use x=\"127.246094\" xlink:href=\"#DejaVuSans-48\"/>\n       <use x=\"190.869141\" xlink:href=\"#DejaVuSans-48\"/>\n       <use x=\"254.492188\" xlink:href=\"#DejaVuSans-48\"/>\n      </g>\n     </g>\n    </g>\n    <g id=\"ytick_5\">\n     <g id=\"line2d_5\">\n      <path clip-path=\"url(#p043a3d33b7)\" d=\"M 67.3075 47.363354 \nL 402.1075 47.363354 \n\" style=\"fill:none;stroke:#ffffff;stroke-linecap:round;\"/>\n     </g>\n     <g id=\"text_8\">\n      <!-- 80000 -->\n      <g style=\"fill:#262626;\" transform=\"translate(22.81375 51.542494)scale(0.11 -0.11)\">\n       <defs>\n        <path d=\"M 31.78125 34.625 \nQ 24.75 34.625 20.71875 30.859375 \nQ 16.703125 27.09375 16.703125 20.515625 \nQ 16.703125 13.921875 20.71875 10.15625 \nQ 24.75 6.390625 31.78125 6.390625 \nQ 38.8125 6.390625 42.859375 10.171875 \nQ 46.921875 13.96875 46.921875 20.515625 \nQ 46.921875 27.09375 42.890625 30.859375 \nQ 38.875 34.625 31.78125 34.625 \nz\nM 21.921875 38.8125 \nQ 15.578125 40.375 12.03125 44.71875 \nQ 8.5 49.078125 8.5 55.328125 \nQ 8.5 64.0625 14.71875 69.140625 \nQ 20.953125 74.21875 31.78125 74.21875 \nQ 42.671875 74.21875 48.875 69.140625 \nQ 55.078125 64.0625 55.078125 55.328125 \nQ 55.078125 49.078125 51.53125 44.71875 \nQ 48 40.375 41.703125 38.8125 \nQ 48.828125 37.15625 52.796875 32.3125 \nQ 56.78125 27.484375 56.78125 20.515625 \nQ 56.78125 9.90625 50.3125 4.234375 \nQ 43.84375 -1.421875 31.78125 -1.421875 \nQ 19.734375 -1.421875 13.25 4.234375 \nQ 6.78125 9.90625 6.78125 20.515625 \nQ 6.78125 27.484375 10.78125 32.3125 \nQ 14.796875 37.15625 21.921875 38.8125 \nz\nM 18.3125 54.390625 \nQ 18.3125 48.734375 21.84375 45.5625 \nQ 25.390625 42.390625 31.78125 42.390625 \nQ 38.140625 42.390625 41.71875 45.5625 \nQ 45.3125 48.734375 45.3125 54.390625 \nQ 45.3125 60.0625 41.71875 63.234375 \nQ 38.140625 66.40625 31.78125 66.40625 \nQ 25.390625 66.40625 21.84375 63.234375 \nQ 18.3125 60.0625 18.3125 54.390625 \nz\n\" id=\"DejaVuSans-56\"/>\n       </defs>\n       <use xlink:href=\"#DejaVuSans-56\"/>\n       <use x=\"63.623047\" xlink:href=\"#DejaVuSans-48\"/>\n       <use x=\"127.246094\" xlink:href=\"#DejaVuSans-48\"/>\n       <use x=\"190.869141\" xlink:href=\"#DejaVuSans-48\"/>\n       <use x=\"254.492188\" xlink:href=\"#DejaVuSans-48\"/>\n      </g>\n     </g>\n    </g>\n    <g id=\"text_9\">\n     <!-- count -->\n     <g style=\"fill:#262626;\" transform=\"translate(16.318125 132.8475)rotate(-90)scale(0.12 -0.12)\">\n      <defs>\n       <path d=\"M 48.78125 52.59375 \nL 48.78125 44.1875 \nQ 44.96875 46.296875 41.140625 47.34375 \nQ 37.3125 48.390625 33.40625 48.390625 \nQ 24.65625 48.390625 19.8125 42.84375 \nQ 14.984375 37.3125 14.984375 27.296875 \nQ 14.984375 17.28125 19.8125 11.734375 \nQ 24.65625 6.203125 33.40625 6.203125 \nQ 37.3125 6.203125 41.140625 7.25 \nQ 44.96875 8.296875 48.78125 10.40625 \nL 48.78125 2.09375 \nQ 45.015625 0.34375 40.984375 -0.53125 \nQ 36.96875 -1.421875 32.421875 -1.421875 \nQ 20.0625 -1.421875 12.78125 6.34375 \nQ 5.515625 14.109375 5.515625 27.296875 \nQ 5.515625 40.671875 12.859375 48.328125 \nQ 20.21875 56 33.015625 56 \nQ 37.15625 56 41.109375 55.140625 \nQ 45.0625 54.296875 48.78125 52.59375 \nz\n\" id=\"DejaVuSans-99\"/>\n       <path d=\"M 8.5 21.578125 \nL 8.5 54.6875 \nL 17.484375 54.6875 \nL 17.484375 21.921875 \nQ 17.484375 14.15625 20.5 10.265625 \nQ 23.53125 6.390625 29.59375 6.390625 \nQ 36.859375 6.390625 41.078125 11.03125 \nQ 45.3125 15.671875 45.3125 23.6875 \nL 45.3125 54.6875 \nL 54.296875 54.6875 \nL 54.296875 0 \nL 45.3125 0 \nL 45.3125 8.40625 \nQ 42.046875 3.421875 37.71875 1 \nQ 33.40625 -1.421875 27.6875 -1.421875 \nQ 18.265625 -1.421875 13.375 4.4375 \nQ 8.5 10.296875 8.5 21.578125 \nz\nM 31.109375 56 \nz\n\" id=\"DejaVuSans-117\"/>\n       <path d=\"M 54.890625 33.015625 \nL 54.890625 0 \nL 45.90625 0 \nL 45.90625 32.71875 \nQ 45.90625 40.484375 42.875 44.328125 \nQ 39.84375 48.1875 33.796875 48.1875 \nQ 26.515625 48.1875 22.3125 43.546875 \nQ 18.109375 38.921875 18.109375 30.90625 \nL 18.109375 0 \nL 9.078125 0 \nL 9.078125 54.6875 \nL 18.109375 54.6875 \nL 18.109375 46.1875 \nQ 21.34375 51.125 25.703125 53.5625 \nQ 30.078125 56 35.796875 56 \nQ 45.21875 56 50.046875 50.171875 \nQ 54.890625 44.34375 54.890625 33.015625 \nz\n\" id=\"DejaVuSans-110\"/>\n       <path d=\"M 18.3125 70.21875 \nL 18.3125 54.6875 \nL 36.8125 54.6875 \nL 36.8125 47.703125 \nL 18.3125 47.703125 \nL 18.3125 18.015625 \nQ 18.3125 11.328125 20.140625 9.421875 \nQ 21.96875 7.515625 27.59375 7.515625 \nL 36.8125 7.515625 \nL 36.8125 0 \nL 27.59375 0 \nQ 17.1875 0 13.234375 3.875 \nQ 9.28125 7.765625 9.28125 18.015625 \nL 9.28125 47.703125 \nL 2.6875 47.703125 \nL 2.6875 54.6875 \nL 9.28125 54.6875 \nL 9.28125 70.21875 \nz\n\" id=\"DejaVuSans-116\"/>\n      </defs>\n      <use xlink:href=\"#DejaVuSans-99\"/>\n      <use x=\"54.980469\" xlink:href=\"#DejaVuSans-111\"/>\n      <use x=\"116.162109\" xlink:href=\"#DejaVuSans-117\"/>\n      <use x=\"179.541016\" xlink:href=\"#DejaVuSans-110\"/>\n      <use x=\"242.919922\" xlink:href=\"#DejaVuSans-116\"/>\n     </g>\n    </g>\n   </g>\n   <g id=\"patch_3\">\n    <path clip-path=\"url(#p043a3d33b7)\" d=\"M 84.0475 224.64 \nL 217.9675 224.64 \nL 217.9675 17.554286 \nL 84.0475 17.554286 \nz\n\" style=\"fill:#72b6a1;stroke:#ffffff;stroke-linejoin:miter;\"/>\n   </g>\n   <g id=\"patch_4\">\n    <path clip-path=\"url(#p043a3d33b7)\" d=\"M 251.4475 224.64 \nL 385.3675 224.64 \nL 385.3675 186.66291 \nL 251.4475 186.66291 \nz\n\" style=\"fill:#e99675;stroke:#ffffff;stroke-linejoin:miter;\"/>\n   </g>\n   <g id=\"patch_5\">\n    <path d=\"M 67.3075 224.64 \nL 67.3075 7.2 \n\" style=\"fill:none;stroke:#ffffff;stroke-linecap:square;stroke-linejoin:miter;stroke-width:1.25;\"/>\n   </g>\n   <g id=\"patch_6\">\n    <path d=\"M 402.1075 224.64 \nL 402.1075 7.2 \n\" style=\"fill:none;stroke:#ffffff;stroke-linecap:square;stroke-linejoin:miter;stroke-width:1.25;\"/>\n   </g>\n   <g id=\"patch_7\">\n    <path d=\"M 67.3075 224.64 \nL 402.1075 224.64 \n\" style=\"fill:none;stroke:#ffffff;stroke-linecap:square;stroke-linejoin:miter;stroke-width:1.25;\"/>\n   </g>\n   <g id=\"patch_8\">\n    <path d=\"M 67.3075 7.2 \nL 402.1075 7.2 \n\" style=\"fill:none;stroke:#ffffff;stroke-linecap:square;stroke-linejoin:miter;stroke-width:1.25;\"/>\n   </g>\n  </g>\n </g>\n <defs>\n  <clipPath id=\"p043a3d33b7\">\n   <rect height=\"217.44\" width=\"334.8\" x=\"67.3075\" y=\"7.2\"/>\n  </clipPath>\n </defs>\n</svg>\n",
      "image/png": "[encoded data removed]"
     },
     "metadata": {}
    }
   ],
   "source": [
    "# data type movie and TV count\n",
    "sns.set(style = 'darkgrid')\n",
    "ax = sns.countplot(x= 'Type' ,data = omdb_data ,palette='Set2')"
   ]
  },
  {
   "cell_type": "code",
   "execution_count": 8,
   "metadata": {},
   "outputs": [],
   "source": [
    "omdb_data = omdb_data[omdb_data.Type =='series']"
   ]
  },
  {
   "cell_type": "code",
   "execution_count": 9,
   "metadata": {},
   "outputs": [],
   "source": [
    "# 刪除重複Title\n",
    "omdb_data['Title'].drop_duplicates(inplace=True)"
   ]
  },
  {
   "cell_type": "code",
   "execution_count": 10,
   "metadata": {},
   "outputs": [],
   "source": [
    "# 刪除不需要的欄位\n",
    "omdb_data.drop(['Response','Poster','Metascore'],axis=1,inplace=True)"
   ]
  },
  {
   "cell_type": "code",
   "execution_count": 11,
   "metadata": {},
   "outputs": [
    {
     "output_type": "execute_result",
     "data": {
      "text/plain": [
       "_id             0.000000\n",
       "Title           0.000000\n",
       "Year            0.000000\n",
       "Rated           0.775260\n",
       "Released        0.179926\n",
       "Runtime         0.452437\n",
       "Genre           0.107080\n",
       "Director        0.829478\n",
       "Writer          0.720183\n",
       "Actors          0.070965\n",
       "Plot            0.445926\n",
       "Language        0.055864\n",
       "Country         0.039325\n",
       "Awards          0.744353\n",
       "Ratings         0.000000\n",
       "imdbRating      0.442545\n",
       "imdbVotes       0.442807\n",
       "imdbID          0.000000\n",
       "Type            0.000000\n",
       "totalSeasons    0.404331\n",
       "dtype: float64"
      ]
     },
     "metadata": {},
     "execution_count": 11
    }
   ],
   "source": [
    "# 算出各欄位na值\n",
    "missing_values_count = (omdb_data.isnull().sum()/110590) \n",
    "missing_values_count[:20]\n",
    "# Writer ,Director,Award 缺值太多無法使用\n",
    "#df.drop(['Writer','Director','Awards'],axis=1,inplace=True)"
   ]
  },
  {
   "source": [
    "## 每一部演員不只一個，先拉出主要演員前三名"
   ],
   "cell_type": "markdown",
   "metadata": {}
  },
  {
   "cell_type": "code",
   "execution_count": 12,
   "metadata": {},
   "outputs": [],
   "source": [
    "# 將actor 分成actor_123\n",
    "omdb_data['Actor_1'] = omdb_data['Actors'].str.split(',').str.get(0)\n",
    "omdb_data['Actor_2'] = omdb_data['Actors'].str.split(',').str.get(1)\n",
    "omdb_data['Actor_3'] = omdb_data['Actors'].str.split(',').str.get(2)"
   ]
  },
  {
   "cell_type": "code",
   "execution_count": 13,
   "metadata": {},
   "outputs": [],
   "source": [
    "omdb_data.rename(columns={'Actors':'Actors_list'})\n",
    "# 刪除actors_list\n",
    "omdb_data.drop('Actors',axis=1,inplace=True)"
   ]
  },
  {
   "cell_type": "code",
   "execution_count": 14,
   "metadata": {},
   "outputs": [
    {
     "output_type": "execute_result",
     "data": {
      "text/plain": [
       "                        _id           Title       Year  Rated     Released  \\\n",
       "0  5fb14937f686757a60e6dc67        The Boys      2019–  TV-MA  26 Jul 2019   \n",
       "1  5fb14937f686757a60e6dc68  Schitt's Creek  2015–2020  TV-14  11 Feb 2015   \n",
       "2  5fb14937f686757a60e6dc69  Emily in Paris      2020–  TV-MA  02 Oct 2020   \n",
       "3  5fb14937f686757a60e6dc6a      This Is Us      2016–  TV-14  20 Sep 2016   \n",
       "4  5fb14937f686757a60e6dc6b       Cobra Kai      2018–  TV-14  02 May 2018   \n",
       "\n",
       "  Runtime                          Genre Director                 Writer  \\\n",
       "0  60 min  Action, Comedy, Crime, Sci-Fi      NaN            Eric Kripke   \n",
       "1  22 min                         Comedy      NaN  Dan Levy, Eugene Levy   \n",
       "2  30 min         Comedy, Drama, Romance      NaN            Darren Star   \n",
       "3  45 min         Comedy, Drama, Romance      NaN           Dan Fogelman   \n",
       "4  30 min   Action, Comedy, Drama, Sport      NaN                    NaN   \n",
       "\n",
       "                                                Plot  ...  \\\n",
       "0  A group of vigilantes sets out to take down co...  ...   \n",
       "1  When rich video-store magnate Johnny Rose and ...  ...   \n",
       "2  A young American woman from the Midwest is hir...  ...   \n",
       "3  A heartwarming and emotional story about a uni...  ...   \n",
       "4  Decades after their 1984 All Valley Karate Tou...  ...   \n",
       "\n",
       "                                              Awards  \\\n",
       "0  Nominated for 1 Primetime Emmy. Another 1 win ...   \n",
       "1  Won 9 Primetime Emmys. Another 59 wins & 122 n...   \n",
       "2                                                NaN   \n",
       "3  Won 1 Golden Globe. Another 49 wins & 181 nomi...   \n",
       "4  Nominated for 2 Primetime Emmys. Another 8 nom...   \n",
       "\n",
       "                                             Ratings imdbRating imdbVotes  \\\n",
       "0  [{\"Source\":\"Internet Movie Database\",\"Value\":\"...        8.7   207,800   \n",
       "1  [{\"Source\":\"Internet Movie Database\",\"Value\":\"...        8.5    49,018   \n",
       "2  [{\"Source\":\"Internet Movie Database\",\"Value\":\"...        7.2    28,629   \n",
       "3  [{\"Source\":\"Internet Movie Database\",\"Value\":\"...        8.7    99,283   \n",
       "4  [{\"Source\":\"Internet Movie Database\",\"Value\":\"...        8.7    74,027   \n",
       "\n",
       "      imdbID    Type totalSeasons           Actor_1  \\\n",
       "0  tt1190634  series            3        Karl Urban   \n",
       "1  tt3526078  series            6       Eugene Levy   \n",
       "2  tt8962124  series         true      Lily Collins   \n",
       "3  tt5555260  series            5  Milo Ventimiglia   \n",
       "4  tt7221388  series            2     William Zabka   \n",
       "\n",
       "                      Actor_2             Actor_3  \n",
       "0                  Jack Quaid        Antony Starr  \n",
       "1            Catherine O'Hara            Dan Levy  \n",
       "2   Philippine Leroy-Beaulieu         Ashley Park  \n",
       "3                 Mandy Moore   Sterling K. Brown  \n",
       "4             Tanner Buchanan         Mary Mouser  \n",
       "\n",
       "[5 rows x 22 columns]"
      ],
      "text/html": "<div>\n<style scoped>\n    .dataframe tbody tr th:only-of-type {\n        vertical-align: middle;\n    }\n\n    .dataframe tbody tr th {\n        vertical-align: top;\n    }\n\n    .dataframe thead th {\n        text-align: right;\n    }\n</style>\n<table border=\"1\" class=\"dataframe\">\n  <thead>\n    <tr style=\"text-align: right;\">\n      <th></th>\n      <th>_id</th>\n      <th>Title</th>\n      <th>Year</th>\n      <th>Rated</th>\n      <th>Released</th>\n      <th>Runtime</th>\n      <th>Genre</th>\n      <th>Director</th>\n      <th>Writer</th>\n      <th>Plot</th>\n      <th>...</th>\n      <th>Awards</th>\n      <th>Ratings</th>\n      <th>imdbRating</th>\n      <th>imdbVotes</th>\n      <th>imdbID</th>\n      <th>Type</th>\n      <th>totalSeasons</th>\n      <th>Actor_1</th>\n      <th>Actor_2</th>\n      <th>Actor_3</th>\n    </tr>\n  </thead>\n  <tbody>\n    <tr>\n      <th>0</th>\n      <td>5fb14937f686757a60e6dc67</td>\n      <td>The Boys</td>\n      <td>2019–</td>\n      <td>TV-MA</td>\n      <td>26 Jul 2019</td>\n      <td>60 min</td>\n      <td>Action, Comedy, Crime, Sci-Fi</td>\n      <td>NaN</td>\n      <td>Eric Kripke</td>\n      <td>A group of vigilantes sets out to take down co...</td>\n      <td>...</td>\n      <td>Nominated for 1 Primetime Emmy. Another 1 win ...</td>\n      <td>[{\"Source\":\"Internet Movie Database\",\"Value\":\"...</td>\n      <td>8.7</td>\n      <td>207,800</td>\n      <td>tt1190634</td>\n      <td>series</td>\n      <td>3</td>\n      <td>Karl Urban</td>\n      <td>Jack Quaid</td>\n      <td>Antony Starr</td>\n    </tr>\n    <tr>\n      <th>1</th>\n      <td>5fb14937f686757a60e6dc68</td>\n      <td>Schitt's Creek</td>\n      <td>2015–2020</td>\n      <td>TV-14</td>\n      <td>11 Feb 2015</td>\n      <td>22 min</td>\n      <td>Comedy</td>\n      <td>NaN</td>\n      <td>Dan Levy, Eugene Levy</td>\n      <td>When rich video-store magnate Johnny Rose and ...</td>\n      <td>...</td>\n      <td>Won 9 Primetime Emmys. Another 59 wins &amp; 122 n...</td>\n      <td>[{\"Source\":\"Internet Movie Database\",\"Value\":\"...</td>\n      <td>8.5</td>\n      <td>49,018</td>\n      <td>tt3526078</td>\n      <td>series</td>\n      <td>6</td>\n      <td>Eugene Levy</td>\n      <td>Catherine O'Hara</td>\n      <td>Dan Levy</td>\n    </tr>\n    <tr>\n      <th>2</th>\n      <td>5fb14937f686757a60e6dc69</td>\n      <td>Emily in Paris</td>\n      <td>2020–</td>\n      <td>TV-MA</td>\n      <td>02 Oct 2020</td>\n      <td>30 min</td>\n      <td>Comedy, Drama, Romance</td>\n      <td>NaN</td>\n      <td>Darren Star</td>\n      <td>A young American woman from the Midwest is hir...</td>\n      <td>...</td>\n      <td>NaN</td>\n      <td>[{\"Source\":\"Internet Movie Database\",\"Value\":\"...</td>\n      <td>7.2</td>\n      <td>28,629</td>\n      <td>tt8962124</td>\n      <td>series</td>\n      <td>true</td>\n      <td>Lily Collins</td>\n      <td>Philippine Leroy-Beaulieu</td>\n      <td>Ashley Park</td>\n    </tr>\n    <tr>\n      <th>3</th>\n      <td>5fb14937f686757a60e6dc6a</td>\n      <td>This Is Us</td>\n      <td>2016–</td>\n      <td>TV-14</td>\n      <td>20 Sep 2016</td>\n      <td>45 min</td>\n      <td>Comedy, Drama, Romance</td>\n      <td>NaN</td>\n      <td>Dan Fogelman</td>\n      <td>A heartwarming and emotional story about a uni...</td>\n      <td>...</td>\n      <td>Won 1 Golden Globe. Another 49 wins &amp; 181 nomi...</td>\n      <td>[{\"Source\":\"Internet Movie Database\",\"Value\":\"...</td>\n      <td>8.7</td>\n      <td>99,283</td>\n      <td>tt5555260</td>\n      <td>series</td>\n      <td>5</td>\n      <td>Milo Ventimiglia</td>\n      <td>Mandy Moore</td>\n      <td>Sterling K. Brown</td>\n    </tr>\n    <tr>\n      <th>4</th>\n      <td>5fb14937f686757a60e6dc6b</td>\n      <td>Cobra Kai</td>\n      <td>2018–</td>\n      <td>TV-14</td>\n      <td>02 May 2018</td>\n      <td>30 min</td>\n      <td>Action, Comedy, Drama, Sport</td>\n      <td>NaN</td>\n      <td>NaN</td>\n      <td>Decades after their 1984 All Valley Karate Tou...</td>\n      <td>...</td>\n      <td>Nominated for 2 Primetime Emmys. Another 8 nom...</td>\n      <td>[{\"Source\":\"Internet Movie Database\",\"Value\":\"...</td>\n      <td>8.7</td>\n      <td>74,027</td>\n      <td>tt7221388</td>\n      <td>series</td>\n      <td>2</td>\n      <td>William Zabka</td>\n      <td>Tanner Buchanan</td>\n      <td>Mary Mouser</td>\n    </tr>\n  </tbody>\n</table>\n<p>5 rows × 22 columns</p>\n</div>"
     },
     "metadata": {},
     "execution_count": 14
    }
   ],
   "source": [
    "omdb_data.head()"
   ]
  },
  {
   "source": [
    "## 欄位 Released 代表釋出年份，大概有兩成NA值，打算從年份資料拉出第一個年份補上NA值"
   ],
   "cell_type": "markdown",
   "metadata": {}
  },
  {
   "source": [
    "## 年份格式ex:2015-2020 代表已完結 2015- 還在持續連載 "
   ],
   "cell_type": "markdown",
   "metadata": {}
  },
  {
   "source": [
    "pd.unique(omdb_data['Year'])"
   ],
   "cell_type": "code",
   "metadata": {},
   "execution_count": 15,
   "outputs": [
    {
     "output_type": "execute_result",
     "data": {
      "text/plain": [
       "array(['2019–', '2015–2020', '2020–', ..., '1929–1979', '1973–1989',\n",
       "       '1967–1979'], dtype=object)"
      ]
     },
     "metadata": {},
     "execution_count": 15
    }
   ]
  },
  {
   "cell_type": "code",
   "execution_count": 16,
   "metadata": {},
   "outputs": [],
   "source": [
    "# 將年份(year)第一個數字取代 released 年份\n",
    "omdb_data['Released_from_Year']  = omdb_data['Year'].str.split('–').str.get(0)\n",
    "omdb_data['Released'].fillna(value=omdb_data['Released_from_Year'],inplace=True)"
   ]
  },
  {
   "source": [
    "## 初始資料Released 剛開始有日期以及月份，後來補上的NA值的部分沒有月份以及日期，統一轉換年份格式"
   ],
   "cell_type": "markdown",
   "metadata": {}
  },
  {
   "cell_type": "code",
   "execution_count": 17,
   "metadata": {},
   "outputs": [],
   "source": [
    "# 將released 設置為 datetime 將月份以及日期去掉 \n",
    "omdb_data['Released'] = pd.to_datetime(omdb_data['Released'])\n",
    "omdb_data['Released'] = omdb_data['Released'].dt.strftime('%Y')"
   ]
  },
  {
   "cell_type": "code",
   "execution_count": 18,
   "metadata": {},
   "outputs": [
    {
     "output_type": "execute_result",
     "data": {
      "text/plain": [
       "0         2019\n",
       "1         2015\n",
       "2         2020\n",
       "3         2016\n",
       "4         2018\n",
       "          ... \n",
       "110585    2018\n",
       "110586    2004\n",
       "110587    1965\n",
       "110588    2004\n",
       "110589    2002\n",
       "Name: Released, Length: 93452, dtype: object"
      ]
     },
     "metadata": {},
     "execution_count": 18
    }
   ],
   "source": [
    "# Finished\n",
    "omdb_data['Released']"
   ]
  },
  {
   "source": [
    "## omdb_data.Released_from_Year 任務完成 drop掉"
   ],
   "cell_type": "markdown",
   "metadata": {}
  },
  {
   "cell_type": "code",
   "execution_count": 19,
   "metadata": {},
   "outputs": [],
   "source": [
    "omdb_data.drop(['Released_from_Year'],axis=1,inplace=True)"
   ]
  },
  {
   "source": [
    "## Award 得獎的欄位 發現有來自不同獎項 ⇒ 有艾美獎、金球獎、還有....等 不知名獎項\n",
    "\n",
    "## goal：拉出艾美獎提名及得獎總數以及金球獎得獎以及提名總數"
   ],
   "cell_type": "markdown",
   "metadata": {}
  },
  {
   "cell_type": "code",
   "execution_count": 20,
   "metadata": {},
   "outputs": [
    {
     "output_type": "execute_result",
     "data": {
      "text/plain": [
       "0    Nominated for 1 Primetime Emmy. Another 1 win ...\n",
       "1    Won 9 Primetime Emmys. Another 59 wins & 122 n...\n",
       "2                                                  NaN\n",
       "3    Won 1 Golden Globe. Another 49 wins & 181 nomi...\n",
       "4    Nominated for 2 Primetime Emmys. Another 8 nom...\n",
       "Name: Awards, dtype: object"
      ]
     },
     "metadata": {},
     "execution_count": 20
    }
   ],
   "source": [
    "omdb_data['Awards'].head()"
   ]
  },
  {
   "source": [
    "## Award 得獎欄位格式為:Nominated for 1 Primetime Emmy. Another 1 win & 5 nominations.\n",
    "\n",
    "## split.取前段"
   ],
   "cell_type": "markdown",
   "metadata": {}
  },
  {
   "cell_type": "code",
   "execution_count": 21,
   "metadata": {},
   "outputs": [
    {
     "output_type": "execute_result",
     "data": {
      "text/plain": [
       "0          Nominated for 1 Primetime Emmy\n",
       "1                   Won 9 Primetime Emmys\n",
       "2                                     NaN\n",
       "3                      Won 1 Golden Globe\n",
       "4         Nominated for 2 Primetime Emmys\n",
       "                       ...               \n",
       "110585                                NaN\n",
       "110586                                NaN\n",
       "110587                                NaN\n",
       "110588                                NaN\n",
       "110589                                NaN\n",
       "Name: Awards, Length: 93452, dtype: object"
      ]
     },
     "metadata": {},
     "execution_count": 21
    }
   ],
   "source": [
    "Awards = omdb_data['Awards'].str.split('.')\n",
    "Awards.str.get(0)"
   ]
  },
  {
   "cell_type": "code",
   "execution_count": 22,
   "metadata": {},
   "outputs": [],
   "source": [
    "Nominated = omdb_data['Awards'].str.split('.').str.get(0)"
   ]
  },
  {
   "cell_type": "code",
   "execution_count": 23,
   "metadata": {},
   "outputs": [
    {
     "output_type": "execute_result",
     "data": {
      "text/plain": [
       "array(['Nominated for 1 Primetime Emmy', 'Won 9 Primetime Emmys', nan,\n",
       "       'Won 1 Golden Globe', 'Nominated for 2 Primetime Emmys',\n",
       "       'Nominated for 5 Golden Globes', '6 wins & 26 nominations',\n",
       "       'Won 1 Primetime Emmy', 'Nominated for 2 Golden Globes',\n",
       "       'Won 2 Golden Globes', 'Nominated for 1 Golden Globe',\n",
       "       '1 win & 9 nominations', 'Won 3 Primetime Emmys',\n",
       "       '1 win & 2 nominations', '4 wins & 12 nominations',\n",
       "       'Nominated for 3 Primetime Emmys', 'Won 5 Primetime Emmys',\n",
       "       '2 wins & 17 nominations', 'Won 3 Golden Globes',\n",
       "       'Won 2 Primetime Emmys', '1 nomination',\n",
       "       'Nominated for 6 Golden Globes', 'Won 4 Golden Globes',\n",
       "       '2 wins & 14 nominations', '12 wins & 29 nominations',\n",
       "       '1 win & 15 nominations', '6 nominations',\n",
       "       'Nominated for 4 Golden Globes', '10 nominations',\n",
       "       '17 wins & 37 nominations', 'Won 7 Primetime Emmys',\n",
       "       '2 wins & 4 nominations', '19 nominations',\n",
       "       '4 wins & 19 nominations', 'Won 6 Primetime Emmys',\n",
       "       '36 wins & 66 nominations', 'Won 5 Golden Globes',\n",
       "       '5 wins & 21 nominations', '2 nominations',\n",
       "       '26 wins & 27 nominations', '5 wins & 10 nominations',\n",
       "       '3 wins & 20 nominations', '1 win & 7 nominations',\n",
       "       '116 wins & 208 nominations', '22 wins & 84 nominations',\n",
       "       '5 wins & 11 nominations', 'Won 18 Primetime Emmys',\n",
       "       '1 win & 10 nominations', 'Nominated for 7 Primetime Emmys',\n",
       "       '1 win', '21 wins & 36 nominations', '30 wins & 41 nominations',\n",
       "       '3 wins & 3 nominations', '1 win & 5 nominations',\n",
       "       'Won 4 Primetime Emmys', '2 wins & 7 nominations',\n",
       "       '12 wins & 40 nominations', 'Nominated for 13 Primetime Emmys',\n",
       "       'Nominated for 9 Primetime Emmys',\n",
       "       'Nominated for 5 Primetime Emmys', '27 wins & 41 nominations',\n",
       "       '3 wins & 23 nominations', '23 wins & 39 nominations',\n",
       "       '4 wins & 16 nominations', '1 win & 4 nominations',\n",
       "       '3 wins & 27 nominations', 'Nominated for 3 Golden Globes',\n",
       "       'Nominated for 4 Primetime Emmys', '14 nominations',\n",
       "       '45 wins & 46 nominations', '6 wins & 27 nominations',\n",
       "       '3 wins & 1 nomination', '8 wins & 7 nominations',\n",
       "       '3 wins & 10 nominations', '3 wins & 4 nominations',\n",
       "       '7 wins & 19 nominations', '7 nominations',\n",
       "       '3 wins & 17 nominations', '3 nominations',\n",
       "       '12 wins & 17 nominations', '1 win & 3 nominations',\n",
       "       '1 win & 17 nominations', '6 wins & 6 nominations',\n",
       "       '1 win & 1 nomination', '2 wins', '2 wins & 8 nominations',\n",
       "       '3 wins & 9 nominations', '2 wins & 5 nominations',\n",
       "       'Nominated for 10 Primetime Emmys', 'Won 8 Primetime Emmys',\n",
       "       '2 wins & 1 nomination', '11 wins & 23 nominations',\n",
       "       '3 wins & 7 nominations', '4 wins', '11 wins & 21 nominations',\n",
       "       '15 wins & 21 nominations', 'Nominated for 30 Golden Globes',\n",
       "       '1 win & 33 nominations', '3 wins & 15 nominations',\n",
       "       'Nominated for 8 Golden Globes', '3 wins & 25 nominations',\n",
       "       '5 wins & 17 nominations', '4 wins & 21 nominations',\n",
       "       '4 wins & 25 nominations', '5 wins & 9 nominations',\n",
       "       '5 nominations', '4 wins & 9 nominations',\n",
       "       'Won 78 Primetime Emmys', 'Nominated for 7 Golden Globes',\n",
       "       '13 wins & 30 nominations', 'Won 8 Golden Globes',\n",
       "       'Won 6 Golden Globes', '2 wins & 9 nominations', '11 nominations',\n",
       "       '6 wins & 11 nominations', '7 wins & 2 nominations',\n",
       "       '5 wins & 13 nominations', '3 wins & 14 nominations',\n",
       "       '9 nominations', '5 wins & 4 nominations',\n",
       "       '11 wins & 47 nominations', '5 wins & 16 nominations',\n",
       "       '7 wins & 4 nominations', '1 win & 14 nominations',\n",
       "       '1 win & 8 nominations', '1 win & 6 nominations',\n",
       "       '1 win & 12 nominations', '12 wins & 34 nominations',\n",
       "       '4 nominations', '11 wins & 79 nominations',\n",
       "       '24 wins & 26 nominations', '4 wins & 1 nomination',\n",
       "       '20 wins & 30 nominations', '13 wins & 22 nominations',\n",
       "       '9 wins & 30 nominations', '7 wins & 32 nominations',\n",
       "       '45 wins & 104 nominations', '293 wins & 710 nominations',\n",
       "       '4 wins & 8 nominations', '4 wins & 5 nominations',\n",
       "       '2 wins & 6 nominations', '13 wins & 8 nominations',\n",
       "       '22 wins & 17 nominations', '17 wins & 57 nominations',\n",
       "       '2 wins & 2 nominations', '2 wins & 3 nominations',\n",
       "       '15 wins & 19 nominations', '25 wins & 33 nominations',\n",
       "       '18 wins & 25 nominations', '12 wins & 19 nominations',\n",
       "       '9 wins & 33 nominations', '18 nominations', '16 nominations',\n",
       "       '3 wins & 33 nominations', '12 wins & 14 nominations',\n",
       "       '9 wins & 15 nominations', '5 wins & 1 nomination',\n",
       "       '20 wins & 17 nominations', '9 wins & 8 nominations',\n",
       "       '17 wins & 27 nominations', '2 wins & 20 nominations',\n",
       "       '4 wins & 3 nominations', '10 wins & 23 nominations',\n",
       "       '26 wins & 56 nominations', '3 wins & 5 nominations', '3 wins',\n",
       "       '26 wins & 54 nominations', '1 win & 16 nominations',\n",
       "       '4 wins & 4 nominations', '17 wins & 24 nominations',\n",
       "       '5 wins & 5 nominations', '6 wins & 19 nominations',\n",
       "       '5 wins & 19 nominations', '9 wins & 21 nominations',\n",
       "       '124 wins & 373 nominations', '189 wins & 285 nominations',\n",
       "       '3 wins & 2 nominations', '173 wins & 245 nominations',\n",
       "       '9 wins & 12 nominations', '8 wins & 5 nominations',\n",
       "       '6 wins & 18 nominations', '16 wins & 15 nominations',\n",
       "       '23 wins & 66 nominations', '4 wins & 7 nominations',\n",
       "       '13 wins & 18 nominations', '5 wins & 34 nominations',\n",
       "       '21 wins & 46 nominations', 'Nominated for 6 Primetime Emmys',\n",
       "       '12 wins & 15 nominations', '10 wins & 25 nominations',\n",
       "       '4 wins & 18 nominations', '7 wins & 22 nominations', '5 wins',\n",
       "       '20 wins & 23 nominations', '9 wins & 7 nominations',\n",
       "       '2 wins & 16 nominations', '6 wins & 5 nominations',\n",
       "       '8 wins & 13 nominations', '15 wins & 14 nominations',\n",
       "       '8 wins & 11 nominations', '9 wins & 18 nominations',\n",
       "       '1 win & 11 nominations', '4 wins & 10 nominations',\n",
       "       '2 wins & 24 nominations', '1 win & 28 nominations',\n",
       "       '5 wins & 6 nominations', '7 wins & 6 nominations',\n",
       "       '12 nominations', '8 wins & 26 nominations',\n",
       "       '13 wins & 37 nominations', '30 wins & 32 nominations',\n",
       "       '59 wins & 197 nominations', '2 wins & 13 nominations',\n",
       "       '6 wins & 12 nominations', '12 wins & 10 nominations',\n",
       "       '49 wins & 220 nominations', '4 wins & 22 nominations',\n",
       "       '1 win & 13 nominations', '6 wins & 15 nominations',\n",
       "       '9 wins & 10 nominations', '5 wins & 14 nominations',\n",
       "       '10 wins & 44 nominations', 'Won 15 Primetime Emmys',\n",
       "       '3 wins & 12 nominations', '13 wins & 31 nominations',\n",
       "       '3 wins & 6 nominations', '15 wins & 11 nominations',\n",
       "       '5 wins & 8 nominations', '4 wins & 11 nominations',\n",
       "       '7 wins & 9 nominations', '41 wins & 106 nominations',\n",
       "       '6 wins & 4 nominations', '23 wins & 47 nominations',\n",
       "       '16 wins & 20 nominations', '1 win & 18 nominations',\n",
       "       '16 wins & 45 nominations', '6 wins & 23 nominations',\n",
       "       '23 wins & 51 nominations', '6 wins & 14 nominations',\n",
       "       '3 wins & 8 nominations', '8 nominations',\n",
       "       '4 wins & 6 nominations', '7 wins & 26 nominations',\n",
       "       '6 wins & 13 nominations', '11 wins & 22 nominations',\n",
       "       '23 wins & 23 nominations', '7 wins & 21 nominations',\n",
       "       '7 wins & 14 nominations', '8 wins & 34 nominations',\n",
       "       '8 wins & 22 nominations', '2 wins & 11 nominations',\n",
       "       '90 wins & 454 nominations', '105 wins & 449 nominations',\n",
       "       '11 wins & 20 nominations', '3 wins & 26 nominations',\n",
       "       '6 wins & 10 nominations', '22 wins & 88 nominations',\n",
       "       '8 wins & 1 nomination', '9 wins & 3 nominations',\n",
       "       '14 wins & 26 nominations', '10 wins & 11 nominations',\n",
       "       '7 wins & 5 nominations', 'Nominated for 18 Primetime Emmys',\n",
       "       '17 wins & 15 nominations', '11 wins & 33 nominations',\n",
       "       '9 wins & 36 nominations', '2 wins & 12 nominations',\n",
       "       '6 wins & 17 nominations', '4 wins & 24 nominations',\n",
       "       '12 wins & 16 nominations', '14 wins & 25 nominations',\n",
       "       '8 wins & 16 nominations', '10 wins & 27 nominations',\n",
       "       '18 wins & 17 nominations', '47 wins & 114 nominations',\n",
       "       '10 wins & 13 nominations', '19 wins & 46 nominations',\n",
       "       '7 wins & 31 nominations', '3 wins & 13 nominations',\n",
       "       '2 wins & 10 nominations', '13 wins & 14 nominations',\n",
       "       '2 wins & 25 nominations', '5 wins & 2 nominations',\n",
       "       '10 wins & 21 nominations', '17 wins & 11 nominations',\n",
       "       '17 wins & 7 nominations', '9 wins & 6 nominations',\n",
       "       '5 wins & 7 nominations', '6 wins & 1 nomination',\n",
       "       '2 wins & 31 nominations', '6 wins & 7 nominations',\n",
       "       '20 wins & 5 nominations', '3 wins & 11 nominations',\n",
       "       '7 wins & 16 nominations', '11 wins & 32 nominations',\n",
       "       '8 wins & 8 nominations', '6 wins & 16 nominations',\n",
       "       '2 wins & 19 nominations', 'Nominated for 1 Oscar',\n",
       "       '9 wins & 2 nominations', '8 wins & 30 nominations',\n",
       "       'Won 20 Primetime Emmys', '7 wins & 1 nomination',\n",
       "       '8 wins & 4 nominations', '25 wins & 25 nominations',\n",
       "       '7 wins & 3 nominations', '3 wins & 22 nominations',\n",
       "       '16 wins & 7 nominations', '4 wins & 15 nominations',\n",
       "       '4 wins & 35 nominations', '5 wins & 3 nominations',\n",
       "       'Won 16 Primetime Emmys', '8 wins & 18 nominations',\n",
       "       '23 wins & 14 nominations', '4 wins & 2 nominations',\n",
       "       '4 wins & 17 nominations', '7 wins & 13 nominations',\n",
       "       '5 wins & 12 nominations', '7 wins & 12 nominations',\n",
       "       '119 wins & 168 nominations', '9 wins & 9 nominations',\n",
       "       '70 wins & 112 nominations', '22 wins & 30 nominations',\n",
       "       '7 wins & 11 nominations', '19 wins & 21 nominations',\n",
       "       '27 wins & 38 nominations', '7 wins', '4 wins & 27 nominations',\n",
       "       '12 wins & 28 nominations', 'Won 12 Primetime Emmys',\n",
       "       '29 wins & 47 nominations', '11 wins & 26 nominations',\n",
       "       '6 wins & 3 nominations', '8 wins & 12 nominations',\n",
       "       '11 wins & 5 nominations', '2 wins & 32 nominations',\n",
       "       '22 wins & 28 nominations', '6 wins & 22 nominations',\n",
       "       '6 wins & 2 nominations', '14 wins & 29 nominations',\n",
       "       '5 wins & 15 nominations', '14 wins & 4 nominations',\n",
       "       '29 wins & 5 nominations', '7 wins & 7 nominations',\n",
       "       '20 wins & 14 nominations', '11 wins & 4 nominations',\n",
       "       'Nominated for 8 Primetime Emmys', '25 wins & 34 nominations',\n",
       "       'Nominated for 11 Primetime Emmys', '7 wins & 50 nominations',\n",
       "       '10 wins & 14 nominations', '11 wins & 36 nominations',\n",
       "       '16 wins & 12 nominations', '14 wins & 70 nominations',\n",
       "       '17 nominations', '35 wins & 51 nominations',\n",
       "       '13 wins & 16 nominations', '3 wins & 29 nominations',\n",
       "       '6 wins & 20 nominations', '3 wins & 18 nominations',\n",
       "       '12 wins & 27 nominations', '16 wins & 13 nominations',\n",
       "       '13 wins & 4 nominations', '9 wins & 41 nominations', '10 wins',\n",
       "       '10 wins & 16 nominations', '2 wins & 15 nominations',\n",
       "       '7 wins & 17 nominations', '4 wins & 13 nominations',\n",
       "       'Won 25 Primetime Emmys', '9 wins & 16 nominations',\n",
       "       '4 wins & 14 nominations', '15 wins & 4 nominations',\n",
       "       '16 wins & 16 nominations', '5 wins & 20 nominations',\n",
       "       '15 wins & 33 nominations', '2 wins & 18 nominations',\n",
       "       '15 nominations', '6 wins & 8 nominations',\n",
       "       '24 wins & 19 nominations', '7 wins & 10 nominations',\n",
       "       '9 wins & 48 nominations', '11 wins & 8 nominations',\n",
       "       '11 wins & 2 nominations', '14 wins & 9 nominations',\n",
       "       '24 wins & 34 nominations', '7 wins & 8 nominations',\n",
       "       '9 wins & 13 nominations', '32 wins & 10 nominations',\n",
       "       '7 wins & 53 nominations', '11 wins & 31 nominations',\n",
       "       '24 wins & 6 nominations', '8 wins & 14 nominations',\n",
       "       '10 wins & 54 nominations', '20 wins & 20 nominations',\n",
       "       '9 wins & 23 nominations', '17 wins & 21 nominations',\n",
       "       '11 wins & 12 nominations', '19 wins & 24 nominations',\n",
       "       '40 wins & 67 nominations', '12 wins & 6 nominations',\n",
       "       '1 win & 20 nominations', '16 wins & 25 nominations',\n",
       "       '28 wins & 11 nominations', '10 wins & 18 nominations',\n",
       "       '18 wins & 89 nominations', '6 wins & 9 nominations',\n",
       "       '32 wins & 25 nominations', '84 wins & 115 nominations', '6 wins',\n",
       "       '8 wins & 3 nominations', '12 wins & 30 nominations',\n",
       "       '19 wins & 10 nominations', '7 wins & 44 nominations',\n",
       "       '14 wins & 38 nominations', '3 wins & 16 nominations',\n",
       "       '29 wins & 67 nominations', '7 wins & 20 nominations',\n",
       "       '26 wins & 33 nominations', '10 wins & 12 nominations',\n",
       "       '11 wins & 10 nominations', '10 wins & 2 nominations',\n",
       "       '10 wins & 15 nominations', 'Won 19 Primetime Emmys',\n",
       "       '10 wins & 33 nominations', '13 nominations',\n",
       "       '14 wins & 17 nominations', '18 wins & 48 nominations',\n",
       "       'Won 17 Primetime Emmys', '10 wins & 20 nominations',\n",
       "       '16 wins & 53 nominations', '10 wins & 8 nominations',\n",
       "       'Nominated for 14 Primetime Emmys', '7 wins & 18 nominations',\n",
       "       '5 wins & 32 nominations', '7 wins & 33 nominations', '11 wins',\n",
       "       '5 wins & 25 nominations', '8 wins & 10 nominations',\n",
       "       '23 wins & 31 nominations', '10 wins & 10 nominations',\n",
       "       '26 wins & 24 nominations', '6 wins & 21 nominations',\n",
       "       '1 win & 24 nominations', 'Nominated for 20 Primetime Emmys',\n",
       "       '6 wins & 30 nominations', '9 wins', '8 wins & 15 nominations',\n",
       "       '10 wins & 9 nominations', '24 wins & 2 nominations',\n",
       "       '39 wins & 25 nominations', '9 wins & 17 nominations',\n",
       "       '10 wins & 4 nominations', '8 wins & 2 nominations',\n",
       "       '23 nominations', '9 wins & 5 nominations',\n",
       "       '15 wins & 80 nominations', '10 wins & 22 nominations',\n",
       "       '2 wins & 41 nominations', '4 wins & 31 nominations',\n",
       "       'Won 29 Primetime Emmys', '1 win & 19 nominations',\n",
       "       '20 wins & 31 nominations', '36 nominations',\n",
       "       '40 wins & 92 nominations', '13 wins & 17 nominations',\n",
       "       '9 wins & 4 nominations', '15 wins & 7 nominations',\n",
       "       '1 win & 25 nominations', '6 wins & 25 nominations',\n",
       "       '10 wins & 38 nominations', '8 wins & 17 nominations',\n",
       "       '11 wins & 16 nominations', '10 wins & 17 nominations',\n",
       "       '26 wins & 21 nominations', '9 wins & 19 nominations',\n",
       "       '48 wins & 122 nominations', '8 wins & 20 nominations',\n",
       "       '8 wins & 9 nominations', 'Won 1 BAFTA Film Award',\n",
       "       '8 wins & 6 nominations', '7 wins & 15 nominations',\n",
       "       '10 wins & 7 nominations', '14 wins & 11 nominations',\n",
       "       '21 wins & 31 nominations', '21 wins & 25 nominations',\n",
       "       '2 wins & 26 nominations', '16 wins & 43 nominations',\n",
       "       '43 wins & 61 nominations', '22 wins & 18 nominations',\n",
       "       '39 wins & 21 nominations', '27 wins & 31 nominations',\n",
       "       '38 wins & 161 nominations', '20 wins & 11 nominations',\n",
       "       '2 wins & 23 nominations', '10 wins & 6 nominations',\n",
       "       '31 wins & 39 nominations', '42 wins & 81 nominations',\n",
       "       '50 wins & 106 nominations', '12 wins & 89 nominations',\n",
       "       '35 wins & 46 nominations', '22 wins & 53 nominations',\n",
       "       '14 wins & 43 nominations', '16 wins & 18 nominations',\n",
       "       '12 wins & 3 nominations', '19 wins & 3 nominations',\n",
       "       '23 wins & 28 nominations', '112 wins & 169 nominations',\n",
       "       '10 wins & 3 nominations', '6 wins & 31 nominations',\n",
       "       '14 wins & 16 nominations', 'Won 27 Primetime Emmys',\n",
       "       '14 wins & 19 nominations', '18 wins & 78 nominations',\n",
       "       '11 wins & 6 nominations', '4 wins & 30 nominations',\n",
       "       '13 wins & 5 nominations', '22 wins & 44 nominations',\n",
       "       '22 wins & 52 nominations', '13 wins & 20 nominations',\n",
       "       '5 wins & 39 nominations', '25 wins & 16 nominations',\n",
       "       '71 wins & 104 nominations', '10 wins & 24 nominations',\n",
       "       '14 wins & 8 nominations', '31 wins & 51 nominations',\n",
       "       '20 wins & 27 nominations', '17 wins & 17 nominations',\n",
       "       '12 wins & 4 nominations', '12 wins & 42 nominations',\n",
       "       '13 wins & 12 nominations', '11 wins & 7 nominations',\n",
       "       'Nominated for 17 Primetime Emmys', '12 wins & 1 nomination',\n",
       "       '16 wins & 6 nominations', '10 wins & 5 nominations',\n",
       "       '4 wins & 29 nominations', '8 wins', '12 wins & 41 nominations',\n",
       "       '19 wins & 2 nominations', 'Won 10 Primetime Emmys',\n",
       "       '17 wins & 10 nominations', '21 wins & 33 nominations',\n",
       "       '14 wins & 21 nominations', '16 wins & 8 nominations',\n",
       "       '47 wins & 78 nominations', '13 wins & 7 nominations',\n",
       "       '26 wins & 9 nominations', '3 wins & 19 nominations',\n",
       "       '12 wins & 2 nominations', 'Won 14 Primetime Emmys',\n",
       "       '14 wins & 15 nominations', '20 wins & 43 nominations',\n",
       "       '15 wins & 20 nominations', '15 wins & 26 nominations',\n",
       "       '12 wins & 24 nominations', '12 wins & 8 nominations',\n",
       "       '19 wins & 56 nominations', '42 wins & 83 nominations',\n",
       "       '10 wins & 32 nominations', '10 wins & 19 nominations',\n",
       "       '14 wins & 12 nominations', '13 wins & 6 nominations',\n",
       "       '10 wins & 1 nomination', '25 wins & 19 nominations',\n",
       "       'Won 11 Primetime Emmys', '14 wins & 28 nominations', '13 wins',\n",
       "       '19 wins & 8 nominations', '13 wins & 2 nominations',\n",
       "       '36 wins & 20 nominations', '25 wins & 15 nominations',\n",
       "       '25 wins & 9 nominations', '12 wins & 5 nominations',\n",
       "       '9 wins & 1 nomination', '21 wins & 11 nominations',\n",
       "       '13 wins & 1 nomination', '5 wins & 22 nominations',\n",
       "       '23 wins & 33 nominations', '59 wins & 15 nominations',\n",
       "       '18 wins & 3 nominations', '41 wins & 23 nominations',\n",
       "       '13 wins & 27 nominations'], dtype=object)"
      ]
     },
     "metadata": {},
     "execution_count": 23
    }
   ],
   "source": [
    " # 確認斷字位置\n",
    " pd.unique(Nominated)"
   ]
  },
  {
   "source": [
    "## 將Award 提取出 Nominated_Emmy Nominated_Golden Globe Emmy_winner Golden Globe winner"
   ],
   "cell_type": "markdown",
   "metadata": {}
  },
  {
   "cell_type": "code",
   "execution_count": 24,
   "metadata": {},
   "outputs": [
    {
     "output_type": "execute_result",
     "data": {
      "text/plain": [
       "0          Nominated for 1 Primetime Emmy\n",
       "4         Nominated for 2 Primetime Emmys\n",
       "18        Nominated for 2 Primetime Emmys\n",
       "25        Nominated for 3 Primetime Emmys\n",
       "42         Nominated for 1 Primetime Emmy\n",
       "                       ...               \n",
       "97990     Nominated for 4 Primetime Emmys\n",
       "98089      Nominated for 1 Primetime Emmy\n",
       "103420    Nominated for 3 Primetime Emmys\n",
       "108149     Nominated for 1 Primetime Emmy\n",
       "109343    Nominated for 2 Primetime Emmys\n",
       "Name: Awards, Length: 500, dtype: object"
      ]
     },
     "metadata": {},
     "execution_count": 24
    }
   ],
   "source": [
    "# about 529 have Nominated for Primetime Emmy\n",
    "Nominated[Nominated.str.contains(\"Nominated for \\d Primetime Emmy\",na=False)]"
   ]
  },
  {
   "cell_type": "code",
   "execution_count": 25,
   "metadata": {},
   "outputs": [],
   "source": [
    "omdb_data['Nominated_Emmy']= Nominated[Nominated.str.contains(\"Nominated for \\d Primetime Emmy\",na=False)]"
   ]
  },
  {
   "cell_type": "code",
   "execution_count": 26,
   "metadata": {},
   "outputs": [],
   "source": [
    "omdb_data['Won_Emmy'] = Nominated[Nominated.str.contains(\"Won \\d Primetime\",na=False)]"
   ]
  },
  {
   "cell_type": "code",
   "execution_count": 27,
   "metadata": {},
   "outputs": [],
   "source": [
    "omdb_data['Nominated_Golden_Globe'] = Nominated[Nominated.str.contains(\"Nominated for \\d Golden Globe\",na=False)]"
   ]
  },
  {
   "cell_type": "code",
   "execution_count": 28,
   "metadata": {},
   "outputs": [],
   "source": [
    "omdb_data['Won_Golden_Globe']  = Nominated[Nominated.str.contains(\"Won \\d Golden\",na=False)]"
   ]
  },
  {
   "source": [
    "# 將數目篩選出來"
   ],
   "cell_type": "markdown",
   "metadata": {}
  },
  {
   "cell_type": "code",
   "execution_count": 29,
   "metadata": {},
   "outputs": [
    {
     "output_type": "execute_result",
     "data": {
      "text/plain": [
       "0          [Nominated, for, 1, Primetime, Emmy]\n",
       "1                                           NaN\n",
       "2                                           NaN\n",
       "3                                           NaN\n",
       "4         [Nominated, for, 2, Primetime, Emmys]\n",
       "                          ...                  \n",
       "110585                                      NaN\n",
       "110586                                      NaN\n",
       "110587                                      NaN\n",
       "110588                                      NaN\n",
       "110589                                      NaN\n",
       "Name: Nominated_Emmy, Length: 93452, dtype: object"
      ]
     },
     "metadata": {},
     "execution_count": 29
    }
   ],
   "source": [
    "#get(2)\n",
    "omdb_data['Nominated_Emmy'].str.split(' ')"
   ]
  },
  {
   "cell_type": "code",
   "execution_count": 30,
   "metadata": {},
   "outputs": [
    {
     "output_type": "execute_result",
     "data": {
      "text/plain": [
       "0           1\n",
       "1         NaN\n",
       "2         NaN\n",
       "3         NaN\n",
       "4           2\n",
       "         ... \n",
       "110585    NaN\n",
       "110586    NaN\n",
       "110587    NaN\n",
       "110588    NaN\n",
       "110589    NaN\n",
       "Name: Nominated_Emmy, Length: 93452, dtype: object"
      ]
     },
     "metadata": {},
     "execution_count": 30
    }
   ],
   "source": [
    "omdb_data['Nominated_Emmy'].str.split(' ').str.get(2)"
   ]
  },
  {
   "cell_type": "code",
   "execution_count": 31,
   "metadata": {},
   "outputs": [],
   "source": [
    "# 將數字提取取出來\n",
    "omdb_data['Nominated_Emmy'] = omdb_data['Nominated_Emmy'].str.split(' ').str.get(2)"
   ]
  },
  {
   "cell_type": "code",
   "execution_count": 32,
   "metadata": {},
   "outputs": [
    {
     "output_type": "execute_result",
     "data": {
      "text/plain": [
       "7         Nominated for 5 Golden Globes\n",
       "12        Nominated for 2 Golden Globes\n",
       "16         Nominated for 1 Golden Globe\n",
       "19         Nominated for 1 Golden Globe\n",
       "21        Nominated for 2 Golden Globes\n",
       "                      ...              \n",
       "75721     Nominated for 3 Golden Globes\n",
       "79082      Nominated for 1 Golden Globe\n",
       "83546     Nominated for 3 Golden Globes\n",
       "92259      Nominated for 1 Golden Globe\n",
       "104661    Nominated for 2 Golden Globes\n",
       "Name: Nominated_Golden_Globe, Length: 252, dtype: object"
      ]
     },
     "metadata": {},
     "execution_count": 32
    }
   ],
   "source": [
    "omdb_data[omdb_data['Nominated_Golden_Globe'].str.split(' ').notna()]['Nominated_Golden_Globe']"
   ]
  },
  {
   "cell_type": "code",
   "execution_count": 33,
   "metadata": {},
   "outputs": [],
   "source": [
    "omdb_data['Nominated_Golden_Globe'] = omdb_data['Nominated_Golden_Globe'].str.split(' ').str.get(2)"
   ]
  },
  {
   "cell_type": "code",
   "execution_count": 34,
   "metadata": {},
   "outputs": [
    {
     "output_type": "execute_result",
     "data": {
      "text/plain": [
       "7         5\n",
       "12        2\n",
       "16        1\n",
       "19        1\n",
       "21        2\n",
       "         ..\n",
       "75721     3\n",
       "79082     1\n",
       "83546     3\n",
       "92259     1\n",
       "104661    2\n",
       "Name: Nominated_Golden_Globe, Length: 252, dtype: object"
      ]
     },
     "metadata": {},
     "execution_count": 34
    }
   ],
   "source": [
    "omdb_data[omdb_data['Nominated_Golden_Globe'].notna()]['Nominated_Golden_Globe']"
   ]
  },
  {
   "cell_type": "code",
   "execution_count": 35,
   "metadata": {},
   "outputs": [
    {
     "output_type": "execute_result",
     "data": {
      "text/plain": [
       "1         Won 9 Primetime Emmys\n",
       "11         Won 1 Primetime Emmy\n",
       "20        Won 3 Primetime Emmys\n",
       "27        Won 5 Primetime Emmys\n",
       "30        Won 2 Primetime Emmys\n",
       "                  ...          \n",
       "96006      Won 1 Primetime Emmy\n",
       "98653     Won 3 Primetime Emmys\n",
       "101510     Won 1 Primetime Emmy\n",
       "105700     Won 1 Primetime Emmy\n",
       "109478     Won 1 Primetime Emmy\n",
       "Name: Won_Emmy, Length: 383, dtype: object"
      ]
     },
     "metadata": {},
     "execution_count": 35
    }
   ],
   "source": [
    "omdb_data['Won_Emmy'][omdb_data['Won_Emmy'].notna()]"
   ]
  },
  {
   "cell_type": "code",
   "execution_count": 36,
   "metadata": {},
   "outputs": [],
   "source": [
    "omdb_data['Won_Emmy'] = omdb_data['Won_Emmy'].str.split(' ').str.get(1)"
   ]
  },
  {
   "cell_type": "code",
   "execution_count": 37,
   "metadata": {},
   "outputs": [
    {
     "output_type": "execute_result",
     "data": {
      "text/plain": [
       "1         9\n",
       "11        1\n",
       "20        3\n",
       "27        5\n",
       "30        2\n",
       "         ..\n",
       "96006     1\n",
       "98653     3\n",
       "101510    1\n",
       "105700    1\n",
       "109478    1\n",
       "Name: Won_Emmy, Length: 383, dtype: object"
      ]
     },
     "metadata": {},
     "execution_count": 37
    }
   ],
   "source": [
    "omdb_data['Won_Emmy'][omdb_data['Won_Emmy'].notna()]"
   ]
  },
  {
   "cell_type": "code",
   "execution_count": 38,
   "metadata": {},
   "outputs": [
    {
     "output_type": "execute_result",
     "data": {
      "text/plain": [
       "3          Won 1 Golden Globe\n",
       "5          Won 1 Golden Globe\n",
       "6          Won 1 Golden Globe\n",
       "9          Won 1 Golden Globe\n",
       "13         Won 1 Golden Globe\n",
       "                 ...         \n",
       "54685      Won 1 Golden Globe\n",
       "71107      Won 1 Golden Globe\n",
       "83189      Won 1 Golden Globe\n",
       "88606     Won 2 Golden Globes\n",
       "107537    Won 4 Golden Globes\n",
       "Name: Won_Golden_Globe, Length: 207, dtype: object"
      ]
     },
     "metadata": {},
     "execution_count": 38
    }
   ],
   "source": [
    "omdb_data['Won_Golden_Globe'][omdb_data['Won_Golden_Globe'].notna()]"
   ]
  },
  {
   "cell_type": "code",
   "execution_count": 39,
   "metadata": {},
   "outputs": [],
   "source": [
    "omdb_data['Won_Golden_Globe'] = omdb_data['Won_Golden_Globe'].str.split(' ').str.get(1)"
   ]
  },
  {
   "source": [
    "## 將nominated_emmy ,Nominated_Golden , Won_Golden , Won_Emmy na = 0\n",
    "## 將得獎數字留下 其他nah 替換成 0\n",
    "## 有NA值無法轉換資料型態"
   ],
   "cell_type": "markdown",
   "metadata": {}
  },
  {
   "cell_type": "code",
   "execution_count": 40,
   "metadata": {},
   "outputs": [],
   "source": [
    "omdb_data.replace({\"Nominated_Emmy\":np.NaN,\n",
    "              \"Nominated_Golden_Globe\":np.NaN,\n",
    "              \"Won_Golden_Globe\":np.NaN,\n",
    "              \"Won_Emmy\":np.NaN},value= 0 ,inplace=True)"
   ]
  },
  {
   "cell_type": "code",
   "execution_count": 42,
   "metadata": {},
   "outputs": [
    {
     "output_type": "execute_result",
     "data": {
      "text/plain": [
       "array([0, '5', '2', '1', '6', '4', '3', '8', '7'], dtype=object)"
      ]
     },
     "metadata": {},
     "execution_count": 42
    }
   ],
   "source": [
    "# 找出不重複字串\n",
    "pd.unique(omdb_data['Nominated_Golden_Globe'])"
   ]
  },
  {
   "cell_type": "code",
   "execution_count": 43,
   "metadata": {},
   "outputs": [
    {
     "output_type": "execute_result",
     "data": {
      "text/plain": [
       "160       9\n",
       "2739      9\n",
       "9574      9\n",
       "12191     8\n",
       "36805     8\n",
       "         ..\n",
       "38283     0\n",
       "38282     0\n",
       "38281     0\n",
       "38280     0\n",
       "110589    0\n",
       "Name: Nominated_Emmy, Length: 93452, dtype: int64"
      ]
     },
     "metadata": {},
     "execution_count": 43
    }
   ],
   "source": [
    "# 轉換dataframe 格式變成 int\n",
    "# 確認是有資料\n",
    "omdb_data['Nominated_Emmy'] = omdb_data['Nominated_Emmy'].astype(int)\n",
    "omdb_data['Nominated_Emmy'].sort_values(ascending=False)"
   ]
  },
  {
   "cell_type": "code",
   "execution_count": 44,
   "metadata": {},
   "outputs": [
    {
     "output_type": "execute_result",
     "data": {
      "text/plain": [
       "286       8\n",
       "3294      8\n",
       "911       7\n",
       "1946      7\n",
       "337       7\n",
       "         ..\n",
       "38130     0\n",
       "38129     0\n",
       "38126     0\n",
       "38125     0\n",
       "110589    0\n",
       "Name: Nominated_Golden_Globe, Length: 93452, dtype: int64"
      ]
     },
     "metadata": {},
     "execution_count": 44
    }
   ],
   "source": [
    "omdb_data['Nominated_Golden_Globe'] = omdb_data['Nominated_Golden_Globe'].astype(int)\n",
    "omdb_data['Nominated_Golden_Globe'].sort_values(ascending=False)"
   ]
  },
  {
   "cell_type": "code",
   "execution_count": 45,
   "metadata": {},
   "outputs": [
    {
     "output_type": "execute_result",
     "data": {
      "text/plain": [
       "1         9\n",
       "7123      9\n",
       "32904     9\n",
       "32        9\n",
       "8394      8\n",
       "         ..\n",
       "38183     0\n",
       "38182     0\n",
       "38181     0\n",
       "38180     0\n",
       "110589    0\n",
       "Name: Won_Emmy, Length: 93452, dtype: int64"
      ]
     },
     "metadata": {},
     "execution_count": 45
    }
   ],
   "source": [
    "omdb_data['Won_Emmy'] = omdb_data['Won_Emmy'].astype(int)\n",
    "omdb_data['Won_Emmy'].sort_values(ascending=False)"
   ]
  },
  {
   "cell_type": "code",
   "execution_count": 46,
   "metadata": {},
   "outputs": [
    {
     "output_type": "execute_result",
     "data": {
      "text/plain": [
       "3272      8\n",
       "2766      8\n",
       "346       8\n",
       "462       6\n",
       "899       6\n",
       "         ..\n",
       "38106     0\n",
       "38105     0\n",
       "38104     0\n",
       "38103     0\n",
       "110589    0\n",
       "Name: Won_Golden_Globe, Length: 93452, dtype: int64"
      ]
     },
     "metadata": {},
     "execution_count": 46
    }
   ],
   "source": [
    "omdb_data['Won_Golden_Globe'] = omdb_data['Won_Golden_Globe'].astype(int)\n",
    "omdb_data['Won_Golden_Globe'].sort_values(ascending=False)"
   ]
  },
  {
   "cell_type": "code",
   "execution_count": 47,
   "metadata": {},
   "outputs": [
    {
     "output_type": "execute_result",
     "data": {
      "text/plain": [
       "                             _id                                  Title  \\\n",
       "0       5fb14937f686757a60e6dc67                               The Boys   \n",
       "1       5fb14937f686757a60e6dc68                         Schitt's Creek   \n",
       "2       5fb14937f686757a60e6dc69                         Emily in Paris   \n",
       "3       5fb14937f686757a60e6dc6a                             This Is Us   \n",
       "4       5fb14937f686757a60e6dc6b                              Cobra Kai   \n",
       "...                          ...                                    ...   \n",
       "110585  5fb149ccf686757a60e88c60          Sesame Street: T is for Train   \n",
       "110586  5fb149ccf686757a60e88c61                               In2Minds   \n",
       "110587  5fb149ccf686757a60e88c62  Aus dem Tagebuch eines Minderjährigen   \n",
       "110588  5fb149ccf686757a60e88c63                         Schreinemakers   \n",
       "110589  5fb149ccf686757a60e88c64                            Zon@ Disney   \n",
       "\n",
       "             Year  Rated Released Runtime                          Genre  \\\n",
       "0           2019–  TV-MA     2019  60 min  Action, Comedy, Crime, Sci-Fi   \n",
       "1       2015–2020  TV-14     2015  22 min                         Comedy   \n",
       "2           2020–  TV-MA     2020  30 min         Comedy, Drama, Romance   \n",
       "3           2016–  TV-14     2016  45 min         Comedy, Drama, Romance   \n",
       "4           2018–  TV-14     2018  30 min   Action, Comedy, Drama, Sport   \n",
       "...           ...    ...      ...     ...                            ...   \n",
       "110585      2018–    NaN     2018     NaN                         Family   \n",
       "110586      2004–    NaN     2004     NaN                         Family   \n",
       "110587      1965–    NaN     1965  25 min                            NaN   \n",
       "110588      2004–    NaN     2004  50 min                      Talk-Show   \n",
       "110589  2002–2007    NaN     2002     NaN                            NaN   \n",
       "\n",
       "       Director                 Writer  \\\n",
       "0           NaN            Eric Kripke   \n",
       "1           NaN  Dan Levy, Eugene Levy   \n",
       "2           NaN            Darren Star   \n",
       "3           NaN           Dan Fogelman   \n",
       "4           NaN                    NaN   \n",
       "...         ...                    ...   \n",
       "110585      NaN                    NaN   \n",
       "110586      NaN                    NaN   \n",
       "110587      NaN                    NaN   \n",
       "110588      NaN                    NaN   \n",
       "110589      NaN                    NaN   \n",
       "\n",
       "                                                     Plot  ...     imdbID  \\\n",
       "0       A group of vigilantes sets out to take down co...  ...  tt1190634   \n",
       "1       When rich video-store magnate Johnny Rose and ...  ...  tt3526078   \n",
       "2       A young American woman from the Midwest is hir...  ...  tt8962124   \n",
       "3       A heartwarming and emotional story about a uni...  ...  tt5555260   \n",
       "4       Decades after their 1984 All Valley Karate Tou...  ...  tt7221388   \n",
       "...                                                   ...  ...        ...   \n",
       "110585                                                NaN  ...  tt8678994   \n",
       "110586                                                NaN  ...  tt4226636   \n",
       "110587                                                NaN  ...  tt0479317   \n",
       "110588                                                NaN  ...  tt1116907   \n",
       "110589                                                NaN  ...  tt1891712   \n",
       "\n",
       "          Type totalSeasons                    Actor_1  \\\n",
       "0       series            3                 Karl Urban   \n",
       "1       series            6                Eugene Levy   \n",
       "2       series         true               Lily Collins   \n",
       "3       series            5           Milo Ventimiglia   \n",
       "4       series            2              William Zabka   \n",
       "...        ...          ...                        ...   \n",
       "110585  series          NaN                        NaN   \n",
       "110586  series            6             Angelo Andreou   \n",
       "110587  series         true            Bernd Siegmundt   \n",
       "110588  series          NaN  Margarethe Schreinemakers   \n",
       "110589  series          NaN               Jimmy Castro   \n",
       "\n",
       "                           Actor_2             Actor_3 Nominated_Emmy  \\\n",
       "0                       Jack Quaid        Antony Starr              1   \n",
       "1                 Catherine O'Hara            Dan Levy              0   \n",
       "2        Philippine Leroy-Beaulieu         Ashley Park              0   \n",
       "3                      Mandy Moore   Sterling K. Brown              0   \n",
       "4                  Tanner Buchanan         Mary Mouser              2   \n",
       "...                            ...                 ...            ...   \n",
       "110585                         NaN                 NaN              0   \n",
       "110586               Rachel Heaton      Ellie Kendrick              0   \n",
       "110587               Jochen Thomas        Helga Raumer              0   \n",
       "110588                         NaN                 NaN              0   \n",
       "110589              Natalia Benito     Sergio Bermúdez              0   \n",
       "\n",
       "       Won_Emmy Nominated_Golden_Globe Won_Golden_Globe  \n",
       "0             0                      0                0  \n",
       "1             9                      0                0  \n",
       "2             0                      0                0  \n",
       "3             0                      0                1  \n",
       "4             0                      0                0  \n",
       "...         ...                    ...              ...  \n",
       "110585        0                      0                0  \n",
       "110586        0                      0                0  \n",
       "110587        0                      0                0  \n",
       "110588        0                      0                0  \n",
       "110589        0                      0                0  \n",
       "\n",
       "[93452 rows x 26 columns]"
      ],
      "text/html": "<div>\n<style scoped>\n    .dataframe tbody tr th:only-of-type {\n        vertical-align: middle;\n    }\n\n    .dataframe tbody tr th {\n        vertical-align: top;\n    }\n\n    .dataframe thead th {\n        text-align: right;\n    }\n</style>\n<table border=\"1\" class=\"dataframe\">\n  <thead>\n    <tr style=\"text-align: right;\">\n      <th></th>\n      <th>_id</th>\n      <th>Title</th>\n      <th>Year</th>\n      <th>Rated</th>\n      <th>Released</th>\n      <th>Runtime</th>\n      <th>Genre</th>\n      <th>Director</th>\n      <th>Writer</th>\n      <th>Plot</th>\n      <th>...</th>\n      <th>imdbID</th>\n      <th>Type</th>\n      <th>totalSeasons</th>\n      <th>Actor_1</th>\n      <th>Actor_2</th>\n      <th>Actor_3</th>\n      <th>Nominated_Emmy</th>\n      <th>Won_Emmy</th>\n      <th>Nominated_Golden_Globe</th>\n      <th>Won_Golden_Globe</th>\n    </tr>\n  </thead>\n  <tbody>\n    <tr>\n      <th>0</th>\n      <td>5fb14937f686757a60e6dc67</td>\n      <td>The Boys</td>\n      <td>2019–</td>\n      <td>TV-MA</td>\n      <td>2019</td>\n      <td>60 min</td>\n      <td>Action, Comedy, Crime, Sci-Fi</td>\n      <td>NaN</td>\n      <td>Eric Kripke</td>\n      <td>A group of vigilantes sets out to take down co...</td>\n      <td>...</td>\n      <td>tt1190634</td>\n      <td>series</td>\n      <td>3</td>\n      <td>Karl Urban</td>\n      <td>Jack Quaid</td>\n      <td>Antony Starr</td>\n      <td>1</td>\n      <td>0</td>\n      <td>0</td>\n      <td>0</td>\n    </tr>\n    <tr>\n      <th>1</th>\n      <td>5fb14937f686757a60e6dc68</td>\n      <td>Schitt's Creek</td>\n      <td>2015–2020</td>\n      <td>TV-14</td>\n      <td>2015</td>\n      <td>22 min</td>\n      <td>Comedy</td>\n      <td>NaN</td>\n      <td>Dan Levy, Eugene Levy</td>\n      <td>When rich video-store magnate Johnny Rose and ...</td>\n      <td>...</td>\n      <td>tt3526078</td>\n      <td>series</td>\n      <td>6</td>\n      <td>Eugene Levy</td>\n      <td>Catherine O'Hara</td>\n      <td>Dan Levy</td>\n      <td>0</td>\n      <td>9</td>\n      <td>0</td>\n      <td>0</td>\n    </tr>\n    <tr>\n      <th>2</th>\n      <td>5fb14937f686757a60e6dc69</td>\n      <td>Emily in Paris</td>\n      <td>2020–</td>\n      <td>TV-MA</td>\n      <td>2020</td>\n      <td>30 min</td>\n      <td>Comedy, Drama, Romance</td>\n      <td>NaN</td>\n      <td>Darren Star</td>\n      <td>A young American woman from the Midwest is hir...</td>\n      <td>...</td>\n      <td>tt8962124</td>\n      <td>series</td>\n      <td>true</td>\n      <td>Lily Collins</td>\n      <td>Philippine Leroy-Beaulieu</td>\n      <td>Ashley Park</td>\n      <td>0</td>\n      <td>0</td>\n      <td>0</td>\n      <td>0</td>\n    </tr>\n    <tr>\n      <th>3</th>\n      <td>5fb14937f686757a60e6dc6a</td>\n      <td>This Is Us</td>\n      <td>2016–</td>\n      <td>TV-14</td>\n      <td>2016</td>\n      <td>45 min</td>\n      <td>Comedy, Drama, Romance</td>\n      <td>NaN</td>\n      <td>Dan Fogelman</td>\n      <td>A heartwarming and emotional story about a uni...</td>\n      <td>...</td>\n      <td>tt5555260</td>\n      <td>series</td>\n      <td>5</td>\n      <td>Milo Ventimiglia</td>\n      <td>Mandy Moore</td>\n      <td>Sterling K. Brown</td>\n      <td>0</td>\n      <td>0</td>\n      <td>0</td>\n      <td>1</td>\n    </tr>\n    <tr>\n      <th>4</th>\n      <td>5fb14937f686757a60e6dc6b</td>\n      <td>Cobra Kai</td>\n      <td>2018–</td>\n      <td>TV-14</td>\n      <td>2018</td>\n      <td>30 min</td>\n      <td>Action, Comedy, Drama, Sport</td>\n      <td>NaN</td>\n      <td>NaN</td>\n      <td>Decades after their 1984 All Valley Karate Tou...</td>\n      <td>...</td>\n      <td>tt7221388</td>\n      <td>series</td>\n      <td>2</td>\n      <td>William Zabka</td>\n      <td>Tanner Buchanan</td>\n      <td>Mary Mouser</td>\n      <td>2</td>\n      <td>0</td>\n      <td>0</td>\n      <td>0</td>\n    </tr>\n    <tr>\n      <th>...</th>\n      <td>...</td>\n      <td>...</td>\n      <td>...</td>\n      <td>...</td>\n      <td>...</td>\n      <td>...</td>\n      <td>...</td>\n      <td>...</td>\n      <td>...</td>\n      <td>...</td>\n      <td>...</td>\n      <td>...</td>\n      <td>...</td>\n      <td>...</td>\n      <td>...</td>\n      <td>...</td>\n      <td>...</td>\n      <td>...</td>\n      <td>...</td>\n      <td>...</td>\n      <td>...</td>\n    </tr>\n    <tr>\n      <th>110585</th>\n      <td>5fb149ccf686757a60e88c60</td>\n      <td>Sesame Street: T is for Train</td>\n      <td>2018–</td>\n      <td>NaN</td>\n      <td>2018</td>\n      <td>NaN</td>\n      <td>Family</td>\n      <td>NaN</td>\n      <td>NaN</td>\n      <td>NaN</td>\n      <td>...</td>\n      <td>tt8678994</td>\n      <td>series</td>\n      <td>NaN</td>\n      <td>NaN</td>\n      <td>NaN</td>\n      <td>NaN</td>\n      <td>0</td>\n      <td>0</td>\n      <td>0</td>\n      <td>0</td>\n    </tr>\n    <tr>\n      <th>110586</th>\n      <td>5fb149ccf686757a60e88c61</td>\n      <td>In2Minds</td>\n      <td>2004–</td>\n      <td>NaN</td>\n      <td>2004</td>\n      <td>NaN</td>\n      <td>Family</td>\n      <td>NaN</td>\n      <td>NaN</td>\n      <td>NaN</td>\n      <td>...</td>\n      <td>tt4226636</td>\n      <td>series</td>\n      <td>6</td>\n      <td>Angelo Andreou</td>\n      <td>Rachel Heaton</td>\n      <td>Ellie Kendrick</td>\n      <td>0</td>\n      <td>0</td>\n      <td>0</td>\n      <td>0</td>\n    </tr>\n    <tr>\n      <th>110587</th>\n      <td>5fb149ccf686757a60e88c62</td>\n      <td>Aus dem Tagebuch eines Minderjährigen</td>\n      <td>1965–</td>\n      <td>NaN</td>\n      <td>1965</td>\n      <td>25 min</td>\n      <td>NaN</td>\n      <td>NaN</td>\n      <td>NaN</td>\n      <td>NaN</td>\n      <td>...</td>\n      <td>tt0479317</td>\n      <td>series</td>\n      <td>true</td>\n      <td>Bernd Siegmundt</td>\n      <td>Jochen Thomas</td>\n      <td>Helga Raumer</td>\n      <td>0</td>\n      <td>0</td>\n      <td>0</td>\n      <td>0</td>\n    </tr>\n    <tr>\n      <th>110588</th>\n      <td>5fb149ccf686757a60e88c63</td>\n      <td>Schreinemakers</td>\n      <td>2004–</td>\n      <td>NaN</td>\n      <td>2004</td>\n      <td>50 min</td>\n      <td>Talk-Show</td>\n      <td>NaN</td>\n      <td>NaN</td>\n      <td>NaN</td>\n      <td>...</td>\n      <td>tt1116907</td>\n      <td>series</td>\n      <td>NaN</td>\n      <td>Margarethe Schreinemakers</td>\n      <td>NaN</td>\n      <td>NaN</td>\n      <td>0</td>\n      <td>0</td>\n      <td>0</td>\n      <td>0</td>\n    </tr>\n    <tr>\n      <th>110589</th>\n      <td>5fb149ccf686757a60e88c64</td>\n      <td>Zon@ Disney</td>\n      <td>2002–2007</td>\n      <td>NaN</td>\n      <td>2002</td>\n      <td>NaN</td>\n      <td>NaN</td>\n      <td>NaN</td>\n      <td>NaN</td>\n      <td>NaN</td>\n      <td>...</td>\n      <td>tt1891712</td>\n      <td>series</td>\n      <td>NaN</td>\n      <td>Jimmy Castro</td>\n      <td>Natalia Benito</td>\n      <td>Sergio Bermúdez</td>\n      <td>0</td>\n      <td>0</td>\n      <td>0</td>\n      <td>0</td>\n    </tr>\n  </tbody>\n</table>\n<p>93452 rows × 26 columns</p>\n</div>"
     },
     "metadata": {},
     "execution_count": 47
    }
   ],
   "source": [
    "omdb_data"
   ]
  },
  {
   "source": [
    "# 處理totalSeasons值 將離群值資料刪除"
   ],
   "cell_type": "markdown",
   "metadata": {}
  },
  {
   "source": [
    "# 人工選取離群值刪除"
   ],
   "cell_type": "markdown",
   "metadata": {}
  },
  {
   "cell_type": "code",
   "execution_count": 51,
   "metadata": {},
   "outputs": [
    {
     "output_type": "execute_result",
     "data": {
      "text/plain": [
       "array(['3', '6', '5', '2', '9', '10', '7', '12', '4', '11', '8', '32',\n",
       "       '14', '24', '19', nan, '15', '17', '22', '21', '20', '13', '23',\n",
       "       '46', '16', '29', '37', '50', '49', '26', '36', '47', '27', '31',\n",
       "       '25', '18', '30', '42', '201', '34', '33', '28', '38', '44', '52',\n",
       "       '59', '48', '35', '45', '55', '39', '51', '141', '43', '102', '71',\n",
       "       '40', '154', '193', '53', '56', '54', '2000', '73', '41', '2013',\n",
       "       '2015', '2018', '2011', '68', '2019', '57', '61', '99', '67',\n",
       "       '2016', '2009', '60'], dtype=object)"
      ]
     },
     "metadata": {},
     "execution_count": 51
    }
   ],
   "source": [
    "pd.unique(omdb_data['totalSeasons'])"
   ]
  },
  {
   "source": [
    "## goal :true &  20<totalSeasons delete"
   ],
   "cell_type": "markdown",
   "metadata": {}
  },
  {
   "cell_type": "code",
   "execution_count": 50,
   "metadata": {},
   "outputs": [],
   "source": [
    "omdb_data.drop(omdb_data[omdb_data.totalSeasons == 'true'].index,inplace=True)"
   ]
  },
  {
   "cell_type": "code",
   "execution_count": 52,
   "metadata": {},
   "outputs": [
    {
     "output_type": "execute_result",
     "data": {
      "text/plain": [
       "array(['3', '6', '5', '2', '9', '10', '7', '12', '4', '11', '8', '32',\n",
       "       '14', '24', '19', nan, '15', '17', '22', '21', '20', '13', '23',\n",
       "       '46', '16', '29', '37', '50', '49', '26', '36', '47', '27', '31',\n",
       "       '25', '18', '30', '42', '201', '34', '33', '28', '38', '44', '52',\n",
       "       '59', '48', '35', '45', '55', '39', '51', '141', '43', '102', '71',\n",
       "       '40', '154', '193', '53', '56', '54', '2000', '73', '41', '2013',\n",
       "       '2015', '2018', '2011', '68', '2019', '57', '61', '99', '67',\n",
       "       '2016', '2009', '60'], dtype=object)"
      ]
     },
     "metadata": {},
     "execution_count": 52
    }
   ],
   "source": [
    "pd.unique(omdb_data['totalSeasons'])"
   ]
  },
  {
   "cell_type": "code",
   "execution_count": 54,
   "metadata": {},
   "outputs": [],
   "source": [
    "omdb_data.replace({\"totalSeasons\":np.NaN},value=0,inplace=True)"
   ]
  },
  {
   "cell_type": "code",
   "execution_count": 55,
   "metadata": {},
   "outputs": [
    {
     "output_type": "execute_result",
     "data": {
      "text/plain": [
       "58789     2019\n",
       "46771     2018\n",
       "89152     2016\n",
       "46253     2015\n",
       "75054     2013\n",
       "          ... \n",
       "54894        0\n",
       "54895        0\n",
       "54900        0\n",
       "54902        0\n",
       "110589       0\n",
       "Name: totalSeasons, Length: 62443, dtype: int64"
      ]
     },
     "metadata": {},
     "execution_count": 55
    }
   ],
   "source": [
    "omdb_data['totalSeasons'] = omdb_data['totalSeasons'].astype(int)\n",
    "omdb_data['totalSeasons'].sort_values(ascending=False)"
   ]
  },
  {
   "cell_type": "code",
   "execution_count": 61,
   "metadata": {},
   "outputs": [],
   "source": [
    "omdb_data = omdb_data[omdb_data.totalSeasons <= 20]"
   ]
  },
  {
   "cell_type": "code",
   "execution_count": 62,
   "metadata": {},
   "outputs": [
    {
     "output_type": "execute_result",
     "data": {
      "text/plain": [
       "                             _id                          Title       Year  \\\n",
       "0       5fb14937f686757a60e6dc67                       The Boys      2019–   \n",
       "1       5fb14937f686757a60e6dc68                 Schitt's Creek  2015–2020   \n",
       "3       5fb14937f686757a60e6dc6a                     This Is Us      2016–   \n",
       "4       5fb14937f686757a60e6dc6b                      Cobra Kai      2018–   \n",
       "5       5fb14937f686757a60e6dc6c                     The Office  2005–2013   \n",
       "...                          ...                            ...        ...   \n",
       "110583  5fb149ccf686757a60e88c5e         Wild Cameramen at Work      2013–   \n",
       "110585  5fb149ccf686757a60e88c60  Sesame Street: T is for Train      2018–   \n",
       "110586  5fb149ccf686757a60e88c61                       In2Minds      2004–   \n",
       "110588  5fb149ccf686757a60e88c63                 Schreinemakers      2004–   \n",
       "110589  5fb149ccf686757a60e88c64                    Zon@ Disney  2002–2007   \n",
       "\n",
       "        Rated Released Runtime                          Genre Director  \\\n",
       "0       TV-MA     2019  60 min  Action, Comedy, Crime, Sci-Fi      NaN   \n",
       "1       TV-14     2015  22 min                         Comedy      NaN   \n",
       "3       TV-14     2016  45 min         Comedy, Drama, Romance      NaN   \n",
       "4       TV-14     2018  30 min   Action, Comedy, Drama, Sport      NaN   \n",
       "5       TV-14     2005  22 min                         Comedy      NaN   \n",
       "...       ...      ...     ...                            ...      ...   \n",
       "110583    NaN     2013  30 min                    Documentary      NaN   \n",
       "110585    NaN     2018     NaN                         Family      NaN   \n",
       "110586    NaN     2004     NaN                         Family      NaN   \n",
       "110588    NaN     2004  50 min                      Talk-Show      NaN   \n",
       "110589    NaN     2002     NaN                            NaN      NaN   \n",
       "\n",
       "                                               Writer  \\\n",
       "0                                         Eric Kripke   \n",
       "1                               Dan Levy, Eugene Levy   \n",
       "3                                        Dan Fogelman   \n",
       "4                                                 NaN   \n",
       "5       Greg Daniels, Ricky Gervais, Stephen Merchant   \n",
       "...                                               ...   \n",
       "110583                                            NaN   \n",
       "110585                                            NaN   \n",
       "110586                                            NaN   \n",
       "110588                                            NaN   \n",
       "110589                                            NaN   \n",
       "\n",
       "                                                     Plot  ...     imdbID  \\\n",
       "0       A group of vigilantes sets out to take down co...  ...  tt1190634   \n",
       "1       When rich video-store magnate Johnny Rose and ...  ...  tt3526078   \n",
       "3       A heartwarming and emotional story about a uni...  ...  tt5555260   \n",
       "4       Decades after their 1984 All Valley Karate Tou...  ...  tt7221388   \n",
       "5       A mockumentary on a group of typical office wo...  ...  tt0386676   \n",
       "...                                                   ...  ...        ...   \n",
       "110583                                                NaN  ...  tt5748402   \n",
       "110585                                                NaN  ...  tt8678994   \n",
       "110586                                                NaN  ...  tt4226636   \n",
       "110588                                                NaN  ...  tt1116907   \n",
       "110589                                                NaN  ...  tt1891712   \n",
       "\n",
       "          Type totalSeasons                    Actor_1            Actor_2  \\\n",
       "0       series            3                 Karl Urban         Jack Quaid   \n",
       "1       series            6                Eugene Levy   Catherine O'Hara   \n",
       "3       series            5           Milo Ventimiglia        Mandy Moore   \n",
       "4       series            2              William Zabka    Tanner Buchanan   \n",
       "5       series            9               Rainn Wilson     John Krasinski   \n",
       "...        ...          ...                        ...                ...   \n",
       "110583  series            0         David Attenborough         Doug Allen   \n",
       "110585  series            0                        NaN                NaN   \n",
       "110586  series            6             Angelo Andreou      Rachel Heaton   \n",
       "110588  series            0  Margarethe Schreinemakers                NaN   \n",
       "110589  series            0               Jimmy Castro     Natalia Benito   \n",
       "\n",
       "                    Actor_3 Nominated_Emmy Won_Emmy  Nominated_Golden_Globe  \\\n",
       "0              Antony Starr              1        0                       0   \n",
       "1                  Dan Levy              0        9                       0   \n",
       "3         Sterling K. Brown              0        0                       0   \n",
       "4               Mary Mouser              2        0                       0   \n",
       "5        Leslie David Baker              0        0                       0   \n",
       "...                     ...            ...      ...                     ...   \n",
       "110583        Doug Anderson              0        0                       0   \n",
       "110585                  NaN              0        0                       0   \n",
       "110586       Ellie Kendrick              0        0                       0   \n",
       "110588                  NaN              0        0                       0   \n",
       "110589      Sergio Bermúdez              0        0                       0   \n",
       "\n",
       "       Won_Golden_Globe  \n",
       "0                     0  \n",
       "1                     0  \n",
       "3                     1  \n",
       "4                     0  \n",
       "5                     1  \n",
       "...                 ...  \n",
       "110583                0  \n",
       "110585                0  \n",
       "110586                0  \n",
       "110588                0  \n",
       "110589                0  \n",
       "\n",
       "[62020 rows x 26 columns]"
      ],
      "text/html": "<div>\n<style scoped>\n    .dataframe tbody tr th:only-of-type {\n        vertical-align: middle;\n    }\n\n    .dataframe tbody tr th {\n        vertical-align: top;\n    }\n\n    .dataframe thead th {\n        text-align: right;\n    }\n</style>\n<table border=\"1\" class=\"dataframe\">\n  <thead>\n    <tr style=\"text-align: right;\">\n      <th></th>\n      <th>_id</th>\n      <th>Title</th>\n      <th>Year</th>\n      <th>Rated</th>\n      <th>Released</th>\n      <th>Runtime</th>\n      <th>Genre</th>\n      <th>Director</th>\n      <th>Writer</th>\n      <th>Plot</th>\n      <th>...</th>\n      <th>imdbID</th>\n      <th>Type</th>\n      <th>totalSeasons</th>\n      <th>Actor_1</th>\n      <th>Actor_2</th>\n      <th>Actor_3</th>\n      <th>Nominated_Emmy</th>\n      <th>Won_Emmy</th>\n      <th>Nominated_Golden_Globe</th>\n      <th>Won_Golden_Globe</th>\n    </tr>\n  </thead>\n  <tbody>\n    <tr>\n      <th>0</th>\n      <td>5fb14937f686757a60e6dc67</td>\n      <td>The Boys</td>\n      <td>2019–</td>\n      <td>TV-MA</td>\n      <td>2019</td>\n      <td>60 min</td>\n      <td>Action, Comedy, Crime, Sci-Fi</td>\n      <td>NaN</td>\n      <td>Eric Kripke</td>\n      <td>A group of vigilantes sets out to take down co...</td>\n      <td>...</td>\n      <td>tt1190634</td>\n      <td>series</td>\n      <td>3</td>\n      <td>Karl Urban</td>\n      <td>Jack Quaid</td>\n      <td>Antony Starr</td>\n      <td>1</td>\n      <td>0</td>\n      <td>0</td>\n      <td>0</td>\n    </tr>\n    <tr>\n      <th>1</th>\n      <td>5fb14937f686757a60e6dc68</td>\n      <td>Schitt's Creek</td>\n      <td>2015–2020</td>\n      <td>TV-14</td>\n      <td>2015</td>\n      <td>22 min</td>\n      <td>Comedy</td>\n      <td>NaN</td>\n      <td>Dan Levy, Eugene Levy</td>\n      <td>When rich video-store magnate Johnny Rose and ...</td>\n      <td>...</td>\n      <td>tt3526078</td>\n      <td>series</td>\n      <td>6</td>\n      <td>Eugene Levy</td>\n      <td>Catherine O'Hara</td>\n      <td>Dan Levy</td>\n      <td>0</td>\n      <td>9</td>\n      <td>0</td>\n      <td>0</td>\n    </tr>\n    <tr>\n      <th>3</th>\n      <td>5fb14937f686757a60e6dc6a</td>\n      <td>This Is Us</td>\n      <td>2016–</td>\n      <td>TV-14</td>\n      <td>2016</td>\n      <td>45 min</td>\n      <td>Comedy, Drama, Romance</td>\n      <td>NaN</td>\n      <td>Dan Fogelman</td>\n      <td>A heartwarming and emotional story about a uni...</td>\n      <td>...</td>\n      <td>tt5555260</td>\n      <td>series</td>\n      <td>5</td>\n      <td>Milo Ventimiglia</td>\n      <td>Mandy Moore</td>\n      <td>Sterling K. Brown</td>\n      <td>0</td>\n      <td>0</td>\n      <td>0</td>\n      <td>1</td>\n    </tr>\n    <tr>\n      <th>4</th>\n      <td>5fb14937f686757a60e6dc6b</td>\n      <td>Cobra Kai</td>\n      <td>2018–</td>\n      <td>TV-14</td>\n      <td>2018</td>\n      <td>30 min</td>\n      <td>Action, Comedy, Drama, Sport</td>\n      <td>NaN</td>\n      <td>NaN</td>\n      <td>Decades after their 1984 All Valley Karate Tou...</td>\n      <td>...</td>\n      <td>tt7221388</td>\n      <td>series</td>\n      <td>2</td>\n      <td>William Zabka</td>\n      <td>Tanner Buchanan</td>\n      <td>Mary Mouser</td>\n      <td>2</td>\n      <td>0</td>\n      <td>0</td>\n      <td>0</td>\n    </tr>\n    <tr>\n      <th>5</th>\n      <td>5fb14937f686757a60e6dc6c</td>\n      <td>The Office</td>\n      <td>2005–2013</td>\n      <td>TV-14</td>\n      <td>2005</td>\n      <td>22 min</td>\n      <td>Comedy</td>\n      <td>NaN</td>\n      <td>Greg Daniels, Ricky Gervais, Stephen Merchant</td>\n      <td>A mockumentary on a group of typical office wo...</td>\n      <td>...</td>\n      <td>tt0386676</td>\n      <td>series</td>\n      <td>9</td>\n      <td>Rainn Wilson</td>\n      <td>John Krasinski</td>\n      <td>Leslie David Baker</td>\n      <td>0</td>\n      <td>0</td>\n      <td>0</td>\n      <td>1</td>\n    </tr>\n    <tr>\n      <th>...</th>\n      <td>...</td>\n      <td>...</td>\n      <td>...</td>\n      <td>...</td>\n      <td>...</td>\n      <td>...</td>\n      <td>...</td>\n      <td>...</td>\n      <td>...</td>\n      <td>...</td>\n      <td>...</td>\n      <td>...</td>\n      <td>...</td>\n      <td>...</td>\n      <td>...</td>\n      <td>...</td>\n      <td>...</td>\n      <td>...</td>\n      <td>...</td>\n      <td>...</td>\n      <td>...</td>\n    </tr>\n    <tr>\n      <th>110583</th>\n      <td>5fb149ccf686757a60e88c5e</td>\n      <td>Wild Cameramen at Work</td>\n      <td>2013–</td>\n      <td>NaN</td>\n      <td>2013</td>\n      <td>30 min</td>\n      <td>Documentary</td>\n      <td>NaN</td>\n      <td>NaN</td>\n      <td>NaN</td>\n      <td>...</td>\n      <td>tt5748402</td>\n      <td>series</td>\n      <td>0</td>\n      <td>David Attenborough</td>\n      <td>Doug Allen</td>\n      <td>Doug Anderson</td>\n      <td>0</td>\n      <td>0</td>\n      <td>0</td>\n      <td>0</td>\n    </tr>\n    <tr>\n      <th>110585</th>\n      <td>5fb149ccf686757a60e88c60</td>\n      <td>Sesame Street: T is for Train</td>\n      <td>2018–</td>\n      <td>NaN</td>\n      <td>2018</td>\n      <td>NaN</td>\n      <td>Family</td>\n      <td>NaN</td>\n      <td>NaN</td>\n      <td>NaN</td>\n      <td>...</td>\n      <td>tt8678994</td>\n      <td>series</td>\n      <td>0</td>\n      <td>NaN</td>\n      <td>NaN</td>\n      <td>NaN</td>\n      <td>0</td>\n      <td>0</td>\n      <td>0</td>\n      <td>0</td>\n    </tr>\n    <tr>\n      <th>110586</th>\n      <td>5fb149ccf686757a60e88c61</td>\n      <td>In2Minds</td>\n      <td>2004–</td>\n      <td>NaN</td>\n      <td>2004</td>\n      <td>NaN</td>\n      <td>Family</td>\n      <td>NaN</td>\n      <td>NaN</td>\n      <td>NaN</td>\n      <td>...</td>\n      <td>tt4226636</td>\n      <td>series</td>\n      <td>6</td>\n      <td>Angelo Andreou</td>\n      <td>Rachel Heaton</td>\n      <td>Ellie Kendrick</td>\n      <td>0</td>\n      <td>0</td>\n      <td>0</td>\n      <td>0</td>\n    </tr>\n    <tr>\n      <th>110588</th>\n      <td>5fb149ccf686757a60e88c63</td>\n      <td>Schreinemakers</td>\n      <td>2004–</td>\n      <td>NaN</td>\n      <td>2004</td>\n      <td>50 min</td>\n      <td>Talk-Show</td>\n      <td>NaN</td>\n      <td>NaN</td>\n      <td>NaN</td>\n      <td>...</td>\n      <td>tt1116907</td>\n      <td>series</td>\n      <td>0</td>\n      <td>Margarethe Schreinemakers</td>\n      <td>NaN</td>\n      <td>NaN</td>\n      <td>0</td>\n      <td>0</td>\n      <td>0</td>\n      <td>0</td>\n    </tr>\n    <tr>\n      <th>110589</th>\n      <td>5fb149ccf686757a60e88c64</td>\n      <td>Zon@ Disney</td>\n      <td>2002–2007</td>\n      <td>NaN</td>\n      <td>2002</td>\n      <td>NaN</td>\n      <td>NaN</td>\n      <td>NaN</td>\n      <td>NaN</td>\n      <td>NaN</td>\n      <td>...</td>\n      <td>tt1891712</td>\n      <td>series</td>\n      <td>0</td>\n      <td>Jimmy Castro</td>\n      <td>Natalia Benito</td>\n      <td>Sergio Bermúdez</td>\n      <td>0</td>\n      <td>0</td>\n      <td>0</td>\n      <td>0</td>\n    </tr>\n  </tbody>\n</table>\n<p>62020 rows × 26 columns</p>\n</div>"
     },
     "metadata": {},
     "execution_count": 62
    }
   ],
   "source": [
    "omdb_data"
   ]
  },
  {
   "cell_type": "code",
   "execution_count": 63,
   "metadata": {},
   "outputs": [
    {
     "output_type": "execute_result",
     "data": {
      "text/plain": [
       "array([ 3,  6,  5,  2,  9, 10,  7, 12,  4, 11,  8, 14, 19,  0, 15, 17, 20,\n",
       "       13, 16, 18])"
      ]
     },
     "metadata": {},
     "execution_count": 63
    }
   ],
   "source": [
    "pd.unique(omdb_data['totalSeasons'])"
   ]
  },
  {
   "source": [
    "## First Transform is finished.\n",
    "\n",
    "## Next Step merge new Feature Product Company "
   ],
   "cell_type": "markdown",
   "metadata": {}
  },
  {
   "cell_type": "code",
   "execution_count": 67,
   "metadata": {},
   "outputs": [],
   "source": [
    "omdb_data.to_csv('First_transform_Omdb.csv',index=False)"
   ]
  },
  {
   "source": [
    "## Output:Fist_transform_Omdb.csv"
   ],
   "cell_type": "markdown",
   "metadata": {}
  }
 ]
}