{
 "metadata": {
  "language_info": {
   "codemirror_mode": {
    "name": "ipython",
    "version": 3
   },
   "file_extension": ".py",
   "mimetype": "text/x-python",
   "name": "python",
   "nbconvert_exporter": "python",
   "pygments_lexer": "ipython3",
   "version": "3.8.5-final"
  },
  "orig_nbformat": 2,
  "kernelspec": {
   "name": "python3",
   "display_name": "Python 3",
   "language": "python"
  }
 },
 "nbformat": 4,
 "nbformat_minor": 2,
 "cells": [
  {
   "cell_type": "code",
   "execution_count": 2,
   "metadata": {},
   "outputs": [],
   "source": [
    "import pandas as pd \n",
    "import numpy as np"
   ]
  },
  {
   "source": [
    "# inpurt : Company_data 、Omdb_data \n",
    "\n",
    "# goal: 將特徵:公司 合併到Omdb_data\n",
    "\n",
    "# Output: Merge_Company"
   ],
   "cell_type": "markdown",
   "metadata": {}
  },
  {
   "cell_type": "code",
   "execution_count": 3,
   "metadata": {},
   "outputs": [
    {
     "output_type": "execute_result",
     "data": {
      "text/plain": [
       "                     Title                      Company1  \\\n",
       "0           Dawson's Creek   Columbia TriStar Television   \n",
       "1          The Mandalorian               Golem Creations   \n",
       "2             Breaking Bad          Gran Via Productions   \n",
       "3            The Blacklist          Universal Television   \n",
       "4                    Wayne              Endeavor Content   \n",
       "...                    ...                           ...   \n",
       "151665  Approach the Bench                 Above Average   \n",
       "151666        Supernatural       Warner Bros. Television   \n",
       "151667      Grey's Anatomy       The Mark Gordon Company   \n",
       "151668     Game of Thrones                Television 360   \n",
       "151669           A tu lado                    Martingala   \n",
       "\n",
       "                         Company2  \n",
       "0        Outerbanks Entertainment  \n",
       "1          Fairview Entertainment  \n",
       "2         High Bridge Productions  \n",
       "3             Davis Entertainment  \n",
       "4                             NaN  \n",
       "...                           ...  \n",
       "151665                        NaN  \n",
       "151666         Kripke Enterprises  \n",
       "151667                 Shondaland  \n",
       "151668      Home Box Office (HBO)  \n",
       "151669                        NaN  \n",
       "\n",
       "[151670 rows x 3 columns]"
      ],
      "text/html": "<div>\n<style scoped>\n    .dataframe tbody tr th:only-of-type {\n        vertical-align: middle;\n    }\n\n    .dataframe tbody tr th {\n        vertical-align: top;\n    }\n\n    .dataframe thead th {\n        text-align: right;\n    }\n</style>\n<table border=\"1\" class=\"dataframe\">\n  <thead>\n    <tr style=\"text-align: right;\">\n      <th></th>\n      <th>Title</th>\n      <th>Company1</th>\n      <th>Company2</th>\n    </tr>\n  </thead>\n  <tbody>\n    <tr>\n      <th>0</th>\n      <td>Dawson's Creek</td>\n      <td>Columbia TriStar Television</td>\n      <td>Outerbanks Entertainment</td>\n    </tr>\n    <tr>\n      <th>1</th>\n      <td>The Mandalorian</td>\n      <td>Golem Creations</td>\n      <td>Fairview Entertainment</td>\n    </tr>\n    <tr>\n      <th>2</th>\n      <td>Breaking Bad</td>\n      <td>Gran Via Productions</td>\n      <td>High Bridge Productions</td>\n    </tr>\n    <tr>\n      <th>3</th>\n      <td>The Blacklist</td>\n      <td>Universal Television</td>\n      <td>Davis Entertainment</td>\n    </tr>\n    <tr>\n      <th>4</th>\n      <td>Wayne</td>\n      <td>Endeavor Content</td>\n      <td>NaN</td>\n    </tr>\n    <tr>\n      <th>...</th>\n      <td>...</td>\n      <td>...</td>\n      <td>...</td>\n    </tr>\n    <tr>\n      <th>151665</th>\n      <td>Approach the Bench</td>\n      <td>Above Average</td>\n      <td>NaN</td>\n    </tr>\n    <tr>\n      <th>151666</th>\n      <td>Supernatural</td>\n      <td>Warner Bros. Television</td>\n      <td>Kripke Enterprises</td>\n    </tr>\n    <tr>\n      <th>151667</th>\n      <td>Grey's Anatomy</td>\n      <td>The Mark Gordon Company</td>\n      <td>Shondaland</td>\n    </tr>\n    <tr>\n      <th>151668</th>\n      <td>Game of Thrones</td>\n      <td>Television 360</td>\n      <td>Home Box Office (HBO)</td>\n    </tr>\n    <tr>\n      <th>151669</th>\n      <td>A tu lado</td>\n      <td>Martingala</td>\n      <td>NaN</td>\n    </tr>\n  </tbody>\n</table>\n<p>151670 rows × 3 columns</p>\n</div>"
     },
     "metadata": {},
     "execution_count": 3
    }
   ],
   "source": [
    "company = pd.read_csv('all_company_first_transform.csv')\n",
    "company"
   ]
  },
  {
   "cell_type": "code",
   "execution_count": 6,
   "metadata": {},
   "outputs": [
    {
     "output_type": "execute_result",
     "data": {
      "text/plain": [
       "                            _id                          Title       Year  \\\n",
       "0      5fb14937f686757a60e6dc67                       The Boys      2019–   \n",
       "1      5fb14937f686757a60e6dc68                 Schitt's Creek  2015–2020   \n",
       "2      5fb14937f686757a60e6dc6a                     This Is Us      2016–   \n",
       "3      5fb14937f686757a60e6dc6b                      Cobra Kai      2018–   \n",
       "4      5fb14937f686757a60e6dc6c                     The Office  2005–2013   \n",
       "...                         ...                            ...        ...   \n",
       "62015  5fb149ccf686757a60e88c5e         Wild Cameramen at Work      2013–   \n",
       "62016  5fb149ccf686757a60e88c60  Sesame Street: T is for Train      2018–   \n",
       "62017  5fb149ccf686757a60e88c61                       In2Minds      2004–   \n",
       "62018  5fb149ccf686757a60e88c63                 Schreinemakers      2004–   \n",
       "62019  5fb149ccf686757a60e88c64                    Zon@ Disney  2002–2007   \n",
       "\n",
       "       Rated  Released Runtime                          Genre Director  \\\n",
       "0      TV-MA      2019  60 min  Action, Comedy, Crime, Sci-Fi      NaN   \n",
       "1      TV-14      2015  22 min                         Comedy      NaN   \n",
       "2      TV-14      2016  45 min         Comedy, Drama, Romance      NaN   \n",
       "3      TV-14      2018  30 min   Action, Comedy, Drama, Sport      NaN   \n",
       "4      TV-14      2005  22 min                         Comedy      NaN   \n",
       "...      ...       ...     ...                            ...      ...   \n",
       "62015    NaN      2013  30 min                    Documentary      NaN   \n",
       "62016    NaN      2018     NaN                         Family      NaN   \n",
       "62017    NaN      2004     NaN                         Family      NaN   \n",
       "62018    NaN      2004  50 min                      Talk-Show      NaN   \n",
       "62019    NaN      2002     NaN                            NaN      NaN   \n",
       "\n",
       "                                              Writer  \\\n",
       "0                                        Eric Kripke   \n",
       "1                              Dan Levy, Eugene Levy   \n",
       "2                                       Dan Fogelman   \n",
       "3                                                NaN   \n",
       "4      Greg Daniels, Ricky Gervais, Stephen Merchant   \n",
       "...                                              ...   \n",
       "62015                                            NaN   \n",
       "62016                                            NaN   \n",
       "62017                                            NaN   \n",
       "62018                                            NaN   \n",
       "62019                                            NaN   \n",
       "\n",
       "                                                    Plot  ...     imdbID  \\\n",
       "0      A group of vigilantes sets out to take down co...  ...  tt1190634   \n",
       "1      When rich video-store magnate Johnny Rose and ...  ...  tt3526078   \n",
       "2      A heartwarming and emotional story about a uni...  ...  tt5555260   \n",
       "3      Decades after their 1984 All Valley Karate Tou...  ...  tt7221388   \n",
       "4      A mockumentary on a group of typical office wo...  ...  tt0386676   \n",
       "...                                                  ...  ...        ...   \n",
       "62015                                                NaN  ...  tt5748402   \n",
       "62016                                                NaN  ...  tt8678994   \n",
       "62017                                                NaN  ...  tt4226636   \n",
       "62018                                                NaN  ...  tt1116907   \n",
       "62019                                                NaN  ...  tt1891712   \n",
       "\n",
       "         Type totalSeasons                    Actor_1            Actor_2  \\\n",
       "0      series            3                 Karl Urban         Jack Quaid   \n",
       "1      series            6                Eugene Levy   Catherine O'Hara   \n",
       "2      series            5           Milo Ventimiglia        Mandy Moore   \n",
       "3      series            2              William Zabka    Tanner Buchanan   \n",
       "4      series            9               Rainn Wilson     John Krasinski   \n",
       "...       ...          ...                        ...                ...   \n",
       "62015  series            0         David Attenborough         Doug Allen   \n",
       "62016  series            0                        NaN                NaN   \n",
       "62017  series            6             Angelo Andreou      Rachel Heaton   \n",
       "62018  series            0  Margarethe Schreinemakers                NaN   \n",
       "62019  series            0               Jimmy Castro     Natalia Benito   \n",
       "\n",
       "                   Actor_3 Nominated_Emmy Won_Emmy  Nominated_Golden_Globe  \\\n",
       "0             Antony Starr              1        0                       0   \n",
       "1                 Dan Levy              0        9                       0   \n",
       "2        Sterling K. Brown              0        0                       0   \n",
       "3              Mary Mouser              2        0                       0   \n",
       "4       Leslie David Baker              0        0                       0   \n",
       "...                    ...            ...      ...                     ...   \n",
       "62015        Doug Anderson              0        0                       0   \n",
       "62016                  NaN              0        0                       0   \n",
       "62017       Ellie Kendrick              0        0                       0   \n",
       "62018                  NaN              0        0                       0   \n",
       "62019      Sergio Bermúdez              0        0                       0   \n",
       "\n",
       "      Won_Golden_Globe  \n",
       "0                    0  \n",
       "1                    0  \n",
       "2                    1  \n",
       "3                    0  \n",
       "4                    1  \n",
       "...                ...  \n",
       "62015                0  \n",
       "62016                0  \n",
       "62017                0  \n",
       "62018                0  \n",
       "62019                0  \n",
       "\n",
       "[62020 rows x 26 columns]"
      ],
      "text/html": "<div>\n<style scoped>\n    .dataframe tbody tr th:only-of-type {\n        vertical-align: middle;\n    }\n\n    .dataframe tbody tr th {\n        vertical-align: top;\n    }\n\n    .dataframe thead th {\n        text-align: right;\n    }\n</style>\n<table border=\"1\" class=\"dataframe\">\n  <thead>\n    <tr style=\"text-align: right;\">\n      <th></th>\n      <th>_id</th>\n      <th>Title</th>\n      <th>Year</th>\n      <th>Rated</th>\n      <th>Released</th>\n      <th>Runtime</th>\n      <th>Genre</th>\n      <th>Director</th>\n      <th>Writer</th>\n      <th>Plot</th>\n      <th>...</th>\n      <th>imdbID</th>\n      <th>Type</th>\n      <th>totalSeasons</th>\n      <th>Actor_1</th>\n      <th>Actor_2</th>\n      <th>Actor_3</th>\n      <th>Nominated_Emmy</th>\n      <th>Won_Emmy</th>\n      <th>Nominated_Golden_Globe</th>\n      <th>Won_Golden_Globe</th>\n    </tr>\n  </thead>\n  <tbody>\n    <tr>\n      <th>0</th>\n      <td>5fb14937f686757a60e6dc67</td>\n      <td>The Boys</td>\n      <td>2019–</td>\n      <td>TV-MA</td>\n      <td>2019</td>\n      <td>60 min</td>\n      <td>Action, Comedy, Crime, Sci-Fi</td>\n      <td>NaN</td>\n      <td>Eric Kripke</td>\n      <td>A group of vigilantes sets out to take down co...</td>\n      <td>...</td>\n      <td>tt1190634</td>\n      <td>series</td>\n      <td>3</td>\n      <td>Karl Urban</td>\n      <td>Jack Quaid</td>\n      <td>Antony Starr</td>\n      <td>1</td>\n      <td>0</td>\n      <td>0</td>\n      <td>0</td>\n    </tr>\n    <tr>\n      <th>1</th>\n      <td>5fb14937f686757a60e6dc68</td>\n      <td>Schitt's Creek</td>\n      <td>2015–2020</td>\n      <td>TV-14</td>\n      <td>2015</td>\n      <td>22 min</td>\n      <td>Comedy</td>\n      <td>NaN</td>\n      <td>Dan Levy, Eugene Levy</td>\n      <td>When rich video-store magnate Johnny Rose and ...</td>\n      <td>...</td>\n      <td>tt3526078</td>\n      <td>series</td>\n      <td>6</td>\n      <td>Eugene Levy</td>\n      <td>Catherine O'Hara</td>\n      <td>Dan Levy</td>\n      <td>0</td>\n      <td>9</td>\n      <td>0</td>\n      <td>0</td>\n    </tr>\n    <tr>\n      <th>2</th>\n      <td>5fb14937f686757a60e6dc6a</td>\n      <td>This Is Us</td>\n      <td>2016–</td>\n      <td>TV-14</td>\n      <td>2016</td>\n      <td>45 min</td>\n      <td>Comedy, Drama, Romance</td>\n      <td>NaN</td>\n      <td>Dan Fogelman</td>\n      <td>A heartwarming and emotional story about a uni...</td>\n      <td>...</td>\n      <td>tt5555260</td>\n      <td>series</td>\n      <td>5</td>\n      <td>Milo Ventimiglia</td>\n      <td>Mandy Moore</td>\n      <td>Sterling K. Brown</td>\n      <td>0</td>\n      <td>0</td>\n      <td>0</td>\n      <td>1</td>\n    </tr>\n    <tr>\n      <th>3</th>\n      <td>5fb14937f686757a60e6dc6b</td>\n      <td>Cobra Kai</td>\n      <td>2018–</td>\n      <td>TV-14</td>\n      <td>2018</td>\n      <td>30 min</td>\n      <td>Action, Comedy, Drama, Sport</td>\n      <td>NaN</td>\n      <td>NaN</td>\n      <td>Decades after their 1984 All Valley Karate Tou...</td>\n      <td>...</td>\n      <td>tt7221388</td>\n      <td>series</td>\n      <td>2</td>\n      <td>William Zabka</td>\n      <td>Tanner Buchanan</td>\n      <td>Mary Mouser</td>\n      <td>2</td>\n      <td>0</td>\n      <td>0</td>\n      <td>0</td>\n    </tr>\n    <tr>\n      <th>4</th>\n      <td>5fb14937f686757a60e6dc6c</td>\n      <td>The Office</td>\n      <td>2005–2013</td>\n      <td>TV-14</td>\n      <td>2005</td>\n      <td>22 min</td>\n      <td>Comedy</td>\n      <td>NaN</td>\n      <td>Greg Daniels, Ricky Gervais, Stephen Merchant</td>\n      <td>A mockumentary on a group of typical office wo...</td>\n      <td>...</td>\n      <td>tt0386676</td>\n      <td>series</td>\n      <td>9</td>\n      <td>Rainn Wilson</td>\n      <td>John Krasinski</td>\n      <td>Leslie David Baker</td>\n      <td>0</td>\n      <td>0</td>\n      <td>0</td>\n      <td>1</td>\n    </tr>\n    <tr>\n      <th>...</th>\n      <td>...</td>\n      <td>...</td>\n      <td>...</td>\n      <td>...</td>\n      <td>...</td>\n      <td>...</td>\n      <td>...</td>\n      <td>...</td>\n      <td>...</td>\n      <td>...</td>\n      <td>...</td>\n      <td>...</td>\n      <td>...</td>\n      <td>...</td>\n      <td>...</td>\n      <td>...</td>\n      <td>...</td>\n      <td>...</td>\n      <td>...</td>\n      <td>...</td>\n      <td>...</td>\n    </tr>\n    <tr>\n      <th>62015</th>\n      <td>5fb149ccf686757a60e88c5e</td>\n      <td>Wild Cameramen at Work</td>\n      <td>2013–</td>\n      <td>NaN</td>\n      <td>2013</td>\n      <td>30 min</td>\n      <td>Documentary</td>\n      <td>NaN</td>\n      <td>NaN</td>\n      <td>NaN</td>\n      <td>...</td>\n      <td>tt5748402</td>\n      <td>series</td>\n      <td>0</td>\n      <td>David Attenborough</td>\n      <td>Doug Allen</td>\n      <td>Doug Anderson</td>\n      <td>0</td>\n      <td>0</td>\n      <td>0</td>\n      <td>0</td>\n    </tr>\n    <tr>\n      <th>62016</th>\n      <td>5fb149ccf686757a60e88c60</td>\n      <td>Sesame Street: T is for Train</td>\n      <td>2018–</td>\n      <td>NaN</td>\n      <td>2018</td>\n      <td>NaN</td>\n      <td>Family</td>\n      <td>NaN</td>\n      <td>NaN</td>\n      <td>NaN</td>\n      <td>...</td>\n      <td>tt8678994</td>\n      <td>series</td>\n      <td>0</td>\n      <td>NaN</td>\n      <td>NaN</td>\n      <td>NaN</td>\n      <td>0</td>\n      <td>0</td>\n      <td>0</td>\n      <td>0</td>\n    </tr>\n    <tr>\n      <th>62017</th>\n      <td>5fb149ccf686757a60e88c61</td>\n      <td>In2Minds</td>\n      <td>2004–</td>\n      <td>NaN</td>\n      <td>2004</td>\n      <td>NaN</td>\n      <td>Family</td>\n      <td>NaN</td>\n      <td>NaN</td>\n      <td>NaN</td>\n      <td>...</td>\n      <td>tt4226636</td>\n      <td>series</td>\n      <td>6</td>\n      <td>Angelo Andreou</td>\n      <td>Rachel Heaton</td>\n      <td>Ellie Kendrick</td>\n      <td>0</td>\n      <td>0</td>\n      <td>0</td>\n      <td>0</td>\n    </tr>\n    <tr>\n      <th>62018</th>\n      <td>5fb149ccf686757a60e88c63</td>\n      <td>Schreinemakers</td>\n      <td>2004–</td>\n      <td>NaN</td>\n      <td>2004</td>\n      <td>50 min</td>\n      <td>Talk-Show</td>\n      <td>NaN</td>\n      <td>NaN</td>\n      <td>NaN</td>\n      <td>...</td>\n      <td>tt1116907</td>\n      <td>series</td>\n      <td>0</td>\n      <td>Margarethe Schreinemakers</td>\n      <td>NaN</td>\n      <td>NaN</td>\n      <td>0</td>\n      <td>0</td>\n      <td>0</td>\n      <td>0</td>\n    </tr>\n    <tr>\n      <th>62019</th>\n      <td>5fb149ccf686757a60e88c64</td>\n      <td>Zon@ Disney</td>\n      <td>2002–2007</td>\n      <td>NaN</td>\n      <td>2002</td>\n      <td>NaN</td>\n      <td>NaN</td>\n      <td>NaN</td>\n      <td>NaN</td>\n      <td>NaN</td>\n      <td>...</td>\n      <td>tt1891712</td>\n      <td>series</td>\n      <td>0</td>\n      <td>Jimmy Castro</td>\n      <td>Natalia Benito</td>\n      <td>Sergio Bermúdez</td>\n      <td>0</td>\n      <td>0</td>\n      <td>0</td>\n      <td>0</td>\n    </tr>\n  </tbody>\n</table>\n<p>62020 rows × 26 columns</p>\n</div>"
     },
     "metadata": {},
     "execution_count": 6
    }
   ],
   "source": [
    "omdb_data = pd.read_csv('Omdb_data_first_transform.csv')\n",
    "omdb_data"
   ]
  },
  {
   "source": [
    "# 資料前處理將要合併欄位做清洗"
   ],
   "cell_type": "markdown",
   "metadata": {}
  },
  {
   "cell_type": "code",
   "execution_count": 10,
   "metadata": {},
   "outputs": [],
   "source": [
    "omdb_data.Title = omdb_data.Title.str.strip()"
   ]
  },
  {
   "cell_type": "code",
   "execution_count": 12,
   "metadata": {},
   "outputs": [],
   "source": [
    "company.Title = company.Title.str.strip()"
   ]
  },
  {
   "source": [
    "# omdb_data為主合併公司"
   ],
   "cell_type": "markdown",
   "metadata": {}
  },
  {
   "cell_type": "code",
   "execution_count": 15,
   "metadata": {},
   "outputs": [],
   "source": [
    "omdb_merge = pd.merge(omdb_data,company,on='Title',how = 'left')"
   ]
  },
  {
   "cell_type": "code",
   "execution_count": 17,
   "metadata": {},
   "outputs": [
    {
     "output_type": "execute_result",
     "data": {
      "text/plain": [
       "8349"
      ]
     },
     "metadata": {},
     "execution_count": 17
    }
   ],
   "source": [
    "omdb_merge['Company1'].isna().sum()"
   ]
  },
  {
   "cell_type": "code",
   "execution_count": null,
   "metadata": {},
   "outputs": [],
   "source": []
  },
  {
   "cell_type": "code",
   "execution_count": 19,
   "metadata": {},
   "outputs": [],
   "source": [
    "# output data\n",
    "omdb_merge.to_csv('Merge_omdbdata_Company.csv',index=False)"
   ]
  },
  {
   "cell_type": "code",
   "execution_count": null,
   "metadata": {},
   "outputs": [],
   "source": []
  }
 ]
}